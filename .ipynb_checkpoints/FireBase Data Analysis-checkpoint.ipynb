{
 "cells": [
  {
   "cell_type": "code",
   "execution_count": null,
   "metadata": {
    "collapsed": true
   },
   "outputs": [],
   "source": [
    "import json\n",
    "import pandas as pd\n",
    "import numpy as np\n",
    "import calendar, datetime\n",
    "import datetime\n",
    "\n",
    "file = 'wemeal-export.json'\n",
    "user_file = 'wemeal-export-users.json'"
   ]
  },
  {
   "cell_type": "code",
   "execution_count": null,
   "metadata": {
    "collapsed": false
   },
   "outputs": [],
   "source": [
    "config = json.loads(open(file).read())\n",
    "config_users = json.loads(open(user_file).read())"
   ]
  },
  {
   "cell_type": "code",
   "execution_count": null,
   "metadata": {
    "collapsed": true
   },
   "outputs": [],
   "source": [
    "import json\n",
    "import pandas as pd\n",
    "import numpy as np\n",
    "import calendar, datetime\n",
    "import datetime\n",
    "\n",
    "def dt(u): return datetime.datetime.utcfromtimestamp(u)\n"
   ]
  },
  {
   "cell_type": "code",
   "execution_count": null,
   "metadata": {
    "collapsed": false
   },
   "outputs": [],
   "source": [
    "#Chats\n",
    "chats = len(config['chatMessages'])\n",
    "users = len(config['users'])\n",
    "meals = len(config['meal'])"
   ]
  },
  {
   "cell_type": "code",
   "execution_count": null,
   "metadata": {
    "collapsed": false
   },
   "outputs": [],
   "source": [
    "print \"There are %s users, %s chats, and %s meals\" % ( users, chats, meals)"
   ]
  },
  {
   "cell_type": "code",
   "execution_count": null,
   "metadata": {
    "collapsed": false
   },
   "outputs": [],
   "source": [
    "all_users= config['users']\n"
   ]
  },
  {
   "cell_type": "code",
   "execution_count": null,
   "metadata": {
    "collapsed": false
   },
   "outputs": [],
   "source": [
    "#List of users. \n",
    "count=0\n",
    "user_list = []\n",
    "\n",
    "for i in all_users:\n",
    "    firstName =  all_users[i][\"firstName\"]\n",
    "    lastName = all_users[i][\"lastName\"]\n",
    "    \n",
    "    \n",
    "\n",
    "    try:\n",
    "    \n",
    "        created = all_users[i][\"Created_at\"]\n",
    "        email = all_users[i][\"email\"]\n",
    "        \n",
    "    except:\n",
    "    \n",
    "        email = \" N/A\"\n",
    "\n",
    "    if created > 1368195200:\n",
    "        count=count+1\n",
    "        print \"%s, %s, %s\" % (lastName, firstName, email)\n",
    "        user_list.append([lastName, firstName, email])\n",
    "df= pd.DataFrame(user_list)\n",
    "df.columns= ['LastName', 'FirstName', 'Email']\n",
    "\n",
    "print \"The total count is %s\" % count\n",
    "df\n"
   ]
  },
  {
   "cell_type": "code",
   "execution_count": null,
   "metadata": {
    "collapsed": false
   },
   "outputs": [],
   "source": [
    "# Who's created meals. \n",
    "meal_table = config['meal']\n",
    "meal_items = config['meal_items']\n",
    "\n",
    "meal_list = []\n",
    "for i in meal_table:\n",
    "    user_id =  meal_table[i]['meal_createdby']\n",
    "    # print user_id\n",
    "    if user_id in user_table.keys():\n",
    "        # print \"HI\"\n",
    "        user_info = user_table[user_id]\n",
    "        #print user_info\n",
    "        firstName =  user_info[\"firstName\"]\n",
    "        lastName = user_info[\"lastName\"]\n",
    "        meal_created = dt(meal_table[i][\"meal_date\"])\n",
    "        potluck = meal_table[i][\"meal_pre_everyonebringfood\"]\n",
    "        \n",
    "        #print \"%s, %s, isPotluck: %s\" % (firstName, lastName, potluck)\n",
    "        meal_list.append([firstName, lastName, potluck,meal_created])\n",
    "df= pd.DataFrame(meal_list)\n",
    "df.columns= ['FirstName', 'LastName', 'isPotluck?','date']\n",
    "df.sort(\"date\")"
   ]
  },
  {
   "cell_type": "code",
   "execution_count": null,
   "metadata": {
    "collapsed": true
   },
   "outputs": [],
   "source": [
    "def get_email_name(user_id):\n",
    "    try: \n",
    "        user_info = user_table[user_id]\n",
    "        firstName =  user_info[\"firstName\"]\n",
    "        lastName = user_info[\"lastName\"]\n",
    "        email = user_info[\"email\"]\n",
    "    except:\n",
    "        firstName = \"No\"\n",
    "        lastName = \"User\"\n",
    "        email = \"\"\n",
    "        \n",
    "    return [email,firstName,lastName]"
   ]
  },
  {
   "cell_type": "code",
   "execution_count": null,
   "metadata": {
    "collapsed": true
   },
   "outputs": [],
   "source": [
    "def get_date(meal_id):\n",
    "    return dt(meal_table[meal_id][\"meal_date\"])\n",
    "\n",
    "def get_address(meal_id):\n",
    "    return meal_table[meal_id][\"meal_location\"]"
   ]
  },
  {
   "cell_type": "code",
   "execution_count": null,
   "metadata": {
    "collapsed": false
   },
   "outputs": [],
   "source": [
    "#Who's bringing what? \n",
    "\n",
    "meal_items = config['meal_items']\n",
    "#given meal:\n",
    "\n",
    "potluck_meal_items = []\n",
    "\n",
    "for i in meal_table:\n",
    "    potluck = meal_table[i][\"meal_pre_everyonebringfood\"]\n",
    "    host = get_name(meal_table[i]['meal_createdby'])\n",
    "    date = get_date(i)\n",
    "    address = get_address(i)\n",
    "    if potluck == \"YES\":\n",
    "        try: \n",
    "            list_of_items = meal_items[i]\n",
    "        except:\n",
    "            \"Skipped \"+i\n",
    "        \n",
    "        for j in list_of_items:\n",
    "            food = j['name']\n",
    "            if j['user_id'] == '' or j['user_id'] == \"\":\n",
    "                firstName = \"null\"\n",
    "                lastName =\"null\"\n",
    "            else: \n",
    "                user_info = user_table[j['user_id']]\n",
    "                #print user_info\n",
    "                firstName =  user_info[\"firstName\"]\n",
    "                lastName = user_info[\"lastName\"]\n",
    "            if firstName == \"null\":\n",
    "                pass\n",
    "            else:\n",
    "                potluck_meal_items.append([firstName,lastName,food,host,date,address]) \n",
    "        "
   ]
  },
  {
   "cell_type": "code",
   "execution_count": null,
   "metadata": {
    "collapsed": false
   },
   "outputs": [],
   "source": [
    "df_items= pd.DataFrame(potluck_meal_items)\n",
    "df_items.columns= ['FirstName', 'LastName', 'Food','Host','Date','Address']\n",
    "df_items.sort('Date') "
   ]
  },
  {
   "cell_type": "code",
   "execution_count": null,
   "metadata": {
    "collapsed": false
   },
   "outputs": [],
   "source": [
    "for i in user_table:\n",
    "    print user_table[i]['firstName'] + ' ' + user_table[i]['lastName'] "
   ]
  },
  {
   "cell_type": "code",
   "execution_count": null,
   "metadata": {
    "collapsed": false
   },
   "outputs": [],
   "source": [
    "def get_date(timestamp):\n",
    "    \n",
    "    return datetime.datetime.fromtimestamp(timestamp).strftime('%Y-%m-%d %H:%M:%S')"
   ]
  },
  {
   "cell_type": "code",
   "execution_count": null,
   "metadata": {
    "collapsed": true
   },
   "outputs": [],
   "source": []
  },
  {
   "cell_type": "code",
   "execution_count": null,
   "metadata": {
    "collapsed": false
   },
   "outputs": [],
   "source": [
    "config_users\n",
    "df = pd.DataFrame(columns=['email','firstname','lastname','created_at'])\n",
    "d = []\n",
    "for i in config_users:\n",
    "    user = config_users[i]\n",
    "    #print user\n",
    "    try:\n",
    "        email=user['email']\n",
    "    except:\n",
    "        email=\"unknown\"\n",
    "    \n",
    "    firstname = user['firstName']\n",
    "    lastname = user['lastName']\n",
    "    try:\n",
    "        created_at = user['Created_at']\n",
    "    except:\n",
    "        created_at = -1\n",
    "    d.append([email,firstname,lastname,created_at,get_date(created_at)])\n",
    "\n"
   ]
  },
  {
   "cell_type": "code",
   "execution_count": null,
   "metadata": {
    "collapsed": false
   },
   "outputs": [],
   "source": [
    "\n",
    "df= pd.DataFrame(d,columns=[\"Email\",\"FirstName\",\"LastName\",\"Create_at\",\"created_at_date\"])"
   ]
  },
  {
   "cell_type": "code",
   "execution_count": null,
   "metadata": {
    "collapsed": false
   },
   "outputs": [],
   "source": [
    "df= pd.DataFrame(d,columns=[\"Email\",\"FirstName\",\"LastName\",\"Create_at\",\"created_at_date\"])\n",
    "df.sort('Create_at',ascending=-1)"
   ]
  },
  {
   "cell_type": "code",
   "execution_count": null,
   "metadata": {
    "collapsed": true
   },
   "outputs": [],
   "source": [
    "\n",
    "timestamp = 1455555555"
   ]
  },
  {
   "cell_type": "code",
   "execution_count": null,
   "metadata": {
    "collapsed": false
   },
   "outputs": [],
   "source": [
    "df[c('email')]"
   ]
  },
  {
   "cell_type": "code",
   "execution_count": null,
   "metadata": {
    "collapsed": false
   },
   "outputs": [],
   "source": [
    "df1= df.loc[250:,[\"Email\",\"FirstName\",\"LastName\"]]"
   ]
  },
  {
   "cell_type": "code",
   "execution_count": null,
   "metadata": {
    "collapsed": false
   },
   "outputs": [],
   "source": [
    "df= pd.DataFrame(d,columns=[\"Email\",\"FirstName\",\"LastName\",\"Create_at\",\"created_at_date\"])\n",
    "df1.to_csv('out.csv', sep='\\t', encoding='utf-8')"
   ]
  },
  {
   "cell_type": "code",
   "execution_count": null,
   "metadata": {
    "collapsed": false
   },
   "outputs": [],
   "source": [
    "# Read the JSON .\n",
    "\n",
    "and_user_file = \"Android-Users-List2.json\"\n",
    "\n",
    "#config = json.loads(open(file).read())\n",
    "config_and_users = json.loads(open(and_user_file).read())"
   ]
  },
  {
   "cell_type": "code",
   "execution_count": null,
   "metadata": {
    "collapsed": true
   },
   "outputs": [],
   "source": [
    "print config_and_users\n"
   ]
  },
  {
   "cell_type": "code",
   "execution_count": null,
   "metadata": {
    "collapsed": false
   },
   "outputs": [],
   "source": [
    "df = pd.DataFrame(columns=['email','firstname','lastname','created_at'])\n",
    "df1 = []\n",
    "\n",
    "for i in config_and_users: \n",
    "    e= config_and_users[i]['email']\n",
    "    f= config_and_users[i]['firstName']\n",
    "    l=config_and_users[i]['lastName']\n",
    "    d=config_and_users[i]['Created_at']\n",
    "    df1.append([e,f,l,d,get_date(d)])\n",
    "\n",
    "df= pd.DataFrame(df1,columns=[\"Email\",\"FirstName\",\"LastName\",\"Create_at\",\"Date\"])\n",
    "df.sort('Create_at',ascending=-1)\n",
    "    \n",
    "df.to_csv('out-android.csv', sep='\\t', encoding='utf-8')"
   ]
  },
  {
   "cell_type": "code",
   "execution_count": null,
   "metadata": {
    "collapsed": true
   },
   "outputs": [],
   "source": [
    "import csv\n",
    "import json\n",
    "import pandas as pd\n",
    "import numpy as np\n",
    "import calendar, datetime\n",
    "import datetime\n",
    "\n",
    "def dt(u): return datetime.datetime.utcfromtimestamp(u)\n"
   ]
  },
  {
   "cell_type": "code",
   "execution_count": null,
   "metadata": {
    "collapsed": true
   },
   "outputs": [],
   "source": [
    "# Read the JSON .\n",
    "\n",
    "#config = json.loads(open(file).read())\n",
    "config_meal_data = json.loads(open(\"wemeal-export-meal.json\").read())\n",
    "config_user_data = json.loads(open(\"wemeal-export-user.json\").read())\n",
    "config_meal_item = json.loads(open(\"wemeal-export-mealitems.json\").read())\n",
    "config_meal_members = json.loads(open(\"wemeal-export-mealmembers.json\").read())\n"
   ]
  },
  {
   "cell_type": "code",
   "execution_count": null,
   "metadata": {
    "collapsed": false
   },
   "outputs": [],
   "source": [
    "ia = iter(config_meal_data)\n",
    "print config_meal_data[ia.next()]\n"
   ]
  },
  {
   "cell_type": "code",
   "execution_count": null,
   "metadata": {
    "collapsed": false
   },
   "outputs": [],
   "source": [
    "#print config_meal_data[ia.next()]\n",
    "\n",
    "def basic_meal_data(config_meal_data, date=1470342643):\n",
    "    df = get_data_after_date(config_meal_data,date)\n",
    "    return df.sort('total_attendees',ascending=-1)\n",
    "\n",
    "def get_data_after_date(config_meal_data,date):\n",
    "    \n",
    "    df1 = []\n",
    "    new_list = []\n",
    "    for i in config_meal_data:\n",
    "        meal_data = config_meal_data[i]\n",
    "        meal_id=i\n",
    "        m_date= meal_data['meal_date']\n",
    "        total_attendees= meal_data['total_attendees']\n",
    "        host = config_meal_data[i]['meal_createdby']\n",
    "        host_name = get_name(host)\n",
    "        if m_date>date:\n",
    "            #print \"%s , %s, Total: %s\" %( host_name, dt(m_date),total_attendees)\n",
    "            df1.append([host_name,meal_id, dt(m_date),int(total_attendees)])\n",
    "    return pd.DataFrame(df1,columns=['meal_date','meal_id','host_name','total_attendees'])"
   ]
  },
  {
   "cell_type": "code",
   "execution_count": null,
   "metadata": {
    "collapsed": false
   },
   "outputs": [],
   "source": [
    "meals_this_week = basic_meal_data(config_meal_data)"
   ]
  },
  {
   "cell_type": "code",
   "execution_count": 135,
   "metadata": {
    "collapsed": true
   },
   "outputs": [],
   "source": [
    "def get_email_name2(user_id):\n",
    "    try: \n",
    "        user_info = config_user_data[user_id]\n",
    "        firstName =  user_info[\"firstName\"]\n",
    "        lastName = user_info[\"lastName\"]\n",
    "        email = user_info[\"email\"]\n",
    "    except:\n",
    "        firstName = \"No\"\n",
    "        lastName = \"User\"\n",
    "        email = \"\"\n",
    "    return \"%s, %s, %s\" % (firstName,lastName, email)"
   ]
  },
  {
   "cell_type": "code",
   "execution_count": null,
   "metadata": {
    "collapsed": false
   },
   "outputs": [],
   "source": [
    "print meals_this_week"
   ]
  },
  {
   "cell_type": "code",
   "execution_count": null,
   "metadata": {
    "collapsed": false
   },
   "outputs": [],
   "source": [
    "user_info = config_user_data['facebook:10206859820997711']\n",
    "print user_info['firstName']"
   ]
  },
  {
   "cell_type": "code",
   "execution_count": 159,
   "metadata": {
    "collapsed": false
   },
   "outputs": [
    {
     "ename": "KeyError",
     "evalue": "'-KLUaeAbMW2XgyORbM5X'",
     "output_type": "error",
     "traceback": [
      "\u001b[0;31m---------------------------------------------------------------------------\u001b[0m",
      "\u001b[0;31mKeyError\u001b[0m                                  Traceback (most recent call last)",
      "\u001b[0;32m<ipython-input-159-9c3b5b134eb7>\u001b[0m in \u001b[0;36m<module>\u001b[0;34m()\u001b[0m\n\u001b[0;32m----> 1\u001b[0;31m \u001b[0;32mprint\u001b[0m \u001b[0mconfig_meal_item\u001b[0m\u001b[0;34m[\u001b[0m\u001b[0;34m'-KLUaeAbMW2XgyORbM5X'\u001b[0m\u001b[0;34m]\u001b[0m\u001b[0;34m\u001b[0m\u001b[0m\n\u001b[0m\u001b[1;32m      2\u001b[0m \u001b[0;34m\u001b[0m\u001b[0m\n",
      "\u001b[0;31mKeyError\u001b[0m: '-KLUaeAbMW2XgyORbM5X'"
     ]
    }
   ],
   "source": [
    "print config_meal_item['-KLUaeAbMW2XgyORbM5X']\n",
    "        "
   ]
  },
  {
   "cell_type": "code",
   "execution_count": 167,
   "metadata": {
    "collapsed": false
   },
   "outputs": [],
   "source": [
    "def list_members_get_members_of_meal(meal_id):\n",
    "    all_meal_info = config_meal_members[meal_id]\n",
    "    return all_meal_info\n",
    "\n",
    "def get_food_item(config_meal_item,meal_id,user_id):\n",
    "    try: \n",
    "        x= config_meal_item[meal_id]\n",
    "        for i in x:\n",
    "            if i['user_id']==user_id:\n",
    "                return i['name']\n",
    "    except:\n",
    "        \"no items\"\n",
    "listitems=[]\n",
    "for i in range(len(meals_this_week)):\n",
    "    \n",
    "    meal_id = meals_this_week['meal_id'][i]\n",
    "    x = list_members_get_members_of_meal(meal_id)\n",
    "    for i in range(len(x)):\n",
    "        #For each user: \n",
    "        meal_id=meal_id\n",
    "        user_id= x[i]['user_id']\n",
    "        name_email=get_email_name2(x[i]['user_id'])\n",
    "        food_item=get_food_item(config_meal_item,meal_id,user_id)\n",
    "        #print \"meal_id: %s, user_id: %s, %s, %s\" %(meal_id,x[i]['user_id'],get_email_name2(x[i]['user_id']),food_item)\n",
    "        listitems.append([meal_id,user_id,name_email,food_item])\n",
    "    # Add what each person is bringing. \n",
    "\n",
    "    \n",
    "    "
   ]
  },
  {
   "cell_type": "code",
   "execution_count": 169,
   "metadata": {
    "collapsed": false
   },
   "outputs": [
    {
     "name": "stdout",
     "output_type": "stream",
     "text": [
      "[[u'-KLUaeAbMW2XgyORbM5X', u'facebook:474352039439987', u'Jhon, Doe, tristate.mteam@gmail.com', None], [u'-KLUaeAbMW2XgyORbM5X', u'3fb5f54c-22e0-4b26-af74-0051b695b6bb', u'pooja, panchal, pooja.panchal@tristatetechnology.co.in', None], [u'-KLUaeAbMW2XgyORbM5X', u'Myc1RLsajjSUe2tXgHKHYYJycfo1', u'Dhaval, Solanki, dhaval.solanki54@gmail.com', None], [u'-KLUaeAbMW2XgyORbM5X', u'facebook:961913797176996', u'Dixit, Hemant, hemantdixit66@yahoo.co.in', None], [u'-KOL02slaKYsya2tQn-w', u'yAABcca5b7VbJQe63QIfqUNCK4U2', u'Eitan, Selter, eitanselter@gmail.com', u'Deli Roll'], [u'-KOL02slaKYsya2tQn-w', u'325ba529-4091-45b8-b1c6-919e8860447f', u'akiva, Tolchin , akivatolchin@gmail.com', u'Salad'], [u'-KOL02slaKYsya2tQn-w', u'2L89P0kyXgUQTYeFj3bNhnnAVjG2', u'Noah, Santacruz, noahssantacruz@gmail.com', u'Wine'], [u'-KOL02slaKYsya2tQn-w', u'bRy9H32HuhbWarSnOniwJ0prsLv1', u'Ilan, Regenbaum, photo.iep@gmail.com', u'Challah'], [u'-KOL02slaKYsya2tQn-w', u'QlxdihXTrfQ4nAbJ4LPGN6jDrUF2', u'Joseph, Katz, katzi18@gmail.com', u'Dessert'], [u'-KOL02slaKYsya2tQn-w', u'', 'No, User, ', u'Vegetable Side'], [u'-KOL02slaKYsya2tQn-w', u'd5ca56c4-ec17-4d73-b702-ab690ee6df96', u'Bracha, Lamm, bracharlamm@gmail.com', u'Starch'], [u'-KOL02slaKYsya2tQn-w', u'bd8a1150-f7c6-4d0f-92d9-60511ecd9b79', u'Daniel , gross , dgross27@gmail.com', None], [u'-KOL02slaKYsya2tQn-w', u'rRjerYTmDdP6C3SDhDeeF6hFE7n1', u'Hillel, Davis, hilldav93@sbcglobal.net', u'super salatim '], [u'-KO7PuiF7FBFsO99er6I', u'a7yD7Twl01X2D8z0JSrFrJrxyy53', u'Saskia, Freud Shtiebel, saskiafreud9@hotmail.com', None], [u'-KOCK0-0U2edRqORg1oq', u'7b464554-f19c-431d-9b16-92d51bceab72', 'No, User, ', None], [u'-KOCK0-0U2edRqORg1oq', u'facebook:10206429657285148', u'Daniel, Reidler, reidlerd@gmail.com', u'Wine'], [u'-KOCK0-0U2edRqORg1oq', u'facebook:10153768104191508', u'Mikhayla, Bibi, mikhaylabb@aol.com', u\"Coup. It's a new game!!!\"], [u'-KOCK0-0U2edRqORg1oq', u'KNeMGcULoAVMADoVcPqKk2K2LSq2', u'Michael, Reidler, mr2703@nyu.edu', None], [u'-KOCK0-0U2edRqORg1oq', u'8f640968-51ce-411c-b267-a3d8a436a352', u'Harry, Reidler, hreidler@aol.com', None], [u'-KOCK0-0U2edRqORg1oq', u'0JXlm6ttgYUALW6n8XeimJm2J2p2', u'Lisa, Elbogen, lsr256@nyu.edu', None], [u'-KOJaWGNE6TtJ1gPbaUo', u'facebook:10205153701596084', u'Aaron, Taylor, aarontaylor613@gmail.com', None], [u'-KOJaWGNE6TtJ1gPbaUo', u'lTWoSoHDHrbJDRgwZ2CH1TrgGp23', u'Zvi, Czermak, zviczermak@hotmail.com', u'shnitzel '], [u'-KOJaWGNE6TtJ1gPbaUo', u'6lkh3PkL6ZN8Ne1KuJF9JUTVfu32', u'Avi, Altschuler, avialt14@gmail.com', u'Wine'], [u'-KOJaWGNE6TtJ1gPbaUo', u'NLctDCBwVmUyIZ5VppPAneSUATF3', u'Dudu, Azaraf, dazaraf@gmail.com', None], [u'-KOJaWGNE6TtJ1gPbaUo', u'8547dc60-0033-4bd3-9813-9c59dd8b1373', u'natania, Feifel, nfeif94@gmail.com', u'Salad'], [u'-KOL1q6IzgstJYdxX2RF', u'yAABcca5b7VbJQe63QIfqUNCK4U2', u'Eitan, Selter, eitanselter@gmail.com', u'Salad'], [u'-KOL1q6IzgstJYdxX2RF', u'bRy9H32HuhbWarSnOniwJ0prsLv1', u'Ilan, Regenbaum, photo.iep@gmail.com', u'Wine'], [u'-KOL1q6IzgstJYdxX2RF', u'QlxdihXTrfQ4nAbJ4LPGN6jDrUF2', u'Joseph, Katz, katzi18@gmail.com', u'Dessert'], [u'-KOL1q6IzgstJYdxX2RF', u'bd8a1150-f7c6-4d0f-92d9-60511ecd9b79', u'Daniel , gross , dgross27@gmail.com', u'keeegel '], [u'-KOL1q6IzgstJYdxX2RF', u'rRjerYTmDdP6C3SDhDeeF6hFE7n1', u'Hillel, Davis, hilldav93@sbcglobal.net', u'Challah'], [u'-KO67jR6tikJm6E2aE7c', u'JXi4Zs9NfqgfIB3qjSQVq6XTOQS2', u'Sophie, Golding, sophs86@hotmail.com', None], [u'-KO9tQluNkAy99rT55wJ', u'KsjImVblx6fh3N8FpqAnBEXoupt2', u'Carmella, Rubin, carmellarubin@gmail.com', u'Wine'], [u'-KO9tQluNkAy99rT55wJ', u'd323183d-4389-4fdd-b010-c7729e250eec', u'Aviva, Strauss , avivastrauss@gmail.com', None], [u'-KO9tQluNkAy99rT55wJ', u'c34e60a6-1b3c-4dba-8103-e06ed121e856', u'Zack, Raab, zackraab107@gmail.com', u'Challah'], [u'-KO9tQluNkAy99rT55wJ', u'dh6sIHVpZBYZFXJSMrD2Nh58r3V2', u'Cal, Shere, theonenottaken@gmail.com', u'Starch'], [u'-KO9ca6gkth-WaRyXvtB', u'rODPhwExMJM9hvwKh5Pv3kRx0TC3', u'Eve, Herman,  ', u'Challah'], [u'-KO9ca6gkth-WaRyXvtB', u's8U7C5isN9PQjmP8wNDh5q36QqX2', u'Melissa, Taub, mtaub6@gmail.com', u'Salad'], [u'-KO9ca6gkth-WaRyXvtB', u'rODPhwExMJM9hvwKh5Pv3kRx0TC3', u'Eve, Herman,  ', u'Challah'], [u'-KO9ca6gkth-WaRyXvtB', u'6TjQgsoBRVU2aAP6bPPpqUF8Z462', u'Ilana, Rosenbaum, rosenbaum.ilana@gmail.com', u'Deli Roll'], [u'-KO9ca6gkth-WaRyXvtB', u'Pt01uv4BatdDER3vChKIN6TbcKd2', u'Miicah, Lehmann, mycello7@gmail.com', u'Wine'], [u'-KO9ca6gkth-WaRyXvtB', u'HyGxEDMr66evphF41RT1GgUx8oZ2', u'Eliel, Epelbaum, eliel.epelbaum@gmail.com', u'Dessert'], [u'-KO9ca6gkth-WaRyXvtB', u'ae78cd2b-de86-4386-a175-391d9de63507', u'Hartley , Schwartz, Hartley.schwartz@gmail.com', u'Chicken #1'], [u'-KO9ca6gkth-WaRyXvtB', u'b3ecaa2c-c3e3-4013-80a0-0466fb54f8c8', u'Shir, Mio , shayna.mio@gmail.com', u'Salatim'], [u'-KO9ca6gkth-WaRyXvtB', u'KLU6owOMeXUeAKQoDcqFVCzjFWt2', u'Yael, Raden, yrad92@gmail.com', u'drinks '], [u'-KO9ca6gkth-WaRyXvtB', u'bf6ba7fe-c8b3-4f11-8f79-706f51cb674e', u'Melissa, adler, adler.melissa@gmail.com', None], [u'-KO9ca6gkth-WaRyXvtB', u'FFyMCY1Hifceq3nRpRrRr4DRnY02', u'Gila, Bublick, ', None], [u'-KOKtmog8QF-1ZPuUfid', u'facebook:10206859820997711', u'\\u05e0\\u05e2\\u05dd, \\u05d8\\u05d5\\u05e7\\u05d9\\u05d9\\u05e2\\u05e8, noman104@gmail.com', u'\\u05d7\\u05dc\\u05d4'], [u'-KOAGvPDkTcHYi6vQwXi', u'Pt01uv4BatdDER3vChKIN6TbcKd2', u'Miicah, Lehmann, mycello7@gmail.com', None], [u'-KOAGvPDkTcHYi6vQwXi', u'b964010c-837f-43fd-8c35-7bb65afe2688', u'Akiva , Adler, keevster123@gmail.com', None], [u'-KOAGvPDkTcHYi6vQwXi', u'f81701d4-f3d8-41c9-b0b9-0dd2116f206a', u'jesse, buchine, jbuchine@gmail.com', u'Cucumbers'], [u'-KOAGvPDkTcHYi6vQwXi', u'ae78cd2b-de86-4386-a175-391d9de63507', u'Hartley , Schwartz, Hartley.schwartz@gmail.com', u'Wine'], [u'-KOAFIuCJD5TgoYQVj5q', u'rODPhwExMJM9hvwKh5Pv3kRx0TC3', u'Eve, Herman,  ', None], [u'-KOAFIuCJD5TgoYQVj5q', u'6TjQgsoBRVU2aAP6bPPpqUF8Z462', u'Ilana, Rosenbaum, rosenbaum.ilana@gmail.com', u'deli roll '], [u'-KOAFIuCJD5TgoYQVj5q', u's8U7C5isN9PQjmP8wNDh5q36QqX2', u'Melissa, Taub, mtaub6@gmail.com', u'Salad'], [u'-KOAFIuCJD5TgoYQVj5q', u'HyGxEDMr66evphF41RT1GgUx8oZ2', u'Eliel, Epelbaum, eliel.epelbaum@gmail.com', u'Salatim'], [u'-KOAFIuCJD5TgoYQVj5q', u'k4CAwU8AtobkQRbOAVKe6ZxeMWB3', u'Mandi, Frenkel, bubbafrenkel@aol.com', u'Challah'], [u'-KOAFIuCJD5TgoYQVj5q', u'facebook:10206429657285148', u'Daniel, Reidler, reidlerd@gmail.com', u'Test item! '], [u'-KOAFIuCJD5TgoYQVj5q', u'60d12288-c51d-4a32-a97b-1fa65cf3cd98', u'Sarah , Marlowe , smarlowe33@aim.com', u'Chicken'], [u'-KODEy1llB-y5wgVqPfZ', u'8d995a82-04a7-4591-8217-fd0249088275', u'Dani, R, dondon914@gmail.com', None], [u'-KOKnxHaNvKt6y23Ge_N', u'2j7adYnDgYbLlUmswlhtxBkdZaj1', u'Shmuel, Apel, shmuelapelis@gmail.com', u'Stew'], [u'-KOKnxHaNvKt6y23Ge_N', u'9m36VbA77aXU0qavt0YUO6Wykd63', u'Yoel, Marmor, yoelatmarmor@gmail.com', None], [u'-KOA39L52FjPTXVww1-N', u'facebook:10153768104191508', u'Mikhayla, Bibi, mikhaylabb@aol.com', u'Wine'], [u'-KOA39L52FjPTXVww1-N', u'facebook:10206429657285148', u'Daniel, Reidler, reidlerd@gmail.com', None], [u'-KOLGl3pq_I8V-2eS9-X', u'facebook:10206859820997711', u'\\u05e0\\u05e2\\u05dd, \\u05d8\\u05d5\\u05e7\\u05d9\\u05d9\\u05e2\\u05e8, noman104@gmail.com', u'pasta'], [u'-KOJ2H-l5mvz7jqIb-ge', u'h285ib66NHPpRkXJt6PrOHCvudl2', u'Lauren, Kessler, leora.chava@gmail.com', u'Challot'], [u'-KOJ2H-l5mvz7jqIb-ge', u'brvijQaV3jgdZqMeh8JJsFCF0mT2', u'Yos, Tarshish, j.tarsh@btinternet.com', u'Meat Main #1'], [u'-KOJ2H-l5mvz7jqIb-ge', u'Fn43yp9rIKUiyATcQddCSBy65rY2', u'Tamar, Saar,  ', u'Salad #1'], [u'-KOJ2H-l5mvz7jqIb-ge', u'RZyFwG9GtBUbGWrzBqYqQevGG1i1', u'Michael, Klinger, klingermichael@hotmail.com', None], [u'-KOJ2H-l5mvz7jqIb-ge', u'l5m9kQQl8pN3ztdG5i3EXdycPO72', u'Michal, Erster, michalerster@gmail.com', u'Salad #2'], [u'-KOJ2H-l5mvz7jqIb-ge', u'dd5792bf-3e99-4719-beeb-b13e9f0138df', u'Dave, Lawrence, daveslaw@gmail.com', None], [u'-KOJ2H-l5mvz7jqIb-ge', u'8ce466b6-60e8-49a3-8cd0-94c641b29f77', u'Yonina, Garfield, yoninagarfield@gmail.com', u'Soft Drinks'], [u'-KOJ2H-l5mvz7jqIb-ge', u'XAqkMPBO3geHALmho4mdUoGSUuC3', u'Jake, Berger, jake.berger@icloud.com', u'Wine #2'], [u'-KOJ2H-l5mvz7jqIb-ge', u'Cq56oNytr6a4BQrBz2YbBDQnhQY2', u'Amanda, Snow, amanda_snow88@hotmail.com', u'Dips'], [u'-KOJ2H-l5mvz7jqIb-ge', u'piWfNlep9CT294xK6U4ijnkRwV62', u'Sarah, Moody, sarah.moody89@gmail.com', u'Wine #1'], [u'-KOJ2H-l5mvz7jqIb-ge', u'T19UcP4kPwTAyI8ul9IYVyus3V42', u'Amy, Kessler, amzamy@gmail.com', u'Juice'], [u'-KOJ2H-l5mvz7jqIb-ge', u'VDKl2fhSo3Qg0Qv5URDprKPgrB33', u'Shira Yael, Naveh,  ', u'Desert'], [u'-KOKi119UDuvyNSrv2oV', u'facebook:10205756575417997', u'Gabi, Weinberg, gabimweinberg@gmail.com', u'tofu stir fry '], [u'-KOKi119UDuvyNSrv2oV', u'ZbaOZHq0e8bbWfW8DaYRjBG9xjm2', u'Ariella, Levine, yasharkoach@gmail.com', u'Veggie #1'], [u'-KOKi119UDuvyNSrv2oV', u'17b4df8c-81d8-4844-bfc2-ff3838b0c864', u'Leora, Katz, avivakatz3@gmail.com', u'dessert #2'], [u'-KOKi119UDuvyNSrv2oV', u'SLkIxrJkwDcerAydN4SsgDhbRmU2', u'Amir, Zinkow, zinkow.2@osu.edu', u'Wine'], [u'-KL_rDOZK5hjWaWBfjmv', u'facebook:474352039439987', u'Jhon, Doe, tristate.mteam@gmail.com', None], [u'-KL_rDOZK5hjWaWBfjmv', u'M0alCRjQCsgZJGgNdWM5KFOeP2f2', u'Ashutosh, Jani,  ', None], [u'-KL_rDOZK5hjWaWBfjmv', u'44f7fab1-d01e-45de-8c2e-64290e030aa9', u'puja, panchal, puja@gmail.com', None], [u'-KL_rDOZK5hjWaWBfjmv', u'facebook:237810366606933', u'Bhakti, Patel,  ', None], [u'-KL_rDOZK5hjWaWBfjmv', u'facebook:961913797176996', u'Dixit, Hemant, hemantdixit66@yahoo.co.in', None], [u'-KOAvgpQe4mWWxyDTRsI', u'facebook:10205861738609331', u'Josh, Nehrer, jmn49109@gmail.com', None], [u'-KOAvgpQe4mWWxyDTRsI', u'EzKrp8fJ8xcZqIqN2KHmzUUChpi2', u'Michelle, Patkin, mpatkin@terpmail.umd.edu', None], [u'-KOAvgpQe4mWWxyDTRsI', u'N0ItsWg483c6VMtjwqy2hkN7Qdh1', u'Noah, Michael, noah4441@gmail.com', None], [u'-KOAvgpQe4mWWxyDTRsI', u'hMLZ19tlTtaEFoMH4Ls2NNZ8rL12', u'Gila, Glazerson,  ', None], [u'-KOAvgpQe4mWWxyDTRsI', u'75702497-5920-4d61-b193-b12718504d3c', u'Scott, Dubinsky, smdubinsky@gmail.com', None], [u'-KOAvgpQe4mWWxyDTRsI', u'vXfjovtxeBYBE2TfgQz0SJQjofy2', u'Joshua, Shore, walltumbler@gmail.com', None], [u'-KOKNp-e2mtrqriURzmE', u'facebook:961913797176996', u'Dixit, Hemant, hemantdixit66@yahoo.co.in', None], [u'-KOKNp-e2mtrqriURzmE', u'facebook:474352039439987', u'Jhon, Doe, tristate.mteam@gmail.com', u'Wine'], [u'-KODX-WmzNS63WP-A_W7', u'facebook:10156934492660582', u'Gabe, Falk, gwf7291@gmail.com', None], [u'-KODX-WmzNS63WP-A_W7', u'fc4974c8-413d-4348-a5d9-b768fa1c9c82', u'Daniel, Boiarsky, boiarsky18@gmail.com', u'Salad'], [u'-KODX-WmzNS63WP-A_W7', u'facebook:10206429657285148', u'Daniel, Reidler, reidlerd@gmail.com', None], [u'-KODX-WmzNS63WP-A_W7', u'b6be7a5f-1ba4-4831-a7ea-f734118b59a0', u'Elan, Kiderman, elan816@gmail.com', None], [u'-KODX-WmzNS63WP-A_W7', u'4ZcSMm2SxkOODIq6jOicq2i8MNE3', u'Adam, Freilich, adam.m.freilich@gmail.com', None], [u'-KODX-WmzNS63WP-A_W7', u'8e631c24-7e26-4ca7-97e1-fd6de5a68b06', u'ron, shap, shapirord+wemeal@gmail.com', None], [u'-KODX-WmzNS63WP-A_W7', u'807893e6-49c1-4129-aa9a-9bfb02976c5e', u'maya, Tsarfati, maytsarfati@yahoo.com', None], [u'-KODX-WmzNS63WP-A_W7', u'6PHIhISEhOTlBIIXXdOqhPanh4d2', u'Seffi, Kogen, seffi.kogen@gmail.com', None], [u'-KODX-WmzNS63WP-A_W7', u'facebook:10205861738609331', u'Josh, Nehrer, jmn49109@gmail.com', None], [u'-KODX-WmzNS63WP-A_W7', u'bd8a1150-f7c6-4d0f-92d9-60511ecd9b79', u'Daniel , gross , dgross27@gmail.com', u'chummus']]\n"
     ]
    }
   ],
   "source": [
    "print listitems\n",
    "df= pd.DataFrame(listitems,columns=[\"meal_id\",\"user-id\",\"name_email\",\"food_item\"])\n",
    "df.to_csv('test-out.csv', sep=',', encoding='utf-8')\n"
   ]
  },
  {
   "cell_type": "code",
   "execution_count": null,
   "metadata": {
    "collapsed": false
   },
   "outputs": [],
   "source": [
    "print config_meal_members[meal_id]"
   ]
  },
  {
   "cell_type": "code",
   "execution_count": null,
   "metadata": {
    "collapsed": true
   },
   "outputs": [],
   "source": []
  }
 ],
 "metadata": {
  "kernelspec": {
   "display_name": "Python 2",
   "language": "python",
   "name": "python2"
  },
  "language_info": {
   "codemirror_mode": {
    "name": "ipython",
    "version": 2
   },
   "file_extension": ".py",
   "mimetype": "text/x-python",
   "name": "python",
   "nbconvert_exporter": "python",
   "pygments_lexer": "ipython2",
   "version": "2.7.11"
  }
 },
 "nbformat": 4,
 "nbformat_minor": 0
}
