{
 "cells": [
  {
   "cell_type": "code",
   "execution_count": 1,
   "metadata": {
    "collapsed": true
   },
   "outputs": [],
   "source": [
    "import json\n",
    "import pandas as pd\n",
    "import numpy as np\n",
    "import calendar, datetime\n",
    "import datetime\n",
    "\n",
    "file = 'wemeal-export.json'\n",
    "user_file = 'wemeal-export-users.json'"
   ]
  },
  {
   "cell_type": "code",
   "execution_count": 2,
   "metadata": {
    "collapsed": false
   },
   "outputs": [
    {
     "ename": "NameError",
     "evalue": "name 'all_users' is not defined",
     "output_type": "error",
     "traceback": [
      "\u001b[0;31m---------------------------------------------------------------------------\u001b[0m",
      "\u001b[0;31mNameError\u001b[0m                                 Traceback (most recent call last)",
      "\u001b[0;32m<ipython-input-2-1c3f6c81caf5>\u001b[0m in \u001b[0;36m<module>\u001b[0;34m()\u001b[0m\n\u001b[1;32m      3\u001b[0m \u001b[0muser_list\u001b[0m \u001b[0;34m=\u001b[0m \u001b[0;34m[\u001b[0m\u001b[0;34m]\u001b[0m\u001b[0;34m\u001b[0m\u001b[0m\n\u001b[1;32m      4\u001b[0m \u001b[0;34m\u001b[0m\u001b[0m\n\u001b[0;32m----> 5\u001b[0;31m \u001b[0;32mfor\u001b[0m \u001b[0mi\u001b[0m \u001b[0;32min\u001b[0m \u001b[0mall_users\u001b[0m\u001b[0;34m:\u001b[0m\u001b[0;34m\u001b[0m\u001b[0m\n\u001b[0m\u001b[1;32m      6\u001b[0m     \u001b[0mfirstName\u001b[0m \u001b[0;34m=\u001b[0m  \u001b[0mall_users\u001b[0m\u001b[0;34m[\u001b[0m\u001b[0mi\u001b[0m\u001b[0;34m]\u001b[0m\u001b[0;34m[\u001b[0m\u001b[0;34m\"firstName\"\u001b[0m\u001b[0;34m]\u001b[0m\u001b[0;34m\u001b[0m\u001b[0m\n\u001b[1;32m      7\u001b[0m     \u001b[0mlastName\u001b[0m \u001b[0;34m=\u001b[0m \u001b[0mall_users\u001b[0m\u001b[0;34m[\u001b[0m\u001b[0mi\u001b[0m\u001b[0;34m]\u001b[0m\u001b[0;34m[\u001b[0m\u001b[0;34m\"lastName\"\u001b[0m\u001b[0;34m]\u001b[0m\u001b[0;34m\u001b[0m\u001b[0m\n",
      "\u001b[0;31mNameError\u001b[0m: name 'all_users' is not defined"
     ]
    }
   ],
   "source": [
    "#List of users. \n",
    "count=0\n",
    "user_list = []\n",
    "\n",
    "for i in all_users:\n",
    "    firstName =  all_users[i][\"firstName\"]\n",
    "    lastName = all_users[i][\"lastName\"]\n",
    "    \n",
    "    \n",
    "\n",
    "    try:\n",
    "    \n",
    "        created = all_users[i][\"Created_at\"]\n",
    "        email = all_users[i][\"email\"]\n",
    "        \n",
    "    except:\n",
    "    \n",
    "        email = \" N/A\"\n",
    "\n",
    "    if created > 1368195200:\n",
    "        count=count+1\n",
    "        print \"%s, %s, %s\" % (lastName, firstName, email)\n",
    "        user_list.append([lastName, firstName, email])\n",
    "df= pd.DataFrame(user_list)\n",
    "df.columns= ['LastName', 'FirstName', 'Email']\n",
    "\n",
    "print \"The total count is %s\" % count\n",
    "df\n"
   ]
  },
  {
   "cell_type": "code",
   "execution_count": 3,
   "metadata": {
    "collapsed": false
   },
   "outputs": [
    {
     "ename": "NameError",
     "evalue": "name 'config' is not defined",
     "output_type": "error",
     "traceback": [
      "\u001b[0;31m---------------------------------------------------------------------------\u001b[0m",
      "\u001b[0;31mNameError\u001b[0m                                 Traceback (most recent call last)",
      "\u001b[0;32m<ipython-input-3-22ce4e228691>\u001b[0m in \u001b[0;36m<module>\u001b[0;34m()\u001b[0m\n\u001b[1;32m      1\u001b[0m \u001b[0;31m# Who's created meals.\u001b[0m\u001b[0;34m\u001b[0m\u001b[0;34m\u001b[0m\u001b[0m\n\u001b[0;32m----> 2\u001b[0;31m \u001b[0mmeal_table\u001b[0m \u001b[0;34m=\u001b[0m \u001b[0mconfig\u001b[0m\u001b[0;34m[\u001b[0m\u001b[0;34m'meal'\u001b[0m\u001b[0;34m]\u001b[0m\u001b[0;34m\u001b[0m\u001b[0m\n\u001b[0m\u001b[1;32m      3\u001b[0m \u001b[0mmeal_items\u001b[0m \u001b[0;34m=\u001b[0m \u001b[0mconfig\u001b[0m\u001b[0;34m[\u001b[0m\u001b[0;34m'meal_items'\u001b[0m\u001b[0;34m]\u001b[0m\u001b[0;34m\u001b[0m\u001b[0m\n\u001b[1;32m      4\u001b[0m \u001b[0;34m\u001b[0m\u001b[0m\n\u001b[1;32m      5\u001b[0m \u001b[0mmeal_list\u001b[0m \u001b[0;34m=\u001b[0m \u001b[0;34m[\u001b[0m\u001b[0;34m]\u001b[0m\u001b[0;34m\u001b[0m\u001b[0m\n",
      "\u001b[0;31mNameError\u001b[0m: name 'config' is not defined"
     ]
    }
   ],
   "source": [
    "# Who's created meals. \n",
    "meal_table = config['meal']\n",
    "meal_items = config['meal_items']\n",
    "\n",
    "meal_list = []\n",
    "for i in meal_table:\n",
    "    user_id =  meal_table[i]['meal_createdby']\n",
    "    # print user_id\n",
    "    if user_id in user_table.keys():\n",
    "        # print \"HI\"\n",
    "        user_info = user_table[user_id]\n",
    "        #print user_info\n",
    "        firstName =  user_info[\"firstName\"]\n",
    "        lastName = user_info[\"lastName\"]\n",
    "        meal_created = dt(meal_table[i][\"meal_date\"])\n",
    "        potluck = meal_table[i][\"meal_pre_everyonebringfood\"]\n",
    "        \n",
    "        #print \"%s, %s, isPotluck: %s\" % (firstName, lastName, potluck)\n",
    "        meal_list.append([firstName, lastName, potluck,meal_created])\n",
    "df= pd.DataFrame(meal_list)\n",
    "df.columns= ['FirstName', 'LastName', 'isPotluck?','date']\n",
    "df.sort(\"date\")"
   ]
  },
  {
   "cell_type": "code",
   "execution_count": 4,
   "metadata": {
    "collapsed": true
   },
   "outputs": [],
   "source": [
    "def get_date(meal_id):\n",
    "    return dt(meal_table[meal_id][\"meal_date\"])\n",
    "\n",
    "def get_address(meal_id):\n",
    "    return meal_table[meal_id][\"meal_location\"]"
   ]
  },
  {
   "cell_type": "code",
   "execution_count": 5,
   "metadata": {
    "collapsed": false
   },
   "outputs": [
    {
     "ename": "NameError",
     "evalue": "name 'config' is not defined",
     "output_type": "error",
     "traceback": [
      "\u001b[0;31m---------------------------------------------------------------------------\u001b[0m",
      "\u001b[0;31mNameError\u001b[0m                                 Traceback (most recent call last)",
      "\u001b[0;32m<ipython-input-5-c922d8808ba1>\u001b[0m in \u001b[0;36m<module>\u001b[0;34m()\u001b[0m\n\u001b[1;32m      1\u001b[0m \u001b[0;31m#Who's bringing what?\u001b[0m\u001b[0;34m\u001b[0m\u001b[0;34m\u001b[0m\u001b[0m\n\u001b[1;32m      2\u001b[0m \u001b[0;34m\u001b[0m\u001b[0m\n\u001b[0;32m----> 3\u001b[0;31m \u001b[0mmeal_items\u001b[0m \u001b[0;34m=\u001b[0m \u001b[0mconfig\u001b[0m\u001b[0;34m[\u001b[0m\u001b[0;34m'meal_items'\u001b[0m\u001b[0;34m]\u001b[0m\u001b[0;34m\u001b[0m\u001b[0m\n\u001b[0m\u001b[1;32m      4\u001b[0m \u001b[0;31m#given meal:\u001b[0m\u001b[0;34m\u001b[0m\u001b[0;34m\u001b[0m\u001b[0m\n\u001b[1;32m      5\u001b[0m \u001b[0;34m\u001b[0m\u001b[0m\n",
      "\u001b[0;31mNameError\u001b[0m: name 'config' is not defined"
     ]
    }
   ],
   "source": [
    "#Who's bringing what? \n",
    "\n",
    "meal_items = config['meal_items']\n",
    "#given meal:\n",
    "\n",
    "potluck_meal_items = []\n",
    "\n",
    "for i in meal_table:\n",
    "    potluck = meal_table[i][\"meal_pre_everyonebringfood\"]\n",
    "    host = get_name(meal_table[i]['meal_createdby'])\n",
    "    date = get_date(i)\n",
    "    address = get_address(i)\n",
    "    if potluck == \"YES\":\n",
    "        try: \n",
    "            list_of_items = meal_items[i]\n",
    "        except:\n",
    "            \"Skipped \"+i\n",
    "        \n",
    "        for j in list_of_items:\n",
    "            food = j['name']\n",
    "            if j['user_id'] == '' or j['user_id'] == \"\":\n",
    "                firstName = \"null\"\n",
    "                lastName =\"null\"\n",
    "            else: \n",
    "                user_info = user_table[j['user_id']]\n",
    "                #print user_info\n",
    "                firstName =  user_info[\"firstName\"]\n",
    "                lastName = user_info[\"lastName\"]\n",
    "            if firstName == \"null\":\n",
    "                pass\n",
    "            else:\n",
    "                potluck_meal_items.append([firstName,lastName,food,host,date,address]) \n",
    "        "
   ]
  },
  {
   "cell_type": "code",
   "execution_count": 6,
   "metadata": {
    "collapsed": false
   },
   "outputs": [],
   "source": [
    "def get_dateformat(timestamp):\n",
    "    return datetime.datetime.fromtimestamp(timestamp).strftime('%Y-%m-%d %H:%M:%S')"
   ]
  },
  {
   "cell_type": "code",
   "execution_count": null,
   "metadata": {
    "collapsed": true
   },
   "outputs": [],
   "source": []
  },
  {
   "cell_type": "code",
   "execution_count": 7,
   "metadata": {
    "collapsed": false
   },
   "outputs": [
    {
     "ename": "NameError",
     "evalue": "name 'config_users' is not defined",
     "output_type": "error",
     "traceback": [
      "\u001b[0;31m---------------------------------------------------------------------------\u001b[0m",
      "\u001b[0;31mNameError\u001b[0m                                 Traceback (most recent call last)",
      "\u001b[0;32m<ipython-input-7-ecda61d57564>\u001b[0m in \u001b[0;36m<module>\u001b[0;34m()\u001b[0m\n\u001b[0;32m----> 1\u001b[0;31m \u001b[0mconfig_users\u001b[0m\u001b[0;34m\u001b[0m\u001b[0m\n\u001b[0m\u001b[1;32m      2\u001b[0m \u001b[0mdf\u001b[0m \u001b[0;34m=\u001b[0m \u001b[0mpd\u001b[0m\u001b[0;34m.\u001b[0m\u001b[0mDataFrame\u001b[0m\u001b[0;34m(\u001b[0m\u001b[0mcolumns\u001b[0m\u001b[0;34m=\u001b[0m\u001b[0;34m[\u001b[0m\u001b[0;34m'email'\u001b[0m\u001b[0;34m,\u001b[0m\u001b[0;34m'firstname'\u001b[0m\u001b[0;34m,\u001b[0m\u001b[0;34m'lastname'\u001b[0m\u001b[0;34m,\u001b[0m\u001b[0;34m'created_at'\u001b[0m\u001b[0;34m]\u001b[0m\u001b[0;34m)\u001b[0m\u001b[0;34m\u001b[0m\u001b[0m\n\u001b[1;32m      3\u001b[0m \u001b[0md\u001b[0m \u001b[0;34m=\u001b[0m \u001b[0;34m[\u001b[0m\u001b[0;34m]\u001b[0m\u001b[0;34m\u001b[0m\u001b[0m\n\u001b[1;32m      4\u001b[0m \u001b[0;32mfor\u001b[0m \u001b[0mi\u001b[0m \u001b[0;32min\u001b[0m \u001b[0mconfig_users\u001b[0m\u001b[0;34m:\u001b[0m\u001b[0;34m\u001b[0m\u001b[0m\n\u001b[1;32m      5\u001b[0m     \u001b[0muser\u001b[0m \u001b[0;34m=\u001b[0m \u001b[0mconfig_users\u001b[0m\u001b[0;34m[\u001b[0m\u001b[0mi\u001b[0m\u001b[0;34m]\u001b[0m\u001b[0;34m\u001b[0m\u001b[0m\n",
      "\u001b[0;31mNameError\u001b[0m: name 'config_users' is not defined"
     ]
    }
   ],
   "source": [
    "config_users\n",
    "df = pd.DataFrame(columns=['email','firstname','lastname','created_at'])\n",
    "d = []\n",
    "for i in config_users:\n",
    "    user = config_users[i]\n",
    "    #print user\n",
    "    try:\n",
    "        email=user['email']\n",
    "    except:\n",
    "        email=\"unknown\"\n",
    "    \n",
    "    firstname = user['firstName']\n",
    "    lastname = user['lastName']\n",
    "    try:\n",
    "        created_at = user['Created_at']\n",
    "    except:\n",
    "        created_at = -1\n",
    "    d.append([email,firstname,lastname,created_at,get_date(created_at)])\n",
    "\n"
   ]
  },
  {
   "cell_type": "code",
   "execution_count": 8,
   "metadata": {
    "collapsed": false
   },
   "outputs": [
    {
     "ename": "NameError",
     "evalue": "name 'd' is not defined",
     "output_type": "error",
     "traceback": [
      "\u001b[0;31m---------------------------------------------------------------------------\u001b[0m",
      "\u001b[0;31mNameError\u001b[0m                                 Traceback (most recent call last)",
      "\u001b[0;32m<ipython-input-8-e931af2fcc63>\u001b[0m in \u001b[0;36m<module>\u001b[0;34m()\u001b[0m\n\u001b[1;32m      1\u001b[0m \u001b[0;34m\u001b[0m\u001b[0m\n\u001b[0;32m----> 2\u001b[0;31m \u001b[0mdf\u001b[0m\u001b[0;34m=\u001b[0m \u001b[0mpd\u001b[0m\u001b[0;34m.\u001b[0m\u001b[0mDataFrame\u001b[0m\u001b[0;34m(\u001b[0m\u001b[0md\u001b[0m\u001b[0;34m,\u001b[0m\u001b[0mcolumns\u001b[0m\u001b[0;34m=\u001b[0m\u001b[0;34m[\u001b[0m\u001b[0;34m\"Email\"\u001b[0m\u001b[0;34m,\u001b[0m\u001b[0;34m\"FirstName\"\u001b[0m\u001b[0;34m,\u001b[0m\u001b[0;34m\"LastName\"\u001b[0m\u001b[0;34m,\u001b[0m\u001b[0;34m\"Create_at\"\u001b[0m\u001b[0;34m,\u001b[0m\u001b[0;34m\"created_at_date\"\u001b[0m\u001b[0;34m]\u001b[0m\u001b[0;34m)\u001b[0m\u001b[0;34m\u001b[0m\u001b[0m\n\u001b[0m",
      "\u001b[0;31mNameError\u001b[0m: name 'd' is not defined"
     ]
    }
   ],
   "source": [
    "\n",
    "df= pd.DataFrame(d,columns=[\"Email\",\"FirstName\",\"LastName\",\"Create_at\",\"created_at_date\"])"
   ]
  },
  {
   "cell_type": "code",
   "execution_count": 9,
   "metadata": {
    "collapsed": false
   },
   "outputs": [
    {
     "ename": "NameError",
     "evalue": "name 'd' is not defined",
     "output_type": "error",
     "traceback": [
      "\u001b[0;31m---------------------------------------------------------------------------\u001b[0m",
      "\u001b[0;31mNameError\u001b[0m                                 Traceback (most recent call last)",
      "\u001b[0;32m<ipython-input-9-1ae6a22189be>\u001b[0m in \u001b[0;36m<module>\u001b[0;34m()\u001b[0m\n\u001b[0;32m----> 1\u001b[0;31m \u001b[0mdf\u001b[0m\u001b[0;34m=\u001b[0m \u001b[0mpd\u001b[0m\u001b[0;34m.\u001b[0m\u001b[0mDataFrame\u001b[0m\u001b[0;34m(\u001b[0m\u001b[0md\u001b[0m\u001b[0;34m,\u001b[0m\u001b[0mcolumns\u001b[0m\u001b[0;34m=\u001b[0m\u001b[0;34m[\u001b[0m\u001b[0;34m\"Email\"\u001b[0m\u001b[0;34m,\u001b[0m\u001b[0;34m\"FirstName\"\u001b[0m\u001b[0;34m,\u001b[0m\u001b[0;34m\"LastName\"\u001b[0m\u001b[0;34m,\u001b[0m\u001b[0;34m\"Create_at\"\u001b[0m\u001b[0;34m,\u001b[0m\u001b[0;34m\"created_at_date\"\u001b[0m\u001b[0;34m]\u001b[0m\u001b[0;34m)\u001b[0m\u001b[0;34m\u001b[0m\u001b[0m\n\u001b[0m\u001b[1;32m      2\u001b[0m \u001b[0mdf\u001b[0m\u001b[0;34m.\u001b[0m\u001b[0msort\u001b[0m\u001b[0;34m(\u001b[0m\u001b[0;34m'Create_at'\u001b[0m\u001b[0;34m,\u001b[0m\u001b[0mascending\u001b[0m\u001b[0;34m=\u001b[0m\u001b[0;34m-\u001b[0m\u001b[0;36m1\u001b[0m\u001b[0;34m)\u001b[0m\u001b[0;34m\u001b[0m\u001b[0m\n",
      "\u001b[0;31mNameError\u001b[0m: name 'd' is not defined"
     ]
    }
   ],
   "source": [
    "df= pd.DataFrame(d,columns=[\"Email\",\"FirstName\",\"LastName\",\"Create_at\",\"created_at_date\"])\n",
    "df.sort('Create_at',ascending=-1)"
   ]
  },
  {
   "cell_type": "code",
   "execution_count": 10,
   "metadata": {
    "collapsed": true
   },
   "outputs": [],
   "source": [
    "\n",
    "timestamp = 1455555555"
   ]
  },
  {
   "cell_type": "code",
   "execution_count": 11,
   "metadata": {
    "collapsed": false
   },
   "outputs": [
    {
     "ename": "NameError",
     "evalue": "name 'df' is not defined",
     "output_type": "error",
     "traceback": [
      "\u001b[0;31m---------------------------------------------------------------------------\u001b[0m",
      "\u001b[0;31mNameError\u001b[0m                                 Traceback (most recent call last)",
      "\u001b[0;32m<ipython-input-11-b64b17f18511>\u001b[0m in \u001b[0;36m<module>\u001b[0;34m()\u001b[0m\n\u001b[0;32m----> 1\u001b[0;31m \u001b[0mdf\u001b[0m\u001b[0;34m[\u001b[0m\u001b[0mc\u001b[0m\u001b[0;34m(\u001b[0m\u001b[0;34m'email'\u001b[0m\u001b[0;34m)\u001b[0m\u001b[0;34m]\u001b[0m\u001b[0;34m\u001b[0m\u001b[0m\n\u001b[0m",
      "\u001b[0;31mNameError\u001b[0m: name 'df' is not defined"
     ]
    }
   ],
   "source": [
    "df[c('email')]"
   ]
  },
  {
   "cell_type": "code",
   "execution_count": 12,
   "metadata": {
    "collapsed": false
   },
   "outputs": [
    {
     "ename": "NameError",
     "evalue": "name 'df' is not defined",
     "output_type": "error",
     "traceback": [
      "\u001b[0;31m---------------------------------------------------------------------------\u001b[0m",
      "\u001b[0;31mNameError\u001b[0m                                 Traceback (most recent call last)",
      "\u001b[0;32m<ipython-input-12-0d6bfef93e2a>\u001b[0m in \u001b[0;36m<module>\u001b[0;34m()\u001b[0m\n\u001b[0;32m----> 1\u001b[0;31m \u001b[0mdf1\u001b[0m\u001b[0;34m=\u001b[0m \u001b[0mdf\u001b[0m\u001b[0;34m.\u001b[0m\u001b[0mloc\u001b[0m\u001b[0;34m[\u001b[0m\u001b[0;36m250\u001b[0m\u001b[0;34m:\u001b[0m\u001b[0;34m,\u001b[0m\u001b[0;34m[\u001b[0m\u001b[0;34m\"Email\"\u001b[0m\u001b[0;34m,\u001b[0m\u001b[0;34m\"FirstName\"\u001b[0m\u001b[0;34m,\u001b[0m\u001b[0;34m\"LastName\"\u001b[0m\u001b[0;34m]\u001b[0m\u001b[0;34m]\u001b[0m\u001b[0;34m\u001b[0m\u001b[0m\n\u001b[0m",
      "\u001b[0;31mNameError\u001b[0m: name 'df' is not defined"
     ]
    }
   ],
   "source": [
    "df1= df.loc[250:,[\"Email\",\"FirstName\",\"LastName\"]]"
   ]
  },
  {
   "cell_type": "code",
   "execution_count": 13,
   "metadata": {
    "collapsed": false
   },
   "outputs": [
    {
     "ename": "NameError",
     "evalue": "name 'd' is not defined",
     "output_type": "error",
     "traceback": [
      "\u001b[0;31m---------------------------------------------------------------------------\u001b[0m",
      "\u001b[0;31mNameError\u001b[0m                                 Traceback (most recent call last)",
      "\u001b[0;32m<ipython-input-13-1c38749dc3fc>\u001b[0m in \u001b[0;36m<module>\u001b[0;34m()\u001b[0m\n\u001b[0;32m----> 1\u001b[0;31m \u001b[0mdf\u001b[0m\u001b[0;34m=\u001b[0m \u001b[0mpd\u001b[0m\u001b[0;34m.\u001b[0m\u001b[0mDataFrame\u001b[0m\u001b[0;34m(\u001b[0m\u001b[0md\u001b[0m\u001b[0;34m,\u001b[0m\u001b[0mcolumns\u001b[0m\u001b[0;34m=\u001b[0m\u001b[0;34m[\u001b[0m\u001b[0;34m\"Email\"\u001b[0m\u001b[0;34m,\u001b[0m\u001b[0;34m\"FirstName\"\u001b[0m\u001b[0;34m,\u001b[0m\u001b[0;34m\"LastName\"\u001b[0m\u001b[0;34m,\u001b[0m\u001b[0;34m\"Create_at\"\u001b[0m\u001b[0;34m,\u001b[0m\u001b[0;34m\"created_at_date\"\u001b[0m\u001b[0;34m]\u001b[0m\u001b[0;34m)\u001b[0m\u001b[0;34m\u001b[0m\u001b[0m\n\u001b[0m\u001b[1;32m      2\u001b[0m \u001b[0mdf1\u001b[0m\u001b[0;34m.\u001b[0m\u001b[0mto_csv\u001b[0m\u001b[0;34m(\u001b[0m\u001b[0;34m'out.csv'\u001b[0m\u001b[0;34m,\u001b[0m \u001b[0msep\u001b[0m\u001b[0;34m=\u001b[0m\u001b[0;34m'\\t'\u001b[0m\u001b[0;34m,\u001b[0m \u001b[0mencoding\u001b[0m\u001b[0;34m=\u001b[0m\u001b[0;34m'utf-8'\u001b[0m\u001b[0;34m)\u001b[0m\u001b[0;34m\u001b[0m\u001b[0m\n",
      "\u001b[0;31mNameError\u001b[0m: name 'd' is not defined"
     ]
    }
   ],
   "source": [
    "df= pd.DataFrame(d,columns=[\"Email\",\"FirstName\",\"LastName\",\"Create_at\",\"created_at_date\"])\n",
    "df1.to_csv('out.csv', sep='\\t', encoding='utf-8')"
   ]
  },
  {
   "cell_type": "code",
   "execution_count": 14,
   "metadata": {
    "collapsed": false
   },
   "outputs": [],
   "source": [
    "# Read the JSON .\n",
    "\n",
    "all_user_file = \"wemeal-users-aug5.json\"\n",
    "\n",
    "#config = json.loads(open(file).read())\n",
    "config_and_users = json.loads(open(all_user_file).read())"
   ]
  },
  {
   "cell_type": "code",
   "execution_count": 15,
   "metadata": {
    "collapsed": false
   },
   "outputs": [
    {
     "name": "stdout",
     "output_type": "stream",
     "text": [
      "{u'facebook:10154083900956236': {u'status': u'online', u'firstName': u'Jacob', u'Direct Messages': u'YES', u'lastName': u'Sacks', u'Created_at': 1464355769.988326, u'Platform': u'iOS', u'I am Attending': u'YES', u'food_preference': {u'food_id_1': u'YES'}, u'email': u'sacksjacob@gmail.com'}, u'd0cb31f4-0608-414a-af1d-97810e87e20f': {u'status': u'online', u'firstName': u'amos', u'Direct Messages': u'YES', u'lastName': u's', u'Created_at': 1469090722.0, u'Platform': u'Android', u'I am Attending': u'YES', u'food_preference': {u'food_id_1': u'YES'}, u'badge': u'0', u'email': u'jugglomo@hotmail.com'}, u'facebook:10207623110949432': {u'status': u'online', u'Direct Messages': u'YES', u'firstName': u'Aliza', u'lastName': u'Arbesfeld', u'Platform': u'iOS', u'I am Attending': u'YES', u'food_preference': {u'food_id_1': u'YES'}}, u'yNisusReRmhogi5lVjjUqyJxx3B3': {u'status': u'offline', u'firstName': u'Miro', u'Direct Messages': u'YES', u'lastName': u'Markar', u'Created_at': 1467322107.220877, u'Platform': u'iOS', u'I am Attending': u'YES', u'email': u'miro@linux.com'}, u'v34A71swXNXcSj2VSHniPHrNLoy2': {u'status': u'online', u'firstName': u'Adi', u'Direct Messages': u'YES', u'lastName': u'Patel', u'Created_at': 1468237526.0, u'Platform': u'Android', u'I am Attending': u'YES', u'food_preference': {u'food_id_1': u'YES', u'food_id_2': u'YES'}, u'email': u'panchalsanjay137@gmail.com'}, u'd7a599fa-de72-4596-9b5a-74935f9af934': {u'status': u'offline', u'firstName': u'Fahad', u'Direct Messages': u'YES', u'lastName': u'Azeem', u'Created_at': 1468504653.290996, u'Platform': u'iOS', u'I am Attending': u'YES', u'food_preference': {u'food_id_2': u'YES'}, u'email': u'fahadazeem.se@gmail.com'}, u'facebook:1173605819318545': {u'status': u'offline', u'Direct Messages': u'YES', u'firstName': u'Shira', u'allergies': {u'allergy_id_2': u'YES'}, u'lastName': u'Feen', u'Platform': u'iOS', u'I am Attending': u'YES', u'food_preference': {u'food_id_1': u'YES'}, u'email': u'shira@lissoos.com'}, u'facebook:10153654078412058': {u'status': u'offline', u'Direct Messages': u'YES', u'firstName': u'Michal', u'lastName': u'Weissberg', u'Platform': u'iOS', u'I am Attending': u'YES', u'food_preference': {u'food_id_1': u'YES'}}, u'dh6sIHVpZBYZFXJSMrD2Nh58r3V2': {u'status': u'offline', u'firstName': u'Cal', u'Direct Messages': u'YES', u'lastName': u'Shere', u'Created_at': 1468267596.512455, u'Platform': u'iOS', u'I am Attending': u'NO', u'food_preference': {u'food_id_1': u'YES'}, u'email': u'theonenottaken@gmail.com'}, u'd790118c-45c4-4907-81a2-474f207117bd': {u'status': u'online', u'firstName': u'Barry', u'Direct Messages': u'YES', u'lastName': u'Mueller ', u'Created_at': 1466153599.0, u'Platform': u'Android', u'I am Attending': u'YES', u'food_preference': {u'food_id_1': u'YES'}, u'badge': u'0', u'email': u'barry.s.mueller@gmail.com'}, u'b5bab481-aab9-404d-8c30-aa01a8dd06dd': {u'status': u'offline', u'firstName': u'Jaypal', u'Direct Messages': u'YES', u'allergies': {u'allergy_id_5': u'YES', u'allergy_id_4': u'YES', u'allergy_id_1': u'YES', u'allergy_id_3': u'YES', u'allergy_id_2': u'YES'}, u'Created_at': 1464409699.0, u'lastName': u'Rana', u'Platform': u'Android', u'I am Attending': u'YES', u'food_preference': {u'food_id_1': u'YES', u'food_id_2': u'YES', u'food_id_3': u'YES'}, u'badge': u'3', u'email': u'jaypal@gmail.com'}, u'facebook:10156934492660582': {u'status': u'offline', u'firstName': u'Gabe', u'Direct Messages': u'YES', u'lastName': u'Falk', u'Created_at': 1470196019.0, u'Platform': u'Android', u'I am Attending': u'YES', u'badge': u'0', u'email': u'gwf7291@gmail.com'}, u'RxtgU1Dp2KMMKRcZepBP3Cq3Moj2': {u'status': u'offline', u'firstName': u'Shoshana', u'Direct Messages': u'YES', u'lastName': u'Grosser', u'Created_at': 1470015191.382452, u'Platform': u'iOS', u'I am Attending': u'YES', u'food_preference': {u'food_id_1': u'YES'}, u'email': u'shoshgrosser@gmail.com'}, u'qBwtyl6ykSUeGYGbsaeAhesJBXG3': {u'status': u'offline', u'firstName': u'Yakira', u'Direct Messages': u'YES', u'lastName': u'Heller', u'Created_at': 1469006075.208783, u'Platform': u'iOS', u'I am Attending': u'YES', u'food_preference': {u'food_id_1': u'YES'}, u'badge': u'0', u'email': u'yyh1026@aol.com'}, u'FFyMCY1Hifceq3nRpRrRr4DRnY02': {u'status': u'offline', u'firstName': u'Gila', u'Direct Messages': u'YES', u'lastName': u'Bublick', u'Created_at': 1468353815.581103, u'Platform': u'iOS', u'I am Attending': u'YES', u'food_preference': {u'food_id_1': u'YES'}, u'badge': u'0', u'email': u''}, u'sQouaCjFYqhTTXjwi65aN9vRfr33': {u'status': u'offline', u'firstName': u'Eytan', u'Direct Messages': u'YES', u'lastName': u'Veres', u'Created_at': 1469653026.064786, u'Platform': u'iOS', u'I am Attending': u'YES', u'food_preference': {u'food_id_1': u'YES'}, u'email': u''}, u'wsijEdAKNePdOq0gUL2MUHzUmxl1': {u'status': u'offline', u'firstName': u'Ariel', u'Direct Messages': u'YES', u'lastName': u'Bem', u'Created_at': 1469478039.108501, u'Platform': u'iOS', u'I am Attending': u'YES', u'food_preference': {u'food_id_1': u'YES'}, u'email': u''}, u'Pt01uv4BatdDER3vChKIN6TbcKd2': {u'status': u'offline', u'firstName': u'Miicah', u'Direct Messages': u'YES', u'lastName': u'Lehmann', u'Created_at': 1470141597.0, u'Platform': u'Android', u'I am Attending': u'YES', u'badge': u'0', u'email': u'mycello7@gmail.com'}, u'5ef6b4b9-6248-416b-ac5b-7854e14d6467': {u'status': u'offline', u'Direct Messages': u'YES', u'firstName': u'Rivki ', u'lastName': u'Piontnica', u'Platform': u'iOS', u'I am Attending': u'YES', u'food_preference': {u'food_id_1': u'YES'}}, u'DXPtljf5hshxduC1klvbmtFw6Rq2': {u'status': u'offline', u'firstName': u'Daniella', u'Direct Messages': u'YES', u'allergies': {u'allergy_id_3': u'YES', u'allergy_id_2': u'YES'}, u'Created_at': 1469055682.594499, u'lastName': u'Werman', u'Platform': u'iOS', u'I am Attending': u'YES', u'food_preference': {u'food_id_1': u'YES'}, u'email': u''}, u'ce0d5ee0-2009-4149-aac5-e0191fd27e02': {u'status': u'offline', u'firstName': u'Aryana', u'Direct Messages': u'YES', u'lastName': u'Ritholtz', u'Created_at': 1468280174.352269, u'Platform': u'iOS', u'I am Attending': u'YES', u'email': u'aryanabibi@gmail.com'}, u'7b464554-f19c-431d-9b16-92d51bceab72': {u'status': u'offline', u'lastName': u'Reidler', u'I am Attending': u'YES', u'firstName': u'Lori', u'Direct Messages': u'YES'}, u'facebook:1080608342003766': {u'status': u'offline', u'firstName': u'Moses', u'Direct Messages': u'YES', u'lastName': u'Bibi', u'Platform': u'iOS', u'I am Attending': u'YES', u'food_preference': {u'food_id_1': u'YES'}, u'badge': u'0', u'email': u'mosesbibi@gmail.com'}, u'facebook:823467433027': {u'status': u'offline', u'firstName': u'DM', u'Direct Messages': u'YES', u'lastName': u'Miller', u'Created_at': 1469579042.0, u'Platform': u'Android', u'I am Attending': u'YES', u'badge': u'2', u'email': u'danielmmiller@gmail.com'}, u'd4c58785-7c6b-4337-b445-9eaa36f94687': {u'status': u'offline', u'firstName': u'Ami', u'Direct Messages': u'NO', u'lastName': u'Yunger', u'Created_at': 1467807076.296975, u'Platform': u'iOS', u'I am Attending': u'NO', u'food_preference': {u'food_id_1': u'YES'}, u'email': u'ayunger@gmail.com'}, u'facebook:10207562342429745': {u'status': u'offline', u'Direct Messages': u'YES', u'firstName': u'Ari', u'lastName': u'Berkowitz', u'Platform': u'iOS', u'I am Attending': u'YES', u'food_preference': {u'food_id_1': u'YES'}}, u'28mQ1s4NM6hnutOhVPuwcav0OHj1': {u'status': u'offline', u'firstName': u'Brian', u'Direct Messages': u'YES', u'lastName': u'Wallace', u'Created_at': 1468363831.631235, u'Platform': u'iOS', u'I am Attending': u'YES', u'food_preference': {u'food_id_1': u'YES'}, u'email': u'bwallace@nowsourcing.com'}, u'2f4cc291-19c2-470f-bad7-bb0547542b0d': {u'status': u'online', u'Direct Messages': u'YES', u'firstName': u'Mathew', u'lastName': u'Samimi', u'Platform': u'iOS', u'I am Attending': u'YES', u'food_preference': {u'food_id_1': u'YES'}, u'badge': u'0'}, u'facebook:10153643653647883': {u'status': u'offline', u'firstName': u'Isaac', u'Direct Messages': u'YES', u'lastName': u'Setton', u'Platform': u'iOS', u'I am Attending': u'YES', u'food_preference': {u'food_id_1': u'YES'}, u'email': u'isaacsetton@gmail.com'}, u'facebook:10100222043151356': {u'status': u'offline', u'Direct Messages': u'YES', u'firstName': u'Brian', u'lastName': u'Schames', u'Platform': u'iOS', u'I am Attending': u'YES', u'food_preference': {u'food_id_1': u'YES'}}, u'fe0d0dbf-a7a3-4401-a317-b99eeca3a473': {u'status': u'offline', u'firstName': u'Karen', u'Direct Messages': u'YES', u'lastName': u'Reitman ', u'Created_at': 1469327843.0, u'Platform': u'Android', u'I am Attending': u'YES', u'food_preference': {u'food_id_1': u'YES'}, u'badge': u'0', u'email': u'karenreitman1@gmail.com'}, u'qL0xhwKwBJbtZNkuHcmaJrqaiAj2': {u'status': u'offline', u'firstName': u'Adam', u'Direct Messages': u'YES', u'lastName': u'Miller', u'Created_at': 1469449095.0, u'Platform': u'Android', u'I am Attending': u'YES', u'food_preference': {u'food_id_1': u'YES'}, u'badge': u'0', u'email': u'ajmil0011@gmail.com'}, u'9eytI0PL3cNZkvh5LC82HdJefqT2': {u'status': u'online', u'firstName': u'Annie', u'Direct Messages': u'YES', u'lastName': u'Ritholtz', u'Created_at': 1469099717.372355, u'Platform': u'iOS', u'I am Attending': u'YES', u'email': u'annie.ritholtz@gmail.com'}, u'facebook:10157060580215495': {u'status': u'offline', u'Direct Messages': u'YES', u'firstName': u'Eytan', u'lastName': u'Goldfinger', u'Platform': u'iOS', u'I am Attending': u'YES', u'food_preference': {u'food_id_1': u'YES'}}, u'p3LcOUbtupZhbmKv7Xo62JQgfRh1': {u'status': u'offline', u'firstName': u'Hart', u'Direct Messages': u'YES', u'lastName': u'Levine', u'Created_at': 1466364493.570088, u'Platform': u'iOS', u'I am Attending': u'YES', u'food_preference': {u'food_id_1': u'YES'}, u'badge': u'0', u'email': u'hartlevine@gmail.com'}, u'6TjQgsoBRVU2aAP6bPPpqUF8Z462': {u'status': u'offline', u'firstName': u'Ilana', u'Direct Messages': u'YES', u'lastName': u'Rosenbaum', u'Created_at': 1470141087.094403, u'Platform': u'iOS', u'I am Attending': u'YES', u'food_preference': {u'food_id_1': u'YES'}, u'email': u'rosenbaum.ilana@gmail.com'}, u'Pb7x8ZG80nY6OU3Dccsf0OG9oHl2': {u'status': u'offline', u'firstName': u'Simon', u'Direct Messages': u'YES', u'lastName': u'Morris', u'Created_at': 1470378556.0, u'Platform': u'Android', u'I am Attending': u'YES', u'badge': u'0', u'email': u'simonkmorris@hotmail.com'}, u'1600d405-36e7-4c0c-b235-4cd2ef7330c6': {u'status': u'online', u'Direct Messages': u'YES', u'firstName': u'Annie', u'lastName': u'Ritholtz ', u'Platform': u'iOS', u'I am Attending': u'YES', u'food_preference': {u'food_id_1': u'YES'}, u'badge': u'0'}, u'b1b957aa-84e3-41da-a3f9-5fc172aeebda': {u'status': u'offline', u'firstName': u'Merav', u'Direct Messages': u'YES', u'lastName': u'Silverstein', u'Created_at': 1469151809.807296, u'Platform': u'iOS', u'I am Attending': u'YES', u'food_preference': {u'food_id_1': u'YES', u'food_id_2': u'YES'}, u'email': u'Silverstein.merav@gmail.com'}, u'SJdJbF6yRZRKbBNSE4eTPqAjqmt1': {u'status': u'offline', u'firstName': u'Casey', u'Direct Messages': u'YES', u'lastName': u'Lamar', u'Created_at': 1469552079.941966, u'Platform': u'iOS', u'I am Attending': u'YES', u'food_preference': {u'food_id_1': u'YES'}, u'badge': u'0', u'email': u'clamar@brandeis.edu'}, u'ttMdJrKbpGYIEhSnkR4yOSmsmsu1': {u'status': u'offline', u'firstName': u'Miriam', u'Direct Messages': u'YES', u'lastName': u'Levy', u'Created_at': 1468268039.53675, u'Platform': u'iOS', u'I am Attending': u'YES', u'badge': u'1', u'email': u'bubbly3395m@hotmail.com'}, u'HDxNNsg8DrNdxY4i7mrHB78wLLm2': {u'status': u'offline', u'firstName': u'Ariela', u'Direct Messages': u'YES', u'lastName': u'Rosenberg', u'Created_at': 1470375794.803883, u'Platform': u'iOS', u'I am Attending': u'YES', u'email': u'arosenberg6@gmail.com'}, u'DCycPEdiWlhYYAswXIiLByfgdqn2': {u'status': u'offline', u'firstName': u'Hannah', u'Direct Messages': u'YES', u'lastName': u'Defore', u'Created_at': 1470217309.020983, u'Platform': u'iOS', u'I am Attending': u'YES', u'email': u'handefore@gmail.com'}, u'66a5bd6c-d5bf-4aae-aadb-2b4cf024d6f9': {u'status': u'offline', u'firstName': u'Elliot', u'Direct Messages': u'YES', u'lastName': u'Glassenberg ', u'Created_at': 1468364565.0, u'Platform': u'Android', u'I am Attending': u'YES', u'food_preference': {u'food_id_2': u'YES'}, u'badge': u'0', u'email': u'eglassenberg@gmail.com'}, u'6c925935-d642-4821-9f1c-182dab385bc7': {u'status': u'offline', u'firstName': u'junaid', u'Direct Messages': u'YES', u'lastName': u'butt', u'Created_at': 1468437514.965843, u'Platform': u'iOS', u'I am Attending': u'YES', u'badge': u'0', u'email': u'junaid@gmail.com'}, u'facebook:10100523987636810': {u'status': u'offline', u'Direct Messages': u'YES', u'firstName': u'Danny', u'allergies': {u'allergy_id_3': u'YES', u'allergy_id_2': u'YES'}, u'lastName': u'Cohen', u'Platform': u'iOS', u'I am Attending': u'YES', u'food_preference': {u'food_id_1': u'YES'}, u'email': u'dannyjcohen@gmail.com'}, u'clpciRfkQdPszE3cHfbmrxxiaxW2': {u'status': u'offline', u'firstName': u'Dovid', u'Direct Messages': u'YES', u'lastName': u'Levine', u'Created_at': 1470290552.0, u'Platform': u'Android', u'I am Attending': u'YES', u'food_preference': {u'food_id_1': u'YES'}, u'badge': u'0', u'email': u'justlevine@gmail.com'}, u'1fecf353-73a9-4f4c-9db5-1712bb12ec50': {u'status': u'offline', u'firstName': u'Leah', u'Direct Messages': u'YES', u'lastName': u'stroh ', u'Created_at': 1469124213.688367, u'Platform': u'iOS', u'I am Attending': u'YES', u'food_preference': {u'food_id_1': u'YES'}, u'email': u'tokeleah@yahoo.com'}, u'1c01f70c-6cb3-4480-ac57-a1510235d6b8': {u'status': u'offline', u'firstName': u'Michael', u'Direct Messages': u'YES', u'lastName': u'Gevaryahu', u'Created_at': 1468252788.441251, u'Platform': u'iOS', u'I am Attending': u'YES', u'food_preference': {u'food_id_1': u'YES'}, u'email': u'mgevary@gmail.com'}, u'99695d5f-a191-4e1a-9a86-45a0502783e4': {u'status': u'offline', u'Direct Messages': u'YES', u'firstName': u'Gabrielle', u'lastName': u'Lindenfeld', u'Platform': u'iOS', u'I am Attending': u'YES', u'food_preference': {u'food_id_1': u'YES'}}, u'A7G6GW9IZBNzMTwIV8XetUfJRb63': {u'status': u'offline', u'firstName': u'Dalia', u'Direct Messages': u'YES', u'lastName': u'Newman', u'Created_at': 1467806869.0, u'Platform': u'Android', u'I am Attending': u'NO', u'badge': u'0', u'email': u'dalianewman@hotmail.com'}, u'r7DJYAs9TCRcjiCFckiKNpDc7to2': {u'status': u'offline', u'firstName': u'Zippy', u'Direct Messages': u'YES', u'lastName': u'Sevrinsky', u'Created_at': 1470163440.0, u'Platform': u'Android', u'I am Attending': u'YES', u'food_preference': {u'food_id_1': u'YES'}, u'email': u'zipdansev@yahoo.com'}, u'bef7e915-0ce4-46fc-acd4-d168307b95f4': {u'status': u'offline', u'firstName': u'chasida', u'Direct Messages': u'YES', u'lastName': u'shicker', u'Created_at': 1470402690.612746, u'Platform': u'iOS', u'I am Attending': u'YES', u'email': u'cshicker@gmail.com'}, u'7bc0b5e6-d148-4ab1-8dda-1d1ba8025a82': {u'status': u'offline', u'Direct Messages': u'YES', u'firstName': u'shoshana', u'lastName': u'wolf', u'Platform': u'iOS', u'I am Attending': u'YES', u'food_preference': {u'food_id_1': u'YES'}}, u'WLzRQfSwm2POFyaceS75vBrCo3F3': {u'status': u'offline', u'firstName': u'Alyssa', u'Direct Messages': u'YES', u'lastName': u'Elbogen', u'Created_at': 1469330561.0, u'Platform': u'Android', u'I am Attending': u'YES', u'badge': u'0', u'email': u'aelbogen@gmail.com'}, u'rW3TsUEZY7dlLFTOKoINglUCWkX2': {u'status': u'offline', u'firstName': u'Tali', u'Direct Messages': u'YES', u'lastName': u'Rutta', u'Created_at': 1468288993.164685, u'Platform': u'iOS', u'I am Attending': u'YES', u'food_preference': {u'food_id_1': u'YES'}, u'email': u'meital2266@yahoo.com'}, u'VZwg3Zf9drZcIlJIehSTkTeJ5cB3': {u'status': u'offline', u'firstName': u'Sefi', u'Direct Messages': u'YES', u'lastName': u'Attias', u'Created_at': 1468175019.0, u'Platform': u'Android', u'I am Attending': u'YES', u'email': u'atntias@gmail.com'}, u'dd5792bf-3e99-4719-beeb-b13e9f0138df': {u'status': u'offline', u'firstName': u'Dave', u'Direct Messages': u'YES', u'lastName': u'Lawrence', u'Created_at': 1470294948.0, u'Platform': u'Android', u'I am Attending': u'YES', u'email': u'daveslaw@gmail.com'}, u'9TeZLjKNDQNzWNVGhWdAeoJxI0L2': {u'status': u'offline', u'firstName': u'Jared', u'Direct Messages': u'YES', u'lastName': u'Ebrahimoff', u'Created_at': 1468270971.581749, u'Platform': u'iOS', u'I am Attending': u'YES', u'badge': u'0', u'email': u'jaredebrahimoff@gmail.com'}, u'6e247f97-eb03-4ba4-b0df-1872a5db0611': {u'status': u'offline', u'firstName': u'Jonathan ', u'Direct Messages': u'YES', u'lastName': u'Deluty ', u'Created_at': 1468257626.187898, u'Platform': u'iOS', u'I am Attending': u'YES', u'badge': u'2', u'email': u'jdeluty@gmail.com'}, u'rLk5Mg9CQWfMJmmSWLKyqNGWzbD2': {u'status': u'offline', u'firstName': u'Amy', u'Direct Messages': u'YES', u'allergies': {u'allergy_id_1': u'YES'}, u'Created_at': 1470085144.0, u'lastName': u'Shuter', u'Platform': u'Android', u'I am Attending': u'YES', u'food_preference': {u'food_id_1': u'YES'}, u'badge': u'0', u'email': u'amyshuter@gmail.com'}, u'facebook:10210042363239122': {u'status': u'offline', u'firstName': u'Yehudit', u'Direct Messages': u'YES', u'lastName': u'Kosowsky', u'Created_at': 1465352711.247714, u'Platform': u'iOS', u'I am Attending': u'YES', u'email': u'jude258@gmail.com'}, u'Jx6OvdTmz8bUbOxwEbBYUfVfbC13': {u'status': u'offline', u'firstName': u'Eli', u'Direct Messages': u'YES', u'lastName': u'Black', u'Created_at': 1468175915.0, u'Platform': u'Android', u'I am Attending': u'YES', u'food_preference': {u'food_id_1': u'YES'}, u'email': u'leblack613@hotmail.com'}, u'Jy0RsnERyqVRC4WQSM13ciwxcmn1': {u'status': u'online', u'firstName': u'Sarena', u'Direct Messages': u'YES', u'lastName': u'Isakow', u'Created_at': 1467975361.612567, u'Platform': u'iOS', u'I am Attending': u'YES', u'food_preference': {u'food_id_1': u'YES'}, u'email': u'sisakow@gmail.com'}, u'zR1oaWaTCHNxSgEbf6y19fEK2AO2': {u'status': u'online', u'firstName': u'Ariel', u'Direct Messages': u'YES', u'allergies': {u'allergy_id_1': u'YES'}, u'Created_at': 1467231723.0, u'lastName': u'Sterman', u'Platform': u'Android', u'I am Attending': u'YES', u'food_preference': {u'food_id_1': u'YES'}, u'badge': u'0', u'email': u'asterm819@gmail.com'}, u'facebook:647208038751050': {u'status': u'offline', u'firstName': u'Fly', u'Direct Messages': u'YES', u'lastName': u'Flyerson', u'Created_at': 1463776605.517236, u'Platform': u'iOS', u'I am Attending': u'YES', u'email': u'flyflyerson@gmail.com'}, u'RZyFwG9GtBUbGWrzBqYqQevGG1i1': {u'status': u'offline', u'firstName': u'Michael', u'Direct Messages': u'YES', u'lastName': u'Klinger', u'Created_at': 1470291193.0, u'Platform': u'Android', u'I am Attending': u'YES', u'email': u'klingermichael@hotmail.com'}, u'gOmWkhnmYETSgOhJcBV2NKKAnHI2': {u'status': u'offline', u'firstName': u'Jordyn', u'Direct Messages': u'YES', u'lastName': u'Steifman', u'Created_at': 1469149362.54306, u'Platform': u'iOS', u'I am Attending': u'YES', u'email': u'jordyn@steifman.com'}, u'7An15SffmnhCVtMKM9T8izAlxfB3': {u'status': u'offline', u'firstName': u'Shai', u'Direct Messages': u'YES', u'lastName': u'Steiman', u'Created_at': 1470054550.0, u'Platform': u'Android', u'I am Attending': u'YES', u'email': u'shai788@gmail.com'}, u'71f2ec80-108b-444d-9392-56e37d024d13': {u'status': u'online', u'firstName': u'David', u'Direct Messages': u'YES', u'lastName': u'Belkin', u'Created_at': 1469037367.0, u'Platform': u'Android', u'I am Attending': u'YES', u'food_preference': {u'food_id_1': u'YES'}, u'email': u'davidbelkin@gmail.com'}, u'h285ib66NHPpRkXJt6PrOHCvudl2': {u'status': u'online', u'firstName': u'Lauren', u'Direct Messages': u'YES', u'lastName': u'Kessler', u'Created_at': 1468483455.347837, u'Platform': u'iOS', u'I am Attending': u'YES', u'food_preference': {u'food_id_1': u'YES'}, u'email': u'leora.chava@gmail.com'}, u'44fbe773-6a71-4a01-b7b2-3b378948ae4a': {u'status': u'offline', u'Direct Messages': u'YES', u'firstName': u'Razy', u'lastName': u'Baruch', u'Platform': u'iOS', u'I am Attending': u'YES', u'food_preference': {u'food_id_1': u'YES'}}, u'koZkEb6jCYPhj9eRgOBYlW6xd452': {u'status': u'offline', u'firstName': u'Uri', u'Direct Messages': u'YES', u'lastName': u'Kesselman', u'Created_at': 1468311189.0, u'Platform': u'Android', u'I am Attending': u'YES', u'badge': u'0', u'email': u'urikesselman1@gmail.com'}, u'facebook:10102386288026462': {u'status': u'offline', u'Direct Messages': u'YES', u'firstName': u'Noah', u'lastName': u'Elbogen', u'Platform': u'iOS', u'I am Attending': u'YES', u'food_preference': {u'food_id_1': u'YES', u'food_id_2': u'YES', u'food_id_3': u'YES'}}, u'facebook:10209565948890580': {u'status': u'offline', u'firstName': u'Yael', u'Direct Messages': u'YES', u'lastName': u'Novick', u'Platform': u'iOS', u'I am Attending': u'YES', u'food_preference': {u'food_id_1': u'YES'}, u'badge': u'4', u'email': u'tristate.mteam@gmail.com'}, u'df065bd2-fbcc-4bfc-9346-b13c2c30965c': {u'status': u'offline', u'firstName': u'faith', u'Direct Messages': u'YES', u'lastName': u'Bugay ', u'Created_at': 1469669357.284127, u'Platform': u'iOS', u'I am Attending': u'YES', u'food_preference': {u'food_id_1': u'YES'}, u'email': u'fbugay1@yahoo.com'}, u'3fa26656-dd87-4e39-ab65-858447fb5629': {u'status': u'offline', u'firstName': u'risi', u'Direct Messages': u'YES', u'lastName': u'adler', u'Created_at': 1469085805.0, u'Platform': u'Android', u'I am Attending': u'YES', u'food_preference': {u'food_id_1': u'YES'}, u'email': u'risi.adlet@gmail.com'}, u'facebook:10206429657285148': {u'status': u'offline', u'firstName': u'Daniel', u'Direct Messages': u'YES', u'allergies': {u'allergy_id_1': u'YES', u'allergy_id_2': u'YES'}, u'lastName': u'Reidler', u'Platform': u'iOS', u'I am Attending': u'YES', u'food_preference': {u'food_id_1': u'YES'}, u'badge': u'3', u'email': u'reidlerd@gmail.com'}, u'bf06da63-8ab0-4681-a80c-2d1f3efa0b6f': {u'status': u'online', u'firstName': u'Arvind', u'Direct Messages': u'YES', u'lastName': u'Patel', u'Created_at': 1469774294.495293, u'Platform': u'iOS', u'I am Attending': u'YES', u'email': u'arvind@gmail.com'}, u'8387af6e-f997-43bf-92b1-9ff09c4aad7a': {u'status': u'offline', u'firstName': u'Elana', u'Direct Messages': u'YES', u'lastName': u'Keschner', u'Created_at': 1469148819.940111, u'Platform': u'iOS', u'I am Attending': u'YES', u'food_preference': {u'food_id_1': u'YES'}, u'badge': u'0', u'email': u'Elana.keschner@gmail.com'}, u'MLM1SF7KZshTaNMmy7miYy2cj653': {u'status': u'offline', u'firstName': u'Tonny', u'Direct Messages': u'YES', u'lastName': u'Szwarcmer', u'Created_at': 1468296540.0, u'Platform': u'Android', u'I am Attending': u'YES', u'food_preference': {u'food_id_1': u'YES'}, u'badge': u'0', u'email': u'fonztheiv@yahoo.com'}, u'ugVLGzVolFUtStRYeQR8yRMoQOy1': {u'status': u'offline', u'firstName': u'Sylvie', u'Direct Messages': u'YES', u'lastName': u'Simons', u'Created_at': 1470096571.745995, u'Platform': u'iOS', u'I am Attending': u'YES', u'food_preference': {u'food_id_1': u'YES'}, u'email': u''}, u'facebook:10153422360711502': {u'status': u'offline', u'Direct Messages': u'YES', u'firstName': u'Margot', u'lastName': u'Botwinick', u'Platform': u'iOS', u'I am Attending': u'YES', u'food_preference': {u'food_id_1': u'YES'}}, u'l5m9kQQl8pN3ztdG5i3EXdycPO72': {u'status': u'online', u'firstName': u'Michal', u'Direct Messages': u'YES', u'lastName': u'Erster', u'Created_at': 1470291818.367747, u'Platform': u'iOS', u'I am Attending': u'YES', u'food_preference': {u'food_id_1': u'YES'}, u'email': u'michalerster@gmail.com'}, u'BO8zr1QWDXc167Uf6bmxnzP8MHk2': {u'status': u'offline', u'firstName': u'Eli', u'Direct Messages': u'YES', u'lastName': u'Cohn', u'Created_at': 1470279294.941245, u'Platform': u'iOS', u'I am Attending': u'YES', u'email': u'eli@cohns.org'}, u'b247601e-b8df-473b-a96a-7f1bc467afb4': {u'status': u'offline', u'firstName': u'Shterna ', u'Direct Messages': u'YES', u'lastName': u'Blumes', u'Created_at': 1468248246.03987, u'Platform': u'iOS', u'I am Attending': u'YES', u'email': u'shterna789@aol.com'}, u'S3gBpEaExWOiItJE8JdNW3SGxWs1': {u'status': u'offline', u'firstName': u'Gideon', u'Direct Messages': u'YES', u'lastName': u'Shapiro', u'Created_at': 1468292515.0, u'Platform': u'Android', u'I am Attending': u'YES', u'food_preference': {u'food_id_1': u'YES'}, u'badge': u'0', u'email': u' '}, u'd5ca56c4-ec17-4d73-b702-ab690ee6df96': {u'status': u'offline', u'firstName': u'Bracha', u'Direct Messages': u'YES', u'lastName': u'Lamm', u'Created_at': 1470322537.495953, u'Platform': u'iOS', u'I am Attending': u'YES', u'email': u'bracharlamm@gmail.com'}, u'Q3lGn1UBsJdfkzKCAXvASnJT5Va2': {u'status': u'offline', u'firstName': u'Moshe', u'Direct Messages': u'YES', u'lastName': u'Kwiat', u'Created_at': 1468272720.0, u'Platform': u'Android', u'I am Attending': u'YES', u'food_preference': {u'food_id_1': u'YES'}, u'badge': u'0', u'email': u'13moshe@gmail.com'}, u'facebook:10157137995770144': {u'status': u'offline', u'firstName': u'Simone', u'Direct Messages': u'YES', u'lastName': u'Blond', u'Platform': u'iOS', u'I am Attending': u'YES', u'food_preference': {u'food_id_1': u'YES'}, u'email': u'simoneablond@gmail.com'}, u'facebook:474352039439987': {u'status': u'offline', u'firstName': u'Jhon', u'Direct Messages': u'YES', u'allergies': {u'allergy_id_1': u'YES'}, u'Created_at': 1468229258.0, u'lastName': u'Doe', u'Platform': u'Android', u'I am Attending': u'YES', u'food_preference': {u'food_id_1': u'YES'}, u'badge': u'0', u'email': u'tristate.mteam@gmail.com'}, u'f81701d4-f3d8-41c9-b0b9-0dd2116f206a': {u'status': u'offline', u'firstName': u'jesse', u'Direct Messages': u'YES', u'lastName': u'buchine', u'Created_at': 1470144582.0, u'Platform': u'Android', u'I am Attending': u'YES', u'email': u'jbuchine@gmail.com'}, u'facebook:1728586400743389': {u'status': u'offline', u'Direct Messages': u'YES', u'firstName': u'Joshua', u'lastName': u'Klein Mje', u'Platform': u'iOS', u'I am Attending': u'YES', u'food_preference': {u'food_id_1': u'YES'}}, u'facebook:10154181976278436': {u'status': u'offline', u'firstName': u'Rachael', u'Direct Messages': u'YES', u'lastName': u'McSpadden', u'Platform': u'iOS', u'I am Attending': u'YES', u'email': u'mcspaddenr@gmail.com'}, u'VyByvEN5KVTBzjfTbFPsRc151Bi1': {u'status': u'offline', u'firstName': u'Eric', u'Direct Messages': u'YES', u'lastName': u'Kaplan', u'Created_at': 1470076607.531047, u'Platform': u'iOS', u'I am Attending': u'YES', u'email': u'ericlkaplan@gmail.com'}, u'G36BteNo6CNMmhCcbcZjKaT0V5n2': {u'status': u'online', u'firstName': u'Maulik', u'Direct Messages': u'YES', u'lastName': u'Doriya', u'Created_at': 1467294771.0, u'Platform': u'Android', u'I am Attending': u'YES', u'email': u'maulikdoriya786@gmail.com'}, u'7QPNykusjDSKjJJSyuySLKV3xgX2': {u'status': u'offline', u'firstName': u'Steve', u'Direct Messages': u'YES', u'lastName': u'Burg', u'Created_at': 1470027151.0, u'Platform': u'Android', u'I am Attending': u'YES', u'email': u'burg.stephen@gmail.com'}, u'Ul8a1yyfu0gqeEcgbC980YtT2N52': {u'status': u'offline', u'firstName': u'Tara', u'Direct Messages': u'YES', u'lastName': u'Horn', u'Created_at': 1469971608.0, u'Platform': u'Android', u'I am Attending': u'YES', u'email': u'tarahorn@gmail.com'}, u'11ac904b-5b27-47c7-a3b5-6882ce2b1779': {u'status': u'offline', u'firstName': u'Andrea', u'Direct Messages': u'YES', u'lastName': u'Nathanson', u'Created_at': 1468241577.896844, u'Platform': u'iOS', u'I am Attending': u'YES', u'email': u'andreasemail18@gmail.com'}, u'77507d35-4362-40fa-9f2a-a951e53cf315': {u'status': u'offline', u'Direct Messages': u'YES', u'firstName': u'David', u'lastName': u'Stevens ', u'Platform': u'iOS', u'I am Attending': u'YES', u'food_preference': {u'food_id_1': u'YES'}}, u'8eaknBIHkaUgNYQQBkijPcron3p1': {u'status': u'offline', u'firstName': u'Elle Jessica', u'Direct Messages': u'YES', u'lastName': u'Lewitter', u'Created_at': 1470041099.0, u'Platform': u'Android', u'I am Attending': u'YES', u'food_preference': {u'food_id_1': u'YES'}, u'badge': u'0', u'email': u'lewityael@gmail.com'}, u'facebook:806138659519626': {u'status': u'online', u'firstName': u'Hiren', u'Direct Messages': u'YES', u'lastName': u'Patel', u'Created_at': 1468242661.0, u'Platform': u'Android', u'I am Attending': u'YES', u'badge': u'2', u'email': u'hirenchaudharyin@gmail.com'}, u'facebook:10153616898668581': {u'status': u'offline', u'Direct Messages': u'YES', u'firstName': u'Gavi', u'allergies': {u'allergy_id_4': u'YES'}, u'lastName': u'Nelson', u'Platform': u'iOS', u'I am Attending': u'YES', u'food_preference': {u'food_id_1': u'YES'}}, u'f1ffe615-d8c5-4037-b835-6b2b5312f72f': {u'status': u'offline', u'Direct Messages': u'YES', u'firstName': u'Catherine', u'lastName': u'McDonald', u'Platform': u'iOS', u'I am Attending': u'YES'}, u'omQu5WCzzDgKxxHlIF8lK7KNItw2': {u'status': u'offline', u'firstName': u'Carly', u'Direct Messages': u'YES', u'lastName': u'Pask', u'Created_at': 1468306599.0, u'Platform': u'Android', u'I am Attending': u'YES', u'food_preference': {u'food_id_1': u'YES'}, u'badge': u'0', u'email': u'crazycarly.davis@gmail.com'}, u'cc5c0e06-c1ed-4256-8148-223907d30e2c': {u'status': u'offline', u'firstName': u'Y', u'Direct Messages': u'YES', u'lastName': u'Birn', u'Created_at': 1470154954.90693, u'Platform': u'iOS', u'I am Attending': u'YES', u'email': u'yalibirn@gmail.com'}, u'89f493ce-02c7-4538-8349-de9a3e61d74f': {u'status': u'offline', u'firstName': u'Daniel', u'Direct Messages': u'YES', u'lastName': u'Rosen', u'Created_at': 1464828839.101427, u'Platform': u'iOS', u'I am Attending': u'YES', u'badge': u'0', u'email': u'danielrosen5@gmail.com'}, u'FaVAiDVISvcrhS6RTza4lj14QXX2': {u'status': u'offline', u'firstName': u'Levi', u'Direct Messages': u'YES', u'lastName': u'Frolich', u'Created_at': 1467108404.0, u'Platform': u'Android', u'I am Attending': u'YES', u'badge': u'1', u'email': u'levifrolich@gmail.com'}, u'2e832c37-b332-4055-abc5-f26a7c458dbb': {u'status': u'online', u'firstName': u'Dhaval', u'Direct Messages': u'YES', u'allergies': {u'allergy_id_5': u'YES', u'allergy_id_4': u'YES', u'allergy_id_1': u'YES', u'allergy_id_3': u'YES', u'allergy_id_2': u'YES'}, u'Created_at': 1464763064.0, u'lastName': u'Solanki', u'Platform': u'Android', u'I am Attending': u'YES', u'food_preference': {u'food_id_1': u'YES', u'food_id_2': u'YES', u'food_id_3': u'YES'}, u'badge': u'0', u'email': u'dhaval.solanki@tristatetechnology.co.in'}, u'17b4df8c-81d8-4844-bfc2-ff3838b0c864': {u'status': u'offline', u'firstName': u'Leora', u'Direct Messages': u'YES', u'lastName': u'Katz', u'Created_at': 1470328296.315603, u'Platform': u'iOS', u'I am Attending': u'YES', u'email': u'avivakatz3@gmail.com'}, u'N0ItsWg483c6VMtjwqy2hkN7Qdh1': {u'status': u'offline', u'firstName': u'Noah', u'Direct Messages': u'YES', u'lastName': u'Michael', u'Created_at': 1470198605.510124, u'Platform': u'iOS', u'I am Attending': u'YES', u'food_preference': {u'food_id_1': u'YES'}, u'email': u'noah4441@gmail.com'}, u'4ZfqX9foRuQzKlzq8Gun7SPJsC02': {u'status': u'offline', u'firstName': u'Lily', u'Direct Messages': u'YES', u'lastName': u'Lozovsky Stute', u'Created_at': 1468253289.512826, u'Platform': u'iOS', u'I am Attending': u'YES', u'badge': u'1', u'email': u'lozovsl@gmail.com'}, u'8f640968-51ce-411c-b267-a3d8a436a352': {u'status': u'offline', u'firstName': u'Harry', u'Direct Messages': u'YES', u'lastName': u'Reidler', u'Created_at': 1470177664.275382, u'Platform': u'iOS', u'I am Attending': u'YES', u'badge': u'0', u'email': u'hreidler@aol.com'}, u'OZaUD511bggetuUJ8JfjnmY5oq83': {u'status': u'offline', u'firstName': u'Renina', u'Direct Messages': u'YES', u'allergies': {u'allergy_id_4': u'YES'}, u'Created_at': 1469333615.603908, u'lastName': u'Lifshitz', u'Platform': u'iOS', u'I am Attending': u'YES', u'food_preference': {u'food_id_1': u'YES'}, u'email': u'renina13@gmail.com'}, u'81651f0e-f85e-4cf5-baac-bb091cc840d1': {u'status': u'online', u'firstName': u'Benjamin ', u'Direct Messages': u'YES', u'lastName': u'Figdor ', u'Created_at': 1468267784.0, u'Platform': u'Android', u'I am Attending': u'YES', u'food_preference': {u'food_id_1': u'YES'}, u'badge': u'0', u'email': u'figdorb@gmail.com'}, u'O3McqHGLIvSI2fDpejBOwHlfdTt1': {u'status': u'offline', u'firstName': u'Joseph', u'Direct Messages': u'YES', u'lastName': u'Bornstein', u'Created_at': 1467321611.738137, u'Platform': u'iOS', u'I am Attending': u'YES', u'badge': u'0', u'email': u'joebornstein@gmail.com'}, u'xxr9xA2IQvY2mdC2C3JYL0A0mU13': {u'status': u'offline', u'firstName': u'Eytan', u'Direct Messages': u'YES', u'lastName': u'White', u'Created_at': 1470075533.0, u'Platform': u'Android', u'I am Attending': u'YES', u'food_preference': {u'food_id_1': u'YES'}, u'email': u'whitey1024@yahoo.com'}, u'35bb1a30-bbba-4c9e-8d30-1530eb880f37': {u'status': u'offline', u'firstName': u'Leora', u'Direct Messages': u'YES', u'lastName': u'Katz', u'Created_at': 1469125205.848277, u'Platform': u'iOS', u'I am Attending': u'YES', u'food_preference': {u'food_id_1': u'YES'}, u'email': u'leoradkatz@gmail.com'}, u'd1DitHSVldbThhrkOIjW8k8KzJs1': {u'status': u'offline', u'firstName': u'Ariella', u'Direct Messages': u'YES', u'lastName': u'Esterson', u'Created_at': 1470327701.640925, u'Platform': u'iOS', u'I am Attending': u'YES', u'badge': u'0', u'email': u'rela1290@gmail.com'}, u'921e9d22-21c8-43b1-87b6-99ef83588d69': {u'status': u'offline', u'firstName': u'Ophi', u'Direct Messages': u'YES', u'lastName': u'Platt', u'Created_at': 1464869169.461877, u'Platform': u'iOS', u'I am Attending': u'YES', u'food_preference': {u'food_id_1': u'YES'}, u'badge': u'0', u'email': u'ophiraplatt@yahoo.com'}, u'rZD0fuwujocsiGG3qJ29b8ziXlc2': {u'status': u'offline', u'firstName': u'Emily', u'Direct Messages': u'YES', u'lastName': u'Hanau', u'Created_at': 1467655839.660564, u'Platform': u'iOS', u'I am Attending': u'YES', u'email': u'episem@gmail.com'}, u'150aad8f-b57a-4a96-ad29-89da6dc7eff6': {u'status': u'online', u'Direct Messages': u'YES', u'firstName': u'Atara ', u'lastName': u'Charnoff ', u'Platform': u'iOS', u'I am Attending': u'YES', u'food_preference': {u'food_id_1': u'YES'}}, u'facebook:10205756575417997': {u'status': u'online', u'firstName': u'Gabi', u'Direct Messages': u'YES', u'lastName': u'Weinberg', u'Platform': u'iOS', u'I am Attending': u'YES', u'food_preference': {u'food_id_1': u'YES'}, u'badge': u'1', u'email': u'gabimweinberg@gmail.com'}, u'52dac208-d1fd-4866-a025-29f60e182cc1': {u'status': u'offline', u'firstName': u'Kate', u'Direct Messages': u'YES', u'lastName': u'Gerstler', u'Created_at': 1470059905.0, u'Platform': u'Android', u'I am Attending': u'YES', u'food_preference': {u'food_id_1': u'YES'}, u'badge': u'0', u'email': u'katesg5@gmail.com'}, u'8547dc60-0033-4bd3-9813-9c59dd8b1373': {u'status': u'offline', u'firstName': u'natania', u'Direct Messages': u'YES', u'lastName': u'Feifel', u'Created_at': 1470326605.573477, u'Platform': u'iOS', u'I am Attending': u'YES', u'email': u'nfeif94@gmail.com'}, u'6ecc7a43-521e-4f70-b402-9f9d2f8786f1': {u'status': u'online', u'firstName': u'priyal', u'Direct Messages': u'YES', u'lastName': u'patel', u'Created_at': 1464343859.0, u'Platform': u'Android', u'I am Attending': u'YES', u'food_preference': {u'food_id_1': u'YES', u'food_id_2': u'YES', u'food_id_3': u'YES'}, u'badge': u'0', u'email': u'priyal@gmail.com'}, u'NkNjJSTbnkPc62Y33WwhXCluQYI3': {u'status': u'offline', u'firstName': u'Yossi', u'Direct Messages': u'YES', u'lastName': u'Finkel', u'Created_at': 1470205785.357885, u'Platform': u'iOS', u'I am Attending': u'YES', u'email': u'yossifinkel@gmail.com'}, u'AoT3OjT2hZVYgrrowQRWQBJHRxF3': {u'status': u'offline', u'firstName': u'Noah', u'Direct Messages': u'YES', u'lastName': u'Bar-Shain', u'Created_at': 1467226444.007731, u'Platform': u'iOS', u'I am Attending': u'YES', u'food_preference': {u'food_id_1': u'YES'}, u'email': u'nbarshain@gmail.com'}, u'648b1b1e-08b5-4229-a90e-5782b093738f': {u'status': u'online', u'firstName': u'chan', u'Direct Messages': u'YES', u'lastName': u'v', u'Created_at': 1470097027.327191, u'Platform': u'iOS', u'I am Attending': u'YES', u'food_preference': {u'food_id_3': u'YES'}, u'email': u'cmvogel2@gmail.com'}, u'facebook:10156894242200113': {u'status': u'offline', u'Direct Messages': u'YES', u'firstName': u'Zach', u'lastName': u'Kfare', u'Platform': u'iOS', u'I am Attending': u'YES'}, u'7dc2c362-5191-45a4-af97-9e060013a781': {u'status': u'online', u'firstName': u'kishan', u'Direct Messages': u'YES', u'lastName': u'tr', u'Created_at': 1468497752.680523, u'Platform': u'iOS', u'I am Attending': u'YES', u'badge': u'1', u'email': u'kishan123@gmail.com'}, u'QlGeAtKnxhaP4N1dMeLysXsVrS93': {u'status': u'offline', u'firstName': u'Rebecca', u'Direct Messages': u'YES', u'lastName': u'Fuhrman', u'Created_at': 1466365933.0, u'Platform': u'Android', u'I am Attending': u'YES', u'food_preference': {u'food_id_1': u'YES'}, u'badge': u'1', u'email': u'rsfuhrman@gmail.com'}, u'XXyuxjDca3dJ9tBH3FciZ3JfWBD2': {u'status': u'online', u'firstName': u'Ujjaval', u'Direct Messages': u'YES', u'allergies': {u'allergy_id_5': u'YES', u'allergy_id_4': u'YES', u'allergy_id_1': u'YES', u'allergy_id_3': u'YES', u'allergy_id_2': u'YES'}, u'Created_at': 1468235180.0, u'lastName': u'Jani', u'Platform': u'Android', u'I am Attending': u'YES', u'food_preference': {u'food_id_1': u'YES', u'food_id_2': u'YES', u'food_id_3': u'YES'}, u'email': u' '}, u'ae78cd2b-de86-4386-a175-391d9de63507': {u'status': u'offline', u'firstName': u'Hartley ', u'Direct Messages': u'YES', u'lastName': u'Schwartz', u'Created_at': 1470147725.225339, u'Platform': u'iOS', u'I am Attending': u'YES', u'email': u'Hartley.schwartz@gmail.com'}, u'waurBWTMETNKi8XKacieS3oG0uy2': {u'status': u'offline', u'firstName': u'Ilan', u'Direct Messages': u'YES', u'lastName': u'Cohen', u'Created_at': 1470043531.0, u'Platform': u'Android', u'I am Attending': u'YES', u'food_preference': {u'food_id_1': u'YES'}, u'email': u'sanity@gmail.com'}, u'facebook:1082839151772528': {u'status': u'offline', u'Direct Messages': u'YES', u'firstName': u'Aryana', u'allergies': {u'allergy_id_5': u'YES', u'allergy_id_4': u'YES', u'allergy_id_1': u'YES', u'allergy_id_3': u'YES', u'allergy_id_2': u'YES'}, u'lastName': u'Bibi', u'Platform': u'iOS', u'I am Attending': u'YES', u'food_preference': {u'food_id_1': u'YES'}}, u'65ce8e90-f989-4a32-8e1b-a80a137bc4af': {u'status': u'offline', u'firstName': u'chaya', u'Direct Messages': u'YES', u'lastName': u'rapps', u'Created_at': 1469324950.0, u'Platform': u'Android', u'I am Attending': u'YES', u'food_preference': {u'food_id_1': u'YES'}, u'badge': u'0', u'email': u'chayaeichen@gmail.com'}, u'fc4974c8-413d-4348-a5d9-b768fa1c9c82': {u'status': u'offline', u'firstName': u'Daniel', u'Direct Messages': u'YES', u'lastName': u'Boiarsky', u'Created_at': 1470196774.228828, u'Platform': u'iOS', u'I am Attending': u'YES', u'email': u'boiarsky18@gmail.com'}, u'tGz6aHi9YvghDhA3QweoER3R4Vz1': {u'status': u'online', u'firstName': u'Eliana', u'Direct Messages': u'YES', u'lastName': u'Myers', u'Created_at': 1470329152.0, u'Platform': u'Android', u'I am Attending': u'YES', u'badge': u'0', u'email': u'nickysim101@gmail.com'}, u'HpNlGaD9NxVfRGGOfj5nW0Co0Fs2': {u'status': u'offline', u'firstName': u'Scott', u'Direct Messages': u'YES', u'lastName': u'Ehrenberg', u'Created_at': 1470387720.245619, u'Platform': u'iOS', u'I am Attending': u'YES', u'email': u'scottehrenberg@gmail.com'}, u'piWfNlep9CT294xK6U4ijnkRwV62': {u'status': u'offline', u'firstName': u'Sarah', u'Direct Messages': u'YES', u'lastName': u'Moody', u'Created_at': 1470309351.952123, u'Platform': u'iOS', u'I am Attending': u'YES', u'email': u'sarah.moody89@gmail.com'}, u'3fb5f54c-22e0-4b26-af74-0051b695b6bb': {u'status': u'offline', u'firstName': u'pooja', u'Direct Messages': u'YES', u'lastName': u'panchal', u'Created_at': 1464343405.0, u'Platform': u'Android', u'I am Attending': u'YES', u'food_preference': {u'food_id_1': u'YES', u'food_id_2': u'YES', u'food_id_3': u'YES'}, u'badge': u'0', u'email': u'pooja.panchal@tristatetechnology.co.in'}, u'facebook:10153768104191508': {u'status': u'offline', u'firstName': u'Mikhayla', u'Direct Messages': u'YES', u'lastName': u'Bibi', u'Platform': u'iOS', u'I am Attending': u'YES', u'food_preference': {u'food_id_1': u'YES'}, u'badge': u'0', u'email': u'mikhaylabb@aol.com'}, u'926e4e6d-f8ce-490f-97a2-43142fe0af46': {u'status': u'offline', u'Direct Messages': u'YES', u'firstName': u'aaron', u'lastName': u'Friedman', u'Platform': u'iOS', u'I am Attending': u'YES', u'badge': u'0'}, u'facebook:10154156101894880': {u'status': u'offline', u'Direct Messages': u'YES', u'firstName': u'Aryeh', u'lastName': u'Canter', u'Platform': u'iOS', u'I am Attending': u'YES', u'food_preference': {u'food_id_1': u'YES'}}, u'facebook:10205335109732329': {u'status': u'offline', u'Direct Messages': u'YES', u'firstName': u'Lauren', u'lastName': u'Jank', u'Platform': u'iOS', u'I am Attending': u'YES', u'food_preference': {u'food_id_1': u'YES'}}, u'78ddc2a6-576a-481d-9d0a-270362e60c0b': {u'status': u'offline', u'Direct Messages': u'YES', u'firstName': u'Shani ', u'lastName': u'h ', u'Platform': u'iOS', u'I am Attending': u'YES', u'food_preference': {u'food_id_1': u'YES'}}, u'fDdqHOVEKne7ERLQjuwN4MYrt632': {u'status': u'offline', u'firstName': u'Shachar', u'Direct Messages': u'YES', u'lastName': u'Ben-Ami', u'Created_at': 1468781401.0, u'Platform': u'Android', u'I am Attending': u'YES', u'badge': u'0', u'email': u'venesian101@gmail.com'}, u'28140cae-1502-476f-bcb5-5e958865a0c9': {u'status': u'offline', u'firstName': u'daniella', u'Direct Messages': u'YES', u'lastName': u'lazar', u'Created_at': 1468325554.274742, u'Platform': u'iOS', u'I am Attending': u'YES', u'food_preference': {u'food_id_1': u'YES'}, u'badge': u'1', u'email': u'lazar.daniella@gmail.com'}, u'5782756f-0bf6-46c4-8964-49fa7ca2934b': {u'status': u'online', u'Direct Messages': u'YES', u'firstName': u'pankaj', u'lastName': u'prajapati', u'Platform': u'iOS', u'I am Attending': u'YES', u'food_preference': {u'food_id_1': u'YES', u'food_id_2': u'YES', u'food_id_3': u'YES'}, u'badge': u'1'}, u'61a203a3-e25a-489d-8bc2-fb950714079d': {u'status': u'offline', u'firstName': u'Aaron', u'Direct Messages': u'YES', u'lastName': u'Berk', u'Created_at': 1468279970.456334, u'Platform': u'iOS', u'I am Attending': u'YES', u'food_preference': {u'food_id_1': u'YES'}, u'email': u'aaronjberk@gmail.com'}, u'Mij5qrquSNMu34glxV4iXHk8AXB2': {u'status': u'offline', u'firstName': u'Ari', u'Direct Messages': u'YES', u'lastName': u'Slomovic', u'Created_at': 1469747846.0, u'Platform': u'Android', u'I am Attending': u'YES', u'email': u'arislomovic@gmail.com'}, u'MQrNUD3sOcWZNN9wSbu1PNmryi92': {u'status': u'offline', u'firstName': u'Daniella', u'Direct Messages': u'YES', u'lastName': u'Kupietzky', u'Created_at': 1468210239.0, u'Platform': u'Android', u'I am Attending': u'YES', u'food_preference': {u'food_id_1': u'YES'}, u'email': u' '}, u'08f9a22c-4cb9-4fdf-a64c-90f49d38e0d8': {u'status': u'offline', u'firstName': u'mayank', u'Direct Messages': u'YES', u'lastName': u'bhat', u'Created_at': 1468847529.0, u'Platform': u'Android', u'I am Attending': u'YES', u'food_preference': {u'food_id_2': u'YES'}, u'email': u'bhatnagar16mayank@gmail.com'}, u'stQfXLdRcqZM8bVlYc8rTb8rdhx1': {u'status': u'offline', u'firstName': u'Avraham', u'Direct Messages': u'YES', u'lastName': u'Nemoy', u'Created_at': 1470038908.0, u'Platform': u'Android', u'I am Attending': u'YES', u'email': u'anemoy@yahoo.com'}, u'1971c546-dcab-4896-887d-a3993a29d695': {u'status': u'offline', u'firstName': u'Amir', u'Direct Messages': u'YES', u'lastName': u'Giveon ', u'Created_at': 1465174622.436364, u'Platform': u'iOS', u'I am Attending': u'YES', u'badge': u'1', u'email': u'agiveon@gmail.com'}, u'6PHIhISEhOTlBIIXXdOqhPanh4d2': {u'status': u'offline', u'firstName': u'Seffi', u'Direct Messages': u'YES', u'lastName': u'Kogen', u'Created_at': 1470273408.51189, u'Platform': u'iOS', u'I am Attending': u'YES', u'email': u'seffi.kogen@gmail.com'}, u'facebook:10153451999542331': {u'status': u'online', u'firstName': u'Josh', u'Direct Messages': u'YES', u'lastName': u'Siegel', u'Platform': u'iOS', u'I am Attending': u'YES', u'food_preference': {u'food_id_1': u'YES'}, u'badge': u'0', u'email': u'josh.e.siegel@gmail.com'}, u'8d995a82-04a7-4591-8217-fd0249088275': {u'status': u'offline', u'firstName': u'Dani', u'Direct Messages': u'YES', u'lastName': u'R', u'Created_at': 1470187034.152202, u'Platform': u'iOS', u'I am Attending': u'YES', u'food_preference': {u'food_id_1': u'YES'}, u'email': u'dondon914@gmail.com'}, u'73d2a92c-ce3e-43d0-b519-96b22b4ad57e': {u'status': u'offline', u'firstName': u'Jason', u'Direct Messages': u'YES', u'lastName': u'Goldberg', u'Created_at': 1464296698.0, u'Platform': u'Android', u'I am Attending': u'YES', u'food_preference': {u'food_id_1': u'YES'}, u'badge': u'0', u'email': u'jasontest@gm.com'}, u'facebook:577269195768126': {u'status': u'offline', u'firstName': u'Alan', u'Direct Messages': u'YES', u'lastName': u'Katz', u'Platform': u'iOS', u'I am Attending': u'YES', u'food_preference': {u'food_id_1': u'YES'}, u'email': u'ajkatz3@gmail.com'}, u'facebook:10154158210034766': {u'status': u'offline', u'Direct Messages': u'YES', u'firstName': u'Jenny', u'lastName': u'Tepler', u'Platform': u'iOS', u'I am Attending': u'YES', u'food_preference': {u'food_id_1': u'YES'}}, u'mVRwvQPCMjZqfzkzodrJp5ByR853': {u'status': u'online', u'firstName': u'Daniel', u'Direct Messages': u'YES', u'lastName': u'Blinick', u'Created_at': 1470341641.0, u'Platform': u'Android', u'I am Attending': u'YES', u'email': u'danieljblinick@gmail.com'}, u'dbc38b9d-d314-4c64-87a9-e9a29e4f4d75': {u'status': u'online', u'firstName': u'Carmella', u'Direct Messages': u'YES', u'lastName': u'Rubin', u'Created_at': 1468268406.39973, u'Platform': u'iOS', u'I am Attending': u'YES', u'email': u'carmellarubin@gmail.com'}, u'BiJN1qn9NiTtA50J4rYQ6xs9WYi2': {u'status': u'offline', u'firstName': u'Ariela', u'Direct Messages': u'YES', u'lastName': u'Epstein', u'Created_at': 1468483015.0, u'Platform': u'Android', u'I am Attending': u'YES', u'email': u'ariela.epstein@gmail.com'}, u'lKg0UdX6Q5dJTTjlAT0mmiTT6693': {u'status': u'offline', u'firstName': u'Shani', u'Direct Messages': u'YES', u'lastName': u'Berkowitz', u'Created_at': 1470055784.0, u'Platform': u'Android', u'I am Attending': u'YES', u'email': u'sh1733@yahoo.com'}, u'Yhl0drs1eUWhPTjnEWPujT39tfP2': {u'status': u'offline', u'firstName': u'Shawn', u'Direct Messages': u'YES', u'lastName': u'Bramson', u'Created_at': 1469334818.0, u'Platform': u'Android', u'I am Attending': u'YES', u'badge': u'0', u'email': u'srb286@cornell.edu'}, u'VDKl2fhSo3Qg0Qv5URDprKPgrB33': {u'status': u'offline', u'firstName': u'Shira Yael', u'Direct Messages': u'YES', u'lastName': u'Naveh', u'Created_at': 1470310143.0, u'Platform': u'Android', u'I am Attending': u'YES', u'email': u' '}, u'vnQC5q1zDRRFu6X6knIlCHJr2El1': {u'status': u'offline', u'firstName': u'Ajay', u'Direct Messages': u'YES', u'lastName': u'Chauhan', u'Created_at': 1467289131.0, u'Platform': u'Android', u'I am Attending': u'YES', u'email': u'archauhan671@gmail.com'}, u'401fb2d5-e145-4f6d-aa4a-940565819347': {u'status': u'offline', u'firstName': u'Yedidya ', u'Direct Messages': u'YES', u'lastName': u'Weiner ', u'Created_at': 1469056034.051161, u'Platform': u'iOS', u'I am Attending': u'YES', u'food_preference': {u'food_id_1': u'YES'}, u'email': u'ydweiner17@gmail.com'}, u'lTWoSoHDHrbJDRgwZ2CH1TrgGp23': {u'status': u'offline', u'firstName': u'Zvi', u'Direct Messages': u'YES', u'lastName': u'Czermak', u'Created_at': 1470294575.600326, u'Platform': u'iOS', u'I am Attending': u'YES', u'email': u'zviczermak@hotmail.com'}, u'627ce80f-ac41-486d-b6f5-8702b14c9284': {u'status': u'offline', u'Direct Messages': u'YES', u'firstName': u'Beka', u'lastName': u'Rozenberg', u'Platform': u'iOS', u'I am Attending': u'YES', u'food_preference': {u'food_id_1': u'YES'}}, u'KsjImVblx6fh3N8FpqAnBEXoupt2': {u'status': u'offline', u'firstName': u'Carmella', u'Direct Messages': u'YES', u'allergies': {u'allergy_id_1': u'YES'}, u'Created_at': 1468411354.271199, u'lastName': u'Rubin', u'Platform': u'iOS', u'I am Attending': u'YES', u'food_preference': {u'food_id_1': u'YES'}, u'email': u'carmellarubin@gmail.com'}, u'5528e18f-5c84-4e05-bc20-8ce0865d7dea': {u'status': u'offline', u'firstName': u'Danielle', u'Direct Messages': u'YES', u'lastName': u'markowitz', u'Created_at': 1469335641.303863, u'Platform': u'iOS', u'I am Attending': u'YES', u'food_preference': {u'food_id_1': u'YES'}, u'email': u'markowitz.danielle@gmail.com'}, u'vXfjovtxeBYBE2TfgQz0SJQjofy2': {u'status': u'offline', u'firstName': u'Joshua', u'Direct Messages': u'YES', u'lastName': u'Shore', u'Created_at': 1470232510.0, u'Platform': u'Android', u'I am Attending': u'YES', u'email': u'walltumbler@gmail.com'}, u'027514bd-2f54-4456-8839-6c4a052ef53e': {u'status': u'online', u'firstName': u'Kishan', u'Direct Messages': u'YES', u'lastName': u'tristate', u'Created_at': 1463399849.349602, u'Platform': u'iOS', u'I am Attending': u'YES', u'badge': u'0', u'email': u'kishan@gmail.com'}, u'325ba529-4091-45b8-b1c6-919e8860447f': {u'status': u'offline', u'firstName': u'akiva', u'Direct Messages': u'YES', u'lastName': u'Tolchin ', u'Created_at': 1470322901.096763, u'Platform': u'iOS', u'I am Attending': u'YES', u'email': u'akivatolchin@gmail.com'}, u'807893e6-49c1-4129-aa9a-9bfb02976c5e': {u'status': u'offline', u'firstName': u'maya', u'Direct Messages': u'YES', u'lastName': u'Tsarfati', u'Created_at': 1470258657.955884, u'Platform': u'iOS', u'I am Attending': u'YES', u'email': u'maytsarfati@yahoo.com'}, u'vRchCFFKcVeoisTFUjLz0JhaVwS2': {u'status': u'offline', u'firstName': u'Rebecca', u'Direct Messages': u'YES', u'lastName': u'Newhouse', u'Created_at': 1468804628.552953, u'Platform': u'iOS', u'I am Attending': u'YES', u'food_preference': {u'food_id_1': u'YES'}, u'email': u'gita90@aol.com'}, u'Uh40naDOKxRtaJl5lKFW0DHaraW2': {u'status': u'offline', u'firstName': u'Benjamin', u'Direct Messages': u'NO', u'lastName': u'Figdor', u'Created_at': 1468267915.0, u'Platform': u'Android', u'I am Attending': u'YES', u'food_preference': {u'food_id_1': u'YES'}, u'badge': u'0', u'email': u'benji@figdor.com.au'}, u'38b7b2d3-56fc-44c2-a046-0a8bf88506ab': {u'status': u'offline', u'Direct Messages': u'YES', u'firstName': u'Junaid', u'lastName': u'Butt', u'Platform': u'iOS', u'I am Attending': u'YES', u'badge': u'1'}, u'7b0ab9ad-38a2-464a-a10e-16abcb051402': {u'status': u'online', u'Direct Messages': u'YES', u'firstName': u'hemant', u'allergies': {u'allergy_id_1': u'YES'}, u'lastName': u'dixit', u'Platform': u'iOS', u'I am Attending': u'YES', u'food_preference': {u'food_id_1': u'YES'}, u'badge': u'2'}, u'4PBurOJpshhraIzr4obmJz1mn9T2': {u'status': u'offline', u'firstName': u'Yedidya', u'Direct Messages': u'YES', u'lastName': u'Yeshurun', u'Created_at': 1468254058.370492, u'Platform': u'iOS', u'I am Attending': u'YES', u'badge': u'3', u'email': u'yedidyayosef@gmail.com'}, u'a3zI32egFggKHDSAoXhhepZBh573': {u'status': u'offline', u'firstName': u'Elie', u'Direct Messages': u'YES', u'lastName': u'Kaplan-Marans', u'Created_at': 1466962881.0, u'Platform': u'Android', u'I am Attending': u'YES', u'food_preference': {u'food_id_1': u'YES'}, u'badge': u'0', u'email': u'nowheretogo500@aol.com'}, u'M0alCRjQCsgZJGgNdWM5KFOeP2f2': {u'status': u'online', u'firstName': u'Ashutosh', u'Direct Messages': u'YES', u'lastName': u'Jani', u'Created_at': 1468239608.0, u'Platform': u'Android', u'I am Attending': u'YES', u'email': u' '}, u'facebook:10156948473785093': {u'status': u'offline', u'Direct Messages': u'YES', u'firstName': u'Robin', u'lastName': u'Carus', u'Platform': u'iOS', u'I am Attending': u'YES', u'food_preference': {u'food_id_1': u'YES'}}, u'd323183d-4389-4fdd-b010-c7729e250eec': {u'status': u'offline', u'firstName': u'Aviva', u'Direct Messages': u'YES', u'lastName': u'Strauss ', u'Created_at': 1470123470.04462, u'Platform': u'iOS', u'I am Attending': u'YES', u'email': u'avivastrauss@gmail.com'}, u'caf1f40b-1423-4a5c-992b-7f6d8b05e3cf': {u'status': u'online', u'firstName': u'Jason', u'Direct Messages': u'YES', u'lastName': u'gold', u'Created_at': 1464296812.0, u'Platform': u'Android', u'I am Attending': u'YES', u'badge': u'0', u'email': u'jasoon@gm.com'}, u'ux825DfdpVfDb6M92Wpwbimc1R43': {u'status': u'offline', u'firstName': u'Chan', u'Direct Messages': u'YES', u'lastName': u'Vogel', u'Created_at': 1470097146.731454, u'Platform': u'iOS', u'I am Attending': u'YES', u'food_preference': {u'food_id_3': u'YES'}, u'email': u'cmvogel2@gmail.com'}, u'b6be7a5f-1ba4-4831-a7ea-f734118b59a0': {u'status': u'offline', u'firstName': u'Elan', u'Direct Messages': u'YES', u'lastName': u'Kiderman', u'Created_at': 1470197290.035954, u'Platform': u'iOS', u'I am Attending': u'YES', u'email': u'elan816@gmail.com'}, u'z2o77ocXQOfGBTOraRLg318LogG3': {u'status': u'offline', u'firstName': u'Nili', u'Direct Messages': u'YES', u'lastName': u'Steinbock', u'Created_at': 1468267899.0, u'Platform': u'Android', u'I am Attending': u'YES', u'food_preference': {u'food_id_1': u'YES'}, u'badge': u'0', u'email': u'nilisteinbock@gmail.com'}, u'facebook:10153365157281642': {u'status': u'offline', u'firstName': u'Adam', u'Direct Messages': u'YES', u'lastName': u'Moisa', u'Platform': u'iOS', u'I am Attending': u'YES', u'food_preference': {u'food_id_1': u'YES'}, u'email': u'adammoisa@gmail.com'}, u'aba36a30-c366-4cfb-8e32-2b6df6bb5390': {u'status': u'online', u'firstName': u'John', u'Direct Messages': u'YES', u'lastName': u'mark', u'Created_at': 1469767783.814675, u'Platform': u'iOS', u'I am Attending': u'YES', u'email': u'john@gmail.com'}, u'OFAfUgFrX6h0bWz7q5AftNAapSs1': {u'status': u'offline', u'firstName': u'Katie', u'Direct Messages': u'YES', u'lastName': u'Kroik', u'Created_at': 1470102321.29119, u'Platform': u'iOS', u'I am Attending': u'YES', u'email': u'katiekroik@yahoo.com'}, u'1aw3oID0MoYPHYrfis63iUEKUS13': {u'status': u'offline', u'firstName': u'Yudi', u'Direct Messages': u'YES', u'lastName': u'Hercenberg', u'Created_at': 1469488217.460922, u'Platform': u'iOS', u'I am Attending': u'YES', u'food_preference': {u'food_id_1': u'YES'}, u'badge': u'0', u'email': u'jhercenberg@deerwoodcap.com'}, u'facebook:10153461877476121': {u'status': u'online', u'Direct Messages': u'YES', u'firstName': u'Chaya', u'lastName': u'Kaye Pamensky', u'Platform': u'iOS', u'I am Attending': u'YES', u'food_preference': {u'food_id_1': u'YES'}}, u'44f7fab1-d01e-45de-8c2e-64290e030aa9': {u'status': u'online', u'firstName': u'puja', u'Direct Messages': u'YES', u'lastName': u'panchal', u'Created_at': 1465629232.0, u'Platform': u'Android', u'I am Attending': u'YES', u'email': u'puja@gmail.com'}, u'3COIqpMGKuZQmnKopdyE2yhHgqo1': {u'status': u'offline', u'firstName': u'\\u05e6\\u05d1\\u05d9', u'Direct Messages': u'YES', u'lastName': u'\\u05d2\\u05d5\\u05e8\\u05d3\\u05d5\\u05df', u'Created_at': 1468270038.0, u'Platform': u'Android', u'I am Attending': u'YES', u'food_preference': {u'food_id_1': u'YES'}, u'badge': u'0', u'email': u'tzvi.gordon@yahoo.com'}, u'ELYZ3IOdx1eOPlLwZTkCZCwqqpy1': {u'status': u'online', u'firstName': u'Kishan', u'Direct Messages': u'YES', u'lastName': u'Gondaliya', u'Created_at': 1468243489.0, u'Platform': u'Android', u'I am Attending': u'YES', u'email': u'khgondaliya123@gmail.com'}, u'eb8128e0-e888-4c4c-b1f0-bc75937ba1d5': {u'status': u'offline', u'firstName': u'Edward', u'Direct Messages': u'YES', u'lastName': u'Howard', u'Created_at': 1468930053.508337, u'Platform': u'iOS', u'I am Attending': u'YES', u'food_preference': {u'food_id_1': u'YES'}, u'email': u'edchoward@gmail.com'}, u'facebook:10154134542981672': {u'status': u'offline', u'Direct Messages': u'YES', u'firstName': u'Ester', u'lastName': u'Kerzner', u'Platform': u'iOS', u'I am Attending': u'YES', u'food_preference': {u'food_id_1': u'YES'}}, u'e99HhNCmCIMmXWo2NwsOW0KzyOB2': {u'status': u'online', u'firstName': u'Dina', u'Direct Messages': u'YES', u'lastName': u'Newman', u'Created_at': 1470325459.0, u'Platform': u'Android', u'I am Attending': u'YES', u'email': u'dinanewmanrox@gmail.com'}, u'facebook:3481265993752': {u'status': u'offline', u'firstName': u'Dan', u'Direct Messages': u'YES', u'lastName': u'Smith', u'Platform': u'iOS', u'I am Attending': u'YES', u'food_preference': {u'food_id_1': u'YES'}, u'badge': u'0', u'email': u'goblue492@gmail.com'}, u'e7d253f7-a5cf-40db-a571-8566cfe19df8': {u'status': u'offline', u'firstName': u'Yaffa', u'Direct Messages': u'YES', u'lastName': u'Frend', u'Created_at': 1468314184.0, u'Platform': u'Android', u'I am Attending': u'YES', u'food_preference': {u'food_id_1': u'YES'}, u'badge': u'0', u'email': u'yaffafrend@gmail.com'}, u'a4493ce5-5fa6-43a0-81d6-3d18c2e8c846': {u'status': u'offline', u'Direct Messages': u'YES', u'firstName': u'howie ', u'lastName': u'Keenan ', u'Platform': u'iOS', u'I am Attending': u'YES'}, u'lfIJ5vAvz5NkLlkhajTFzqSmuGf1': {u'status': u'online', u'firstName': u'Joshua', u'Direct Messages': u'YES', u'lastName': u'Lazoff', u'Created_at': 1467277908.576877, u'Platform': u'iOS', u'I am Attending': u'YES', u'food_preference': {u'food_id_1': u'YES'}, u'badge': u'1', u'email': u'jlazoff@gmail.com'}, u'ZB7F575UIpNrxfyREExZDaXqPbC3': {u'status': u'offline', u'firstName': u'Benjy', u'Direct Messages': u'YES', u'lastName': u'Brandwein', u'Created_at': 1467872013.898213, u'Platform': u'iOS', u'I am Attending': u'YES', u'food_preference': {u'food_id_1': u'YES'}, u'email': u'statezap2010@aol.com'}, u'facebook:10206279904376864': {u'status': u'offline', u'Direct Messages': u'YES', u'firstName': u'Yoni', u'lastName': u'Fleischmann', u'Platform': u'iOS', u'I am Attending': u'YES', u'food_preference': {u'food_id_1': u'YES'}}, u'THqV0TbbyWcVP5sFZHe6WRy2FT22': {u'status': u'offline', u'firstName': u'Tamar', u'Direct Messages': u'YES', u'allergies': {u'allergy_id_4': u'YES', u'allergy_id_1': u'YES'}, u'Created_at': 1469563384.69364, u'lastName': u'Ossip', u'Platform': u'iOS', u'I am Attending': u'YES', u'food_preference': {u'food_id_1': u'YES'}, u'email': u'tamarossip@yahoo.com'}, u'facebook:10156760557085276': {u'status': u'offline', u'Direct Messages': u'YES', u'firstName': u'Elianna', u'lastName': u'Stern', u'Platform': u'iOS', u'I am Attending': u'YES', u'food_preference': {u'food_id_1': u'YES'}, u'badge': u'0'}, u'k4CAwU8AtobkQRbOAVKe6ZxeMWB3': {u'status': u'online', u'firstName': u'Mandi', u'Direct Messages': u'YES', u'lastName': u'Frenkel', u'Created_at': 1470145748.559472, u'Platform': u'iOS', u'I am Attending': u'YES', u'email': u'bubbafrenkel@aol.com'}, u'DL65ZJft1NgdmyNdCPZWOBot4vs1': {u'status': u'offline', u'firstName': u'Yardena', u'Direct Messages': u'YES', u'allergies': {u'allergy_id_4': u'YES'}, u'Created_at': 1470227406.278697, u'lastName': u'Reuven', u'Platform': u'iOS', u'I am Attending': u'YES', u'food_preference': {u'food_id_1': u'YES'}, u'email': u'reuvenyardena@gmail.com'}, u'9m36VbA77aXU0qavt0YUO6Wykd63': {u'status': u'offline', u'firstName': u'Yoel', u'Direct Messages': u'YES', u'lastName': u'Marmor', u'Created_at': 1470322147.0, u'Platform': u'Android', u'I am Attending': u'YES', u'email': u'yoelatmarmor@gmail.com'}, u'60429756-a77c-42dc-b035-06efc165a678': {u'status': u'offline', u'Direct Messages': u'YES', u'firstName': u'Carly ', u'lastName': u'Fried', u'Platform': u'iOS', u'I am Attending': u'YES'}, u'PDfVwkZhklgrHF7H7ITkoUBNOoJ3': {u'status': u'offline', u'firstName': u'Miri-Tal', u'Direct Messages': u'YES', u'lastName': u'Atlas', u'Created_at': 1470167627.0, u'Platform': u'Android', u'I am Attending': u'YES', u'badge': u'0', u'email': u'mta5747@yahoo.com'}, u'RksdBHjZ15OKSnwyWpecRG8NyFR2': {u'status': u'offline', u'firstName': u'Simcha', u'Direct Messages': u'YES', u'lastName': u'Tamkin', u'Created_at': 1467330853.573435, u'Platform': u'iOS', u'I am Attending': u'YES', u'email': u'slimsim29@me.com'}, u'QlxdihXTrfQ4nAbJ4LPGN6jDrUF2': {u'status': u'offline', u'firstName': u'Joseph', u'Direct Messages': u'YES', u'lastName': u'Katz', u'Created_at': 1470323065.0, u'Platform': u'Android', u'I am Attending': u'YES', u'email': u'katzi18@gmail.com'}, u'2L89P0kyXgUQTYeFj3bNhnnAVjG2': {u'status': u'offline', u'firstName': u'Noah', u'Direct Messages': u'YES', u'lastName': u'Santacruz', u'Created_at': 1470322911.0, u'Platform': u'Android', u'I am Attending': u'YES', u'badge': u'0', u'email': u'noahssantacruz@gmail.com'}, u'35113396-a1f2-4d4c-bd1d-1ee4630ba8d6': {u'status': u'online', u'firstName': u'Emily', u'Direct Messages': u'YES', u'lastName': u'Hanau ', u'Created_at': 1466605062.912571, u'Platform': u'iOS', u'I am Attending': u'YES', u'food_preference': {u'food_id_1': u'YES'}, u'badge': u'0', u'email': u'emilyhanau@gmail.com'}, u'lT4Biz86g2faw3C5oQCT0lJgE8b2': {u'status': u'offline', u'firstName': u'Daniel', u'Direct Messages': u'YES', u'lastName': u'Atwood', u'Created_at': 1469396384.939249, u'Platform': u'iOS', u'I am Attending': u'YES', u'food_preference': {u'food_id_1': u'YES'}, u'email': u'danielatwood1@gmail.com'}, u'95b47bd6-8b06-4c9c-a144-a9fefad3a188': {u'status': u'offline', u'Direct Messages': u'YES', u'firstName': u'Beth', u'lastName': u'Adler ', u'Platform': u'iOS', u'I am Attending': u'YES', u'food_preference': {u'food_id_1': u'YES'}}, u'i9cxSVpxZcfWIop4rLK8hBSbVj22': {u'status': u'offline', u'firstName': u'Jonathan', u'Direct Messages': u'YES', u'lastName': u'Druckman', u'Created_at': 1468333695.172741, u'Platform': u'iOS', u'I am Attending': u'YES', u'email': u'jsdruckman@gmail.com'}, u'H4vcPsFGHHbSMRSoaTQqBJLa8Pl1': {u'status': u'offline', u'firstName': u'Daphne', u'Direct Messages': u'YES', u'lastName': u'Logan', u'Created_at': 1468957392.017635, u'Platform': u'iOS', u'I am Attending': u'YES', u'food_preference': {u'food_id_1': u'YES', u'food_id_3': u'YES'}, u'email': u'dphlogan@aol.com'}, u'b964010c-837f-43fd-8c35-7bb65afe2688': {u'status': u'offline', u'firstName': u'Akiva ', u'Direct Messages': u'YES', u'lastName': u'Adler', u'Created_at': 1470144293.0, u'Platform': u'Android', u'I am Attending': u'YES', u'food_preference': {u'food_id_1': u'YES'}, u'email': u'keevster123@gmail.com'}, u'facebook:10153318728011599': {u'status': u'online', u'Direct Messages': u'YES', u'firstName': u'Ari', u'allergies': {u'allergy_id_2': u'YES'}, u'lastName': u'Trainer', u'Platform': u'iOS', u'I am Attending': u'YES', u'food_preference': {u'food_id_1': u'YES'}}, u'a8356348-63d1-4beb-9faf-d9e09408e5a2': {u'status': u'offline', u'firstName': u'Alex', u'Direct Messages': u'YES', u'lastName': u'Katz', u'Created_at': 1469008569.0, u'Platform': u'Android', u'I am Attending': u'YES', u'food_preference': {u'food_id_1': u'YES'}, u'email': u'alexkatz614@gmail.com'}, u'EqErGRp3kQfiBdbzHGAHehSeixs2': {u'status': u'offline', u'firstName': u'Yonah', u'Direct Messages': u'YES', u'lastName': u'Weiner', u'Created_at': 1470054546.07892, u'Platform': u'iOS', u'I am Attending': u'YES', u'food_preference': {u'food_id_1': u'YES'}, u'email': u'yonahweiner@gmail.com'}, u'f3f68849-1b13-4ad5-a191-ca43903b14f1': {u'status': u'online', u'firstName': u'Pragnesh', u'Direct Messages': u'YES', u'lastName': u'Dixit', u'Created_at': 1469764765.630819, u'Platform': u'iOS', u'I am Attending': u'YES', u'email': u'Pragnesh.dixit@tristatetechnology.com'}, u'k8lKiTzkJvRy7rsgzxcIjfy1SO33': {u'status': u'offline', u'firstName': u'Avi', u'Direct Messages': u'YES', u'lastName': u'Mayer', u'Created_at': 1468179629.295017, u'Platform': u'iOS', u'I am Attending': u'YES', u'food_preference': {u'food_id_1': u'YES'}, u'badge': u'0', u'email': u'avi.mayer@gmail.com'}, u'ZzcPKgkQ99N5UH0ssUiEZsOjGBB2': {u'status': u'offline', u'firstName': u'Elana', u'Direct Messages': u'YES', u'lastName': u'Raskas', u'Created_at': 1470328362.71444, u'Platform': u'iOS', u'I am Attending': u'YES', u'email': u''}, u'0c716ff2-eea9-41d4-a3d2-b967765a6bd7': {u'status': u'offline', u'firstName': u'Esther', u'Direct Messages': u'YES', u'lastName': u'Hindin', u'Created_at': 1470327255.0, u'Platform': u'Android', u'I am Attending': u'YES', u'food_preference': {u'food_id_1': u'YES'}, u'email': u'estherhindin@gmail.com'}, u'c5398b33-a6ae-4145-ac22-708d115bdeba': {u'status': u'online', u'firstName': u'Pia ', u'Direct Messages': u'YES', u'allergies': {u'allergy_id_4': u'YES'}, u'Created_at': 1467020573.0, u'lastName': u'H', u'Platform': u'Android', u'I am Attending': u'YES', u'food_preference': {u'food_id_1': u'YES', u'food_id_2': u'YES', u'food_id_3': u'YES'}, u'badge': u'0', u'email': u'piahagenbach@gmail.com'}, u'f8e7e890-7f11-4451-b21f-dbe12144d467': {u'status': u'online', u'firstName': u'Arielle', u'Direct Messages': u'YES', u'lastName': u'Kwestel', u'Created_at': 1470133267.0, u'Platform': u'Android', u'I am Attending': u'YES', u'email': u'ariellekwestel@gmail.com'}, u'D67U0MDaxFhLxEXDMhVQdKWldiP2': {u'status': u'offline', u'firstName': u'Rachellie', u'Direct Messages': u'YES', u'lastName': u'Paneth', u'Created_at': 1468862102.528768, u'Platform': u'iOS', u'I am Attending': u'YES', u'food_preference': {u'food_id_1': u'YES'}, u'email': u'rpaneth@gmail.com'}, u's8U7C5isN9PQjmP8wNDh5q36QqX2': {u'status': u'offline', u'firstName': u'Melissa', u'Direct Messages': u'YES', u'lastName': u'Taub', u'Created_at': 1470059578.133383, u'Platform': u'iOS', u'I am Attending': u'YES', u'email': u'mtaub6@gmail.com'}, u'OxdsGdi25VSfpKMLbpV6fW6pfaS2': {u'status': u'offline', u'firstName': u'Jordy', u'Direct Messages': u'YES', u'lastName': u'Burstein', u'Created_at': 1470103930.0, u'Platform': u'Android', u'I am Attending': u'YES', u'food_preference': {u'food_id_2': u'YES'}, u'badge': u'0', u'email': u'jordana.burstein@gmail.com'}, u'99d74b8f-0bed-4138-a1e3-25a6403edc46': {u'status': u'offline', u'firstName': u'Deena ', u'Direct Messages': u'YES', u'lastName': u'Jacob ', u'Created_at': 1470012599.491961, u'Platform': u'iOS', u'I am Attending': u'YES', u'email': u'duckes@gmail.com'}, u'facebook:10205027107471310': {u'status': u'offline', u'Direct Messages': u'YES', u'firstName': u'Ariel', u'lastName': u'Kosc', u'Platform': u'iOS', u'I am Attending': u'YES', u'food_preference': {u'food_id_2': u'YES'}}, u'9PCOyeq0NyUsSuqTy7DeQ6KVS5J3': {u'status': u'offline', u'firstName': u'\\u610f\\u5320\\u8ab2', u'Direct Messages': u'YES', u'lastName': u'\\u7279\\u8a31\\u5e81', u'Created_at': 1468909748.074133, u'Platform': u'iOS', u'I am Attending': u'YES', u'email': u'tokkyo.isyo.2016.101@gmail.com'}, u'0433cbc2-128d-4d26-a919-7d1465b10b79': {u'status': u'online', u'firstName': u'Gavriella', u'Direct Messages': u'YES', u'lastName': u'Bigio', u'Created_at': 1470331736.0, u'Platform': u'Android', u'I am Attending': u'YES', u'email': u'Gavriella2b@gmail.com'}, u'809c58cf-a68b-4828-9eff-c88754ec34f6': {u'status': u'offline', u'firstName': u'Lauren ', u'Direct Messages': u'YES', u'lastName': u'Springer', u'Created_at': 1464829104.722081, u'Platform': u'iOS', u'I am Attending': u'YES', u'food_preference': {u'food_id_1': u'YES'}, u'badge': u'0', u'email': u'springerlauren@gmail.com'}, u'2a14881a-56e6-4ae5-a5e4-bfbc9b1963bd': {u'status': u'offline', u'firstName': u'Talia', u'Direct Messages': u'YES', u'lastName': u'Rubin', u'Created_at': 1467806952.841314, u'Platform': u'iOS', u'I am Attending': u'YES', u'food_preference': {u'food_id_1': u'YES'}, u'email': u'taliajrubin@gmail.com'}, u'facebook:10208240259578748': {u'status': u'offline', u'Direct Messages': u'YES', u'firstName': u'Eli', u'lastName': u'Shavalian', u'I am Attending': u'YES', u'food_preference': {u'food_id_1': u'YES'}}, u'FGiECBUeSWXO6XmqS819DltPoyw1': {u'status': u'offline', u'firstName': u'Aaron', u'Direct Messages': u'YES', u'lastName': u'Lesser', u'Created_at': 1470326852.0, u'Platform': u'Android', u'I am Attending': u'YES', u'email': u'aaronlesser@gmail.com'}, u'facebook:199992287052621': {u'status': u'offline', u'firstName': u'Mahi', u'Direct Messages': u'YES', u'lastName': u'Solanki', u'Created_at': 1468230095.0, u'Platform': u'Android', u'I am Attending': u'YES', u'badge': u'0', u'email': u'poojapanchal8512@gmail.com'}, u'T19UcP4kPwTAyI8ul9IYVyus3V42': {u'status': u'offline', u'firstName': u'Amy', u'Direct Messages': u'YES', u'lastName': u'Kessler', u'Created_at': 1470309748.0, u'Platform': u'Android', u'I am Attending': u'YES', u'badge': u'0', u'email': u'amzamy@gmail.com'}, u'a4176e4e-fffa-4a63-ac6f-e83a623597c5': {u'status': u'online', u'firstName': u'Adam', u'Direct Messages': u'YES', u'allergies': {u'allergy_id_2': u'YES'}, u'Created_at': 1464331842.694804, u'lastName': u'Goldberg', u'Platform': u'iOS', u'I am Attending': u'YES', u'food_preference': {u'food_id_1': u'YES'}, u'email': u'ag@gm.com'}, u'bbc0d2c3-f64e-4d82-9e2f-760359943c2e': {u'status': u'offline', u'firstName': u'Gila', u'Direct Messages': u'YES', u'lastName': u'Bublick', u'Created_at': 1468271578.461344, u'Platform': u'iOS', u'I am Attending': u'NO', u'food_preference': {u'food_id_1': u'YES'}, u'badge': u'1', u'email': u'gbublick@gmail.com'}, u'QLLkNrSvLYUUpR1usMBW0eie3y42': {u'status': u'offline', u'firstName': u'Avi', u'Direct Messages': u'YES', u'lastName': u'Persin', u'Created_at': 1470091913.883148, u'Platform': u'iOS', u'I am Attending': u'YES', u'food_preference': {u'food_id_1': u'YES'}, u'email': u'avipersin@gmail.com'}, u'hMLZ19tlTtaEFoMH4Ls2NNZ8rL12': {u'status': u'offline', u'firstName': u'Gila', u'Direct Messages': u'YES', u'lastName': u'Glazerson', u'Created_at': 1470164519.0, u'Platform': u'Android', u'I am Attending': u'YES', u'email': u' '}, u'Fn43yp9rIKUiyATcQddCSBy65rY2': {u'status': u'online', u'firstName': u'Tamar', u'Direct Messages': u'YES', u'lastName': u'Saar', u'Created_at': 1470290583.0, u'Platform': u'Android', u'I am Attending': u'YES', u'email': u' '}, u'09bdfd77-db06-48c9-b66a-5cfa440e2799': {u'status': u'online', u'firstName': u'Naomi', u'Direct Messages': u'YES', u'lastName': u'Glustein', u'Created_at': 1468179676.936183, u'Platform': u'iOS', u'I am Attending': u'YES', u'email': u'naomiyunger@gmail.com'}, u'df72fe31-beea-4b6d-ba68-ab92b5185a1e': {u'status': u'online', u'Direct Messages': u'YES', u'firstName': u'Michael ', u'lastName': u'Reidler ', u'Platform': u'iOS', u'I am Attending': u'YES', u'food_preference': {u'food_id_1': u'YES'}, u'badge': u'1'}, u'KNeMGcULoAVMADoVcPqKk2K2LSq2': {u'status': u'offline', u'firstName': u'Michael', u'Direct Messages': u'YES', u'lastName': u'Reidler', u'Created_at': 1470176881.186705, u'Platform': u'iOS', u'I am Attending': u'YES', u'badge': u'1', u'email': u'mr2703@nyu.edu'}, u'GWdyi1UgRKdevXg3YTGZmySkCC93': {u'status': u'offline', u'firstName': u'Shoshi', u'Direct Messages': u'YES', u'lastName': u'Singer', u'Created_at': 1470364966.972921, u'Platform': u'iOS', u'I am Attending': u'YES', u'email': u'shoshigs@gmail.com'}, u'6d90b649-549e-48a6-ac81-f5f91c633ad7': {u'status': u'online', u'firstName': u'Saskia', u'Direct Messages': u'YES', u'lastName': u'Stiebel', u'Created_at': 1470093119.999521, u'Platform': u'iOS', u'I am Attending': u'YES', u'food_preference': {u'food_id_1': u'YES'}, u'email': u'saskiafreud@googlemail.com'}, u'facebook:978437555609231': {u'status': u'offline', u'Direct Messages': u'YES', u'firstName': u'Ari', u'lastName': u'Marks', u'Platform': u'iOS', u'I am Attending': u'YES', u'food_preference': {u'food_id_1': u'YES'}}, u'facebook:465886913607417': {u'status': u'offline', u'Direct Messages': u'YES', u'firstName': u'John', u'lastName': u'Teslie', u'Platform': u'iOS', u'I am Attending': u'YES'}, u'4ZcSMm2SxkOODIq6jOicq2i8MNE3': {u'status': u'offline', u'firstName': u'Adam', u'Direct Messages': u'YES', u'lastName': u'Freilich', u'Created_at': 1470226875.07618, u'Platform': u'iOS', u'I am Attending': u'YES', u'food_preference': {u'food_id_1': u'YES', u'food_id_2': u'YES', u'food_id_3': u'YES'}, u'email': u'adam.m.freilich@gmail.com'}, u'f64d962e-2395-4c7f-9507-99fafe256986': {u'status': u'online', u'Direct Messages': u'YES', u'firstName': u'Harry ', u'lastName': u'Reidler ', u'Platform': u'iOS', u'I am Attending': u'YES', u'food_preference': {u'food_id_1': u'YES', u'food_id_2': u'YES'}, u'badge': u'1'}, u'59fd9440-6206-44a2-9c4d-15b8166449c0': {u'status': u'offline', u'firstName': u'Karen', u'Direct Messages': u'YES', u'lastName': u'Guttmann', u'Created_at': 1468770816.080324, u'Platform': u'iOS', u'I am Attending': u'YES', u'food_preference': {u'food_id_1': u'YES'}, u'email': u'mkguttmann@gmail.com'}, u'3055dff5-7b73-4241-81bd-904c0d8bc204': {u'status': u'online', u'Direct Messages': u'YES', u'firstName': u'pooja', u'lastName': u'panchal', u'Platform': u'iOS', u'I am Attending': u'YES', u'badge': u'43'}, u'facebook:10206022409542928': {u'status': u'offline', u'Direct Messages': u'YES', u'firstName': u'Leora', u'lastName': u'Cappell', u'Platform': u'iOS', u'I am Attending': u'YES', u'food_preference': {u'food_id_1': u'YES'}}, u'oLUJRZWci3d0XdsfeygUxogA9pH3': {u'status': u'online', u'firstName': u'Shalom', u'Direct Messages': u'YES', u'lastName': u'Isaacson', u'Created_at': 1470321809.0, u'Platform': u'Android', u'I am Attending': u'YES', u'email': u'shalomisaacson@gmail.com'}, u'metoj5E4vidaBGsBPWoHHyR19K32': {u'status': u'offline', u'firstName': u'Yitzy', u'Direct Messages': u'YES', u'lastName': u'Marcus', u'Created_at': 1468335605.800304, u'Platform': u'iOS', u'I am Attending': u'YES', u'food_preference': {u'food_id_1': u'YES'}, u'email': u'yitzy240@gmail.com'}, u'facebook:176197789444309': {u'status': u'online', u'firstName': u'Jhon', u'Direct Messages': u'YES', u'lastName': u'Doe', u'Created_at': 1465214246.0, u'Platform': u'Android', u'I am Attending': u'YES', u'email': u'tristate.ios@gmail.com'}, u'facebook:10207302674259953': {u'status': u'offline', u'Direct Messages': u'YES', u'firstName': u'Lynn', u'lastName': u'Sued', u'Platform': u'iOS', u'I am Attending': u'YES', u'food_preference': {u'food_id_1': u'YES'}}, u'vY55q1xTBQTIv6nM85Egz6tu2Kg2': {u'status': u'offline', u'firstName': u'Rivka', u'Direct Messages': u'YES', u'allergies': {u'allergy_id_1': u'YES'}, u'Created_at': 1468317366.0, u'lastName': u'Cohen', u'Platform': u'Android', u'I am Attending': u'YES', u'food_preference': {u'food_id_1': u'YES'}, u'email': u'rivka97@gmail.com'}, u'sCEcWPI27HhlCr8WrnTb4BuVzOH2': {u'status': u'offline', u'firstName': u'Asher', u'Direct Messages': u'YES', u'allergies': {u'allergy_id_2': u'YES'}, u'Created_at': 1468388154.0, u'lastName': u'Azad', u'Platform': u'Android', u'I am Attending': u'YES', u'food_preference': {u'food_id_2': u'YES'}, u'badge': u'0', u'email': u'ashher.azad@gmail.com'}, u'2f4895aa-ff11-4afa-8ffa-69298d248515': {u'status': u'offline', u'firstName': u'Joycee', u'Direct Messages': u'YES', u'lastName': u'Chabbott', u'Created_at': 1468290534.509818, u'Platform': u'iOS', u'I am Attending': u'YES', u'food_preference': {u'food_id_1': u'YES'}, u'badge': u'1', u'email': u'Joycee107@aol.com'}, u'ZOmmX4y56eTVXS7CUIv0k9jLcKD3': {u'status': u'offline', u'firstName': u'Ahuva', u'Direct Messages': u'YES', u'lastName': u'Schwartz', u'Created_at': 1466934213.075909, u'Platform': u'iOS', u'I am Attending': u'YES', u'food_preference': {u'food_id_1': u'YES'}, u'email': u'ahuvaschwartz@gmail.com'}, u'4e8b958a-1060-4a18-a5b5-4e7d5d528023': {u'status': u'offline', u'firstName': u'steven', u'Direct Messages': u'YES', u'lastName': u'ritholtz', u'Created_at': 1464352802.0, u'Platform': u'Android', u'I am Attending': u'YES', u'food_preference': {u'food_id_1': u'YES'}, u'badge': u'1', u'email': u'stevenritholtz@gmail.com'}, u'bd8a1150-f7c6-4d0f-92d9-60511ecd9b79': {u'status': u'offline', u'firstName': u'Daniel ', u'Direct Messages': u'YES', u'lastName': u'gross ', u'Created_at': 1468303750.746516, u'Platform': u'iOS', u'I am Attending': u'YES', u'food_preference': {u'food_id_1': u'YES'}, u'email': u'dgross27@gmail.com'}, u'8e951a6b-5e94-44f3-ab0e-e0fe15a2c5f6': {u'status': u'offline', u'firstName': u'Hilda', u'Direct Messages': u'YES', u'lastName': u'Laniado', u'Created_at': 1470197585.72129, u'Platform': u'iOS', u'I am Attending': u'YES', u'email': u'hildacoaching@hotmail.com'}, u'cBeBGKRZRmW3YrxK0kv5xtgmgg13': {u'status': u'offline', u'firstName': u'David', u'Direct Messages': u'YES', u'lastName': u'Belkin', u'Created_at': 1469036381.0, u'Platform': u'Android', u'I am Attending': u'YES', u'food_preference': {u'food_id_1': u'YES'}, u'badge': u'0', u'email': u' '}, u'Lu5sDiZ1bUO0fHz6TQkmm8gwaHv1': {u'status': u'offline', u'firstName': u'Marshal', u'Direct Messages': u'YES', u'lastName': u'Neal', u'Created_at': 1468010836.583541, u'Platform': u'iOS', u'I am Attending': u'YES', u'badge': u'1', u'email': u'm.neal.fettro@gmail.com'}, u'facebook:10209420027997754': {u'status': u'offline', u'Direct Messages': u'YES', u'firstName': u'Rochelle', u'lastName': u'Silberman', u'Platform': u'iOS', u'I am Attending': u'YES', u'food_preference': {u'food_id_1': u'YES'}}, u'3bHyCs6VMgNTnVaMPTeF39xBj6o1': {u'status': u'offline', u'firstName': u'Julia', u'Direct Messages': u'YES', u'lastName': u'Siegel', u'Created_at': 1470164958.268862, u'Platform': u'iOS', u'I am Attending': u'YES', u'food_preference': {u'food_id_1': u'YES'}, u'email': u'juliarsiegel@gmail.com'}, u'rRjerYTmDdP6C3SDhDeeF6hFE7n1': {u'status': u'offline', u'firstName': u'Hillel', u'Direct Messages': u'YES', u'lastName': u'Davis', u'Created_at': 1470331759.760562, u'Platform': u'iOS', u'I am Attending': u'YES', u'email': u'hilldav93@sbcglobal.net'}, u'facebook:10153604100508527': {u'status': u'offline', u'Direct Messages': u'YES', u'firstName': u'Rebecca', u'lastName': u'Klahr', u'Platform': u'iOS', u'I am Attending': u'YES', u'food_preference': {u'food_id_1': u'YES'}}, u'facebook:10206349123511916': {u'status': u'offline', u'firstName': u'Jenni', u'Direct Messages': u'YES', u'lastName': u'Singer', u'Created_at': 1464127984.677348, u'Platform': u'iOS', u'I am Attending': u'YES', u'email': u'jenni.szajnzinger@gmail.com'}, u'a4483f30-2297-45df-ac45-b8b50dc30121': {u'status': u'offline', u'firstName': u'Alan', u'Direct Messages': u'YES', u'lastName': u'Dawidowicz', u'Created_at': 1469090921.0, u'Platform': u'Android', u'I am Attending': u'YES', u'food_preference': {u'food_id_1': u'YES'}, u'email': u'yadawidowicz@gmail.com'}, u'qWz82oxAuYag9mW0sdr3beTNMlC2': {u'status': u'offline', u'firstName': u'Simcha', u'Direct Messages': u'YES', u'lastName': u'Levine', u'Created_at': 1469329942.0, u'Platform': u'Android', u'I am Attending': u'YES', u'food_preference': {u'food_id_1': u'YES'}, u'badge': u'0', u'email': u'beilachina770@gmail.com'}, u'3967d30a-1ae6-4dc9-a43a-717c51e903b6': {u'status': u'offline', u'firstName': u'bethia', u'Direct Messages': u'YES', u'lastName': u'rubinstein', u'Created_at': 1470172344.0, u'Platform': u'Android', u'I am Attending': u'YES', u'email': u'bethiaruby@gmail.com'}, u'9422a6ba-5fbc-4ae0-b8c6-548e7a516f78': {u'status': u'offline', u'Direct Messages': u'YES', u'firstName': u'Sandy', u'allergies': {u'allergy_id_4': u'YES'}, u'lastName': u'Piontnica', u'Platform': u'iOS', u'I am Attending': u'YES', u'food_preference': {u'food_id_1': u'YES'}}, u'bD3Xu4w0yQeU9iKboMZRNDolv4i1': {u'status': u'offline', u'firstName': u'Sara', u'Direct Messages': u'YES', u'lastName': u'Jacobovitch', u'Created_at': 1468297734.0, u'Platform': u'Android', u'I am Attending': u'YES', u'food_preference': {u'food_id_1': u'YES'}, u'badge': u'0', u'email': u'saraej67550@gmail.com'}, u'bf6ba7fe-c8b3-4f11-8f79-706f51cb674e': {u'status': u'offline', u'firstName': u'Melissa', u'Direct Messages': u'YES', u'lastName': u'adler', u'Created_at': 1470220247.459378, u'Platform': u'iOS', u'I am Attending': u'YES', u'email': u'adler.melissa@gmail.com'}, u'8ce466b6-60e8-49a3-8cd0-94c641b29f77': {u'status': u'offline', u'firstName': u'Yonina', u'Direct Messages': u'YES', u'lastName': u'Garfield', u'Created_at': 1470295211.652934, u'Platform': u'iOS', u'I am Attending': u'YES', u'email': u'yoninagarfield@gmail.com'}, u'facebook:10207787885789742': {u'status': u'offline', u'firstName': u'Daniel', u'Direct Messages': u'YES', u'lastName': u'Yosef', u'Created_at': 1464920105.0, u'Platform': u'Android', u'I am Attending': u'YES', u'food_preference': {u'food_id_1': u'YES'}, u'badge': u'0', u'email': u'yosef_daniel@walla.com'}, u'facebook:10154112728718879': {u'status': u'offline', u'Direct Messages': u'YES', u'firstName': u'Jessamyn', u'allergies': {u'allergy_id_2': u'YES'}, u'lastName': u'Sutton', u'Platform': u'iOS', u'I am Attending': u'YES', u'food_preference': {u'food_id_1': u'YES'}}, u'rspQQq33XBgYyOgAwSGyXIUQFUv2': {u'status': u'offline', u'firstName': u'Emily', u'Direct Messages': u'YES', u'lastName': u'Kestenbaum', u'Created_at': 1468261136.816325, u'Platform': u'iOS', u'I am Attending': u'YES', u'email': u'emkat123@gmail.com'}, u'ewvozS6LasSL3rPhzaSAQj8QHtn1': {u'status': u'offline', u'firstName': u'Vadim', u'Direct Messages': u'YES', u'lastName': u'Avshalumov', u'Created_at': 1468334352.882749, u'Platform': u'iOS', u'I am Attending': u'YES', u'email': u'vadim.avshalumov@gmail.com'}, u'e37fcb57-333a-44b5-8fd7-8ef1fbc56e1b': {u'status': u'offline', u'firstName': u'Adela', u'Direct Messages': u'YES', u'lastName': u'Korn', u'Created_at': 1468802233.050891, u'Platform': u'iOS', u'I am Attending': u'YES', u'food_preference': {u'food_id_1': u'YES'}, u'email': u'Adela.korn@gmail.com'}, u'Mfw7gw1PwjW8B9kx1qxQ1Ilgii72': {u'status': u'online', u'firstName': u'Ami', u'Direct Messages': u'YES', u'lastName': u'Yunger', u'Created_at': 1467807029.098975, u'Platform': u'iOS', u'I am Attending': u'YES', u'email': u'ayunger@gmail.com'}, u'yKshhUkd8ugsT4vLSH1zG9DyPIQ2': {u'status': u'offline', u'firstName': u'Binny', u'Direct Messages': u'YES', u'lastName': u'Zupnick', u'Created_at': 1468238964.0, u'Platform': u'Android', u'I am Attending': u'YES', u'food_preference': {u'food_id_1': u'YES'}, u'badge': u'0', u'email': u'anguslvr@gmail.com'}, u'XAqkMPBO3geHALmho4mdUoGSUuC3': {u'status': u'offline', u'firstName': u'Jake', u'Direct Messages': u'YES', u'lastName': u'Berger', u'Created_at': 1470298146.686182, u'Platform': u'iOS', u'I am Attending': u'YES', u'email': u'jake.berger@icloud.com'}, u'WKru0qJL91NpSWwplDEMeZgQIRI2': {u'status': u'online', u'firstName': u'Avigayil', u'Direct Messages': u'YES', u'lastName': u'Warburg', u'Created_at': 1470141654.0, u'Platform': u'Android', u'I am Attending': u'YES', u'email': u'avigayilmandel@yahoo.com'}, u'6vJbloPLHCgw7rvgxqn7VD0arFe2': {u'status': u'offline', u'firstName': u'Daniel', u'Direct Messages': u'YES', u'lastName': u'Elbogen', u'Created_at': 1468780206.0, u'Platform': u'Android', u'I am Attending': u'YES', u'food_preference': {u'food_id_1': u'YES'}, u'email': u'docphilbo91@gmail.com'}, u'MffASQtjPwPO0yzBSaOVQi7nTpf1': {u'status': u'offline', u'firstName': u'Ethan', u'Direct Messages': u'YES', u'allergies': {u'allergy_id_4': u'YES'}, u'Created_at': 1466195719.123, u'lastName': u'Stein', u'Platform': u'iOS', u'I am Attending': u'YES', u'food_preference': {u'food_id_1': u'YES'}, u'badge': u'0', u'email': u'steine@brandeis.edu'}, u'HFGRMvsKT6PCaXRE3uZNgccZv013': {u'status': u'offline', u'firstName': u'Avi', u'Direct Messages': u'YES', u'allergies': {u'allergy_id_3': u'YES'}, u'Created_at': 1468325654.0, u'lastName': u'Fogelman', u'Platform': u'Android', u'I am Attending': u'YES', u'food_preference': {u'food_id_1': u'YES'}, u'badge': u'0', u'email': u'avifogelman@gmail.com'}, u'CfiWAApfMNWUa1PMMbYl3u2oAsI2': {u'status': u'offline', u'firstName': u'Eric', u'Direct Messages': u'YES', u'lastName': u'Taub', u'Created_at': 1469338715.765865, u'Platform': u'iOS', u'I am Attending': u'YES', u'food_preference': {u'food_id_1': u'YES'}, u'email': u'eric.taub@nyu.edu'}, u'bRy9H32HuhbWarSnOniwJ0prsLv1': {u'status': u'offline', u'firstName': u'Ilan', u'Direct Messages': u'YES', u'lastName': u'Regenbaum', u'Created_at': 1470322983.0, u'Platform': u'Android', u'I am Attending': u'YES', u'badge': u'0', u'email': u'photo.iep@gmail.com'}, u'facebook:909367499209439': {u'status': u'offline', u'firstName': u'Steve', u'Direct Messages': u'YES', u'lastName': u'Stephanopolis', u'Platform': u'iOS', u'I am Attending': u'YES', u'email': u'scubasteveo12345@gmail.com'}, u'RaVuIzCmC1UsqjfyoqaRuRK2X163': {u'status': u'offline', u'firstName': u'Isabella', u'Direct Messages': u'YES', u'lastName': u'Zummo', u'Created_at': 1469327921.244771, u'Platform': u'iOS', u'I am Attending': u'YES', u'food_preference': {u'food_id_1': u'YES'}, u'email': u''}, u'NAmMa2X9sBfV6ejksBtPWk2MD3Y2': {u'status': u'online', u'firstName': u'Jayesh', u'Direct Messages': u'YES', u'lastName': u'Patel', u'Created_at': 1467294511.0, u'Platform': u'Android', u'I am Attending': u'YES', u'email': u'jayesh28589@gmail.com'}, u'facebook:10153502469457483': {u'status': u'offline', u'firstName': u'Daniel', u'Direct Messages': u'YES', u'lastName': u'Harari', u'Platform': u'iOS', u'I am Attending': u'YES', u'email': u'ddharari@hotmail.com'}, u'240ecee9-5570-4edf-97ea-3e308c81e5b7': {u'status': u'offline', u'firstName': u'Lisa ', u'Direct Messages': u'YES', u'allergies': {u'allergy_id_4': u'YES'}, u'Created_at': 1468254388.480948, u'lastName': u'Jesin', u'Platform': u'iOS', u'I am Attending': u'YES', u'food_preference': {u'food_id_1': u'YES'}, u'email': u'lisajesin@gmail.com'}, u'RSGqbYcrpsYanr4mKeW3vqCCO8y1': {u'status': u'online', u'firstName': u'Charul', u'Direct Messages': u'YES', u'lastName': u'Patel', u'Created_at': 1468229700.0, u'Platform': u'Android', u'I am Attending': u'YES', u'email': u'love4charul@yahoo.in'}, u'facebook:10156961649655397': {u'status': u'online', u'Direct Messages': u'YES', u'firstName': u'Atara', u'lastName': u'Charnoff', u'Platform': u'iOS', u'I am Attending': u'YES', u'food_preference': {u'food_id_1': u'YES'}}, u'aG3CLkfQFKfZhraQ74bBJRmaddi1': {u'status': u'offline', u'firstName': u'\\u05d9\\u05e9\\u05d9', u'Direct Messages': u'YES', u'lastName': u'\\u05e4\\u05e8\\u05d9\\u05d3\\u05de\\u05df', u'Created_at': 1470377042.143048, u'Platform': u'iOS', u'I am Attending': u'YES', u'email': u'jesterbsa@yahoo.com'}, u'rODPhwExMJM9hvwKh5Pv3kRx0TC3': {u'status': u'offline', u'firstName': u'Eve', u'Direct Messages': u'YES', u'lastName': u'Herman', u'Created_at': 1470139930.0, u'Platform': u'Android', u'I am Attending': u'YES', u'badge': u'0', u'email': u' '}, u'a7yD7Twl01X2D8z0JSrFrJrxyy53': {u'status': u'offline', u'firstName': u'Saskia', u'Direct Messages': u'YES', u'lastName': u'Freud Shtiebel', u'Created_at': 1470093827.175121, u'Platform': u'iOS', u'I am Attending': u'YES', u'badge': u'1', u'email': u'saskiafreud9@hotmail.com'}, u'410f4610-3515-48c7-988b-41b90eb35070': {u'status': u'offline', u'Direct Messages': u'YES', u'firstName': u'Sharon', u'lastName': u'Huberfeld', u'Platform': u'iOS', u'I am Attending': u'YES', u'food_preference': {u'food_id_1': u'YES'}}, u'2j7adYnDgYbLlUmswlhtxBkdZaj1': {u'status': u'offline', u'firstName': u'Shmuel', u'Direct Messages': u'YES', u'lastName': u'Apel', u'Created_at': 1470059681.543823, u'Platform': u'iOS', u'I am Attending': u'YES', u'email': u'shmuelapelis@gmail.com'}, u'NLctDCBwVmUyIZ5VppPAneSUATF3': {u'status': u'offline', u'firstName': u'Dudu', u'Direct Messages': u'YES', u'lastName': u'Azaraf', u'Created_at': 1470322782.0, u'Platform': u'Android', u'I am Attending': u'YES', u'badge': u'0', u'email': u'dazaraf@gmail.com'}, u'Ye6du6XUiGTOcjnzsdRdYYUp0ox1': {u'status': u'offline', u'firstName': u'Gedaliah', u'Direct Messages': u'YES', u'lastName': u'Freund', u'Created_at': 1470036732.405786, u'Platform': u'iOS', u'I am Attending': u'YES', u'email': u'gedaliah13@hotmail.com'}, u'd86128ed-66a5-4606-876e-d66e2c6ee35a': {u'status': u'offline', u'Direct Messages': u'YES', u'firstName': u'Joseph', u'lastName': u'Quintas', u'Platform': u'iOS', u'I am Attending': u'YES', u'food_preference': {u'food_id_1': u'YES'}}, u'EzKrp8fJ8xcZqIqN2KHmzUUChpi2': {u'status': u'offline', u'firstName': u'Michelle', u'Direct Messages': u'YES', u'lastName': u'Patkin', u'Created_at': 1470154083.0, u'Platform': u'Android', u'I am Attending': u'YES', u'badge': u'0', u'email': u'mpatkin@terpmail.umd.edu'}, u'ZbaOZHq0e8bbWfW8DaYRjBG9xjm2': {u'status': u'online', u'firstName': u'Ariella', u'Direct Messages': u'YES', u'lastName': u'Levine', u'Created_at': 1470321692.0, u'Platform': u'Android', u'I am Attending': u'YES', u'food_preference': {u'food_id_1': u'YES'}, u'badge': u'0', u'email': u'yasharkoach@gmail.com'}, u'Myc1RLsajjSUe2tXgHKHYYJycfo1': {u'status': u'offline', u'firstName': u'Dhaval', u'Direct Messages': u'YES', u'allergies': {u'allergy_id_5': u'YES', u'allergy_id_4': u'YES', u'allergy_id_1': u'YES', u'allergy_id_3': u'YES', u'allergy_id_2': u'YES'}, u'Created_at': 1468229578.0, u'lastName': u'Solanki', u'Platform': u'Android', u'I am Attending': u'YES', u'food_preference': {u'food_id_1': u'YES', u'food_id_2': u'YES', u'food_id_3': u'YES'}, u'badge': u'0', u'email': u'dhaval.solanki54@gmail.com'}, u'TxGtYs3uLlMfyPeud0qLq8G8Qjq1': {u'status': u'offline', u'firstName': u'Aryeh', u'Direct Messages': u'YES', u'lastName': u'Schechter', u'Created_at': 1468411735.0, u'Platform': u'Android', u'I am Attending': u'YES', u'food_preference': {u'food_id_1': u'YES'}, u'badge': u'0', u'email': u'onomonapiasa@aol.com'}, u'0JXlm6ttgYUALW6n8XeimJm2J2p2': {u'status': u'offline', u'firstName': u'Lisa', u'Direct Messages': u'YES', u'lastName': u'Elbogen', u'Created_at': 1470270250.747018, u'Platform': u'iOS', u'I am Attending': u'YES', u'email': u'lsr256@nyu.edu'}, u'84063155-955b-4ce4-8a63-2c4983c1802d': {u'status': u'offline', u'firstName': u'Rachel', u'Direct Messages': u'YES', u'lastName': u'Rubin', u'Created_at': 1470149104.053175, u'Platform': u'iOS', u'I am Attending': u'YES', u'email': u'rachelrubin2@me.com'}, u'facebook:10205690733291659': {u'status': u'offline', u'Direct Messages': u'YES', u'firstName': u'Tali', u'allergies': {u'allergy_id_1': u'YES'}, u'lastName': u'Neuhaus', u'Platform': u'iOS', u'I am Attending': u'YES', u'food_preference': {u'food_id_1': u'YES'}}, u'MfltFNvsZQQfNJkao6ppzMx4umC3': {u'status': u'offline', u'firstName': u'Avisha', u'Direct Messages': u'YES', u'lastName': u'NessAiver', u'Created_at': 1470399977.653342, u'Platform': u'iOS', u'I am Attending': u'YES', u'email': u'quickasult@gmail.com'}, u'6601eab5-1c1b-45fe-86df-4de8000331a7': {u'status': u'offline', u'firstName': u'Gavriel', u'Direct Messages': u'YES', u'lastName': u'Metzger', u'Created_at': 1464877323.79576, u'Platform': u'iOS', u'I am Attending': u'YES', u'food_preference': {u'food_id_1': u'YES'}, u'badge': u'0', u'email': u'gsmetzger@gmail.com'}, u'facebook:10153529375897727': {u'status': u'offline', u'firstName': u'Elie', u'Direct Messages': u'NO', u'lastName': u'Weiss', u'Platform': u'iOS', u'I am Attending': u'NO', u'email': u'eharrissonw@sbcglobal.net'}, u'9hx2laDZJJR3tc9S4EfTPKXr0jJ3': {u'status': u'offline', u'firstName': u'Arieh', u'Direct Messages': u'YES', u'lastName': u'Friedman', u'Created_at': 1470032530.0, u'Platform': u'Android', u'I am Attending': u'YES', u'email': u'ajrocket@aol.com'}, u'facebook:3770093927957': {u'status': u'offline', u'Direct Messages': u'YES', u'firstName': u'Justin', u'lastName': u'Hefter', u'Platform': u'iOS', u'I am Attending': u'YES'}, u'facebook:10205153701596084': {u'status': u'online', u'firstName': u'Aaron', u'Direct Messages': u'YES', u'lastName': u'Taylor', u'Created_at': 1468388111.0, u'Platform': u'Android', u'I am Attending': u'YES', u'food_preference': {u'food_id_1': u'YES'}, u'badge': u'2', u'email': u'aarontaylor613@gmail.com'}, u'6lkh3PkL6ZN8Ne1KuJF9JUTVfu32': {u'status': u'offline', u'firstName': u'Avi', u'Direct Messages': u'YES', u'lastName': u'Altschuler', u'Created_at': 1470298836.0, u'Platform': u'Android', u'I am Attending': u'YES', u'email': u'avialt14@gmail.com'}, u'brvijQaV3jgdZqMeh8JJsFCF0mT2': {u'status': u'online', u'firstName': u'Yos', u'Direct Messages': u'YES', u'lastName': u'Tarshish', u'Created_at': 1468384337.944539, u'Platform': u'iOS', u'I am Attending': u'YES', u'food_preference': {u'food_id_1': u'YES'}, u'email': u'j.tarsh@btinternet.com'}, u'KLU6owOMeXUeAKQoDcqFVCzjFWt2': {u'status': u'offline', u'firstName': u'Yael', u'Direct Messages': u'YES', u'lastName': u'Raden', u'Created_at': 1470167268.767034, u'Platform': u'iOS', u'I am Attending': u'YES', u'email': u'yrad92@gmail.com'}, u'facebook:10104038210340935': {u'status': u'offline', u'Direct Messages': u'YES', u'firstName': u'David', u'lastName': u'Statman', u'Platform': u'iOS', u'I am Attending': u'YES', u'food_preference': {u'food_id_1': u'YES'}}, u'32797241-5757-426d-8d07-01ee9a65c593': {u'status': u'offline', u'firstName': u'Miriam', u'Direct Messages': u'YES', u'lastName': u'Schrier ', u'Created_at': 1469095467.473829, u'Platform': u'iOS', u'I am Attending': u'YES', u'food_preference': {u'food_id_1': u'YES'}, u'email': u'Miriam.weil@gmail.com'}, u'nC8hGVcVJyg9bRUeFJNZ1pbcmnl2': {u'status': u'offline', u'firstName': u'Max', u'Direct Messages': u'YES', u'lastName': u'Kahn', u'Created_at': 1468262132.946105, u'Platform': u'iOS', u'I am Attending': u'YES', u'badge': u'1', u'email': u'maxman205@gmail.com'}, u'zkj2XKL7V1SlD6qX0LmFc8IrqWQ2': {u'status': u'offline', u'firstName': u'Uzi', u'Direct Messages': u'YES', u'lastName': u'Hershkowitz', u'Created_at': 1468903874.0, u'Platform': u'Android', u'I am Attending': u'YES', u'food_preference': {u'food_id_1': u'YES'}, u'badge': u'1', u'email': u'onlyone234@gmail.com'}, u'TJcZHz8cm1P4LQMt0sV2fWxZk773': {u'status': u'online', u'firstName': u'Amos', u'Direct Messages': u'YES', u'lastName': u'Schaffer', u'Created_at': 1470334955.0, u'Platform': u'Android', u'I am Attending': u'YES', u'food_preference': {u'food_id_1': u'YES'}, u'badge': u'0', u'email': u' '}, u'JXi4Zs9NfqgfIB3qjSQVq6XTOQS2': {u'status': u'offline', u'firstName': u'Sophie', u'Direct Messages': u'YES', u'lastName': u'Golding', u'Created_at': 1470071812.0, u'Platform': u'Android', u'I am Attending': u'YES', u'badge': u'0', u'email': u'sophs86@hotmail.com'}, u'4BTSKThVH3YZjzeWNhEkiKLf8Wp1': {u'status': u'offline', u'firstName': u'Chantelle', u'Direct Messages': u'YES', u'lastName': u'Bibi', u'Platform': u'iOS', u'I am Attending': u'YES', u'email': u'chouxbb@aol.com'}, u'60d12288-c51d-4a32-a97b-1fa65cf3cd98': {u'status': u'offline', u'firstName': u'Sarah ', u'Direct Messages': u'YES', u'lastName': u'Marlowe ', u'Created_at': 1470143044.706313, u'Platform': u'iOS', u'I am Attending': u'YES', u'email': u'smarlowe33@aim.com'}, u'KBDQiBv3GkXYwpL1yJk0nAWczhz1': {u'status': u'offline', u'firstName': u'Raya', u'Direct Messages': u'YES', u'lastName': u'Lanin', u'Created_at': 1468267220.0, u'Platform': u'Android', u'I am Attending': u'YES', u'food_preference': {u'food_id_1': u'YES', u'food_id_3': u'YES'}, u'email': u'rayaroodles@gmail.com'}, u'facebook:1199761240058459': {u'status': u'offline', u'Direct Messages': u'YES', u'firstName': u'Adriana', u'lastName': u'Schulz', u'Platform': u'iOS', u'I am Attending': u'YES', u'food_preference': {u'food_id_1': u'YES'}}, u'facebook:10207509729315803': {u'status': u'offline', u'firstName': u'Daniel', u'Direct Messages': u'YES', u'lastName': u'Rubin', u'Platform': u'iOS', u'I am Attending': u'YES', u'food_preference': {u'food_id_1': u'YES'}, u'badge': u'0', u'email': u'danielrubinidc@gmail.com'}, u'a4loTC0L8WMitXLg4VbQ0GYUgx42': {u'status': u'offline', u'firstName': u'Adina', u'Direct Messages': u'YES', u'allergies': {u'allergy_id_4': u'YES'}, u'Created_at': 1468824323.0789, u'lastName': u'Schreiber Cohn', u'Platform': u'iOS', u'I am Attending': u'YES', u'food_preference': {u'food_id_1': u'YES'}, u'email': u''}, u'facebook:10154295044783939': {u'status': u'offline', u'firstName': u'Eliyahu Natan', u'Direct Messages': u'YES', u'allergies': {u'allergy_id_4': u'YES'}, u'Created_at': 1464355767.464737, u'Platform': u'iOS', u'I am Attending': u'YES', u'lastName': u'Margulis', u'email': u'guii1991@gmail.com'}, u'facebook:237810366606933': {u'status': u'offline', u'firstName': u'Bhakti', u'Direct Messages': u'YES', u'allergies': {u'allergy_id_4': u'YES', u'allergy_id_3': u'YES'}, u'Created_at': 1468229469.0, u'lastName': u'Patel', u'Platform': u'Android', u'I am Attending': u'YES', u'food_preference': {u'food_id_1': u'YES', u'food_id_2': u'YES'}, u'badge': u'0', u'email': u' '}, u'aRivhzUfJBQ13bVGlJfi29UIoLT2': {u'status': u'offline', u'firstName': u'Aron', u'Direct Messages': u'YES', u'lastName': u'White', u'Created_at': 1467730206.0, u'Platform': u'Android', u'I am Attending': u'YES', u'food_preference': {u'food_id_1': u'YES'}, u'badge': u'0', u'email': u'aronwhitedt@gmail.com'}, u'0c747eb6-2a8c-4520-b05e-277c4125cfe4': {u'status': u'offline', u'firstName': u'Judith', u'Direct Messages': u'YES', u'lastName': u'Goldberg', u'Created_at': 1468763044.890641, u'Platform': u'iOS', u'I am Attending': u'YES', u'food_preference': {u'food_id_1': u'YES'}, u'email': u'yehuditgoldberg@gmail.com'}, u'xjhZJtujvyZi5iog1QiYPmZVxdd2': {u'status': u'online', u'firstName': u'Michelle', u'Direct Messages': u'YES', u'lastName': u'Altaras', u'Created_at': 1468215190.0, u'Platform': u'Android', u'I am Attending': u'YES', u'food_preference': {u'food_id_1': u'YES', u'food_id_2': u'YES', u'food_id_3': u'YES'}, u'badge': u'0', u'email': u' '}, u'yAABcca5b7VbJQe63QIfqUNCK4U2': {u'status': u'offline', u'firstName': u'Eitan', u'Direct Messages': u'YES', u'lastName': u'Selter', u'Created_at': 1467807096.060026, u'Platform': u'iOS', u'I am Attending': u'YES', u'food_preference': {u'food_id_1': u'YES'}, u'email': u'eitanselter@gmail.com'}, u'facebook:1728620957377908': {u'status': u'offline', u'firstName': u'Bender', u'Direct Messages': u'YES', u'lastName': u'Rodriguez', u'Created_at': 1464600708.913967, u'Platform': u'iOS', u'I am Attending': u'YES', u'food_preference': {u'food_id_1': u'YES'}, u'email': u'bender.dev.qa@gmail.com'}, u'760a2429-d60a-439e-add7-db9711cc1b73': {u'status': u'offline', u'firstName': u'Ezra', u'Direct Messages': u'YES', u'lastName': u'Ives', u'Created_at': 1470381387.274353, u'Platform': u'iOS', u'I am Attending': u'YES', u'email': u'erives1994@gmail.com'}, u'facebook:10100597886836983': {u'status': u'offline', u'Direct Messages': u'YES', u'firstName': u'Mike', u'allergies': {u'allergy_id_4': u'YES'}, u'lastName': u'Miles', u'Platform': u'iOS', u'I am Attending': u'NO', u'food_preference': {u'food_id_1': u'YES'}, u'email': u'mmiles24@gmail.com'}, u'facebook:10156779608340545': {u'status': u'offline', u'Direct Messages': u'YES', u'firstName': u'Daniel', u'lastName': u'Maghen', u'Platform': u'iOS', u'I am Attending': u'YES', u'food_preference': {u'food_id_1': u'YES'}}, u'facebook:10209435768081125': {u'status': u'offline', u'firstName': u'Heath', u'Direct Messages': u'YES', u'lastName': u'Grant', u'Platform': u'iOS', u'I am Attending': u'YES', u'food_preference': {u'food_id_1': u'YES'}, u'email': u'hgrant101@gmail.com'}, u'facebook:961913797176996': {u'status': u'online', u'firstName': u'Dixit', u'Direct Messages': u'YES', u'allergies': {u'allergy_id_1': u'YES', u'allergy_id_3': u'YES', u'allergy_id_2': u'YES'}, u'Created_at': 1468243373.0, u'lastName': u'Hemant', u'Platform': u'Android', u'I am Attending': u'YES', u'food_preference': {u'food_id_1': u'YES', u'food_id_2': u'YES', u'food_id_3': u'YES'}, u'badge': u'0', u'email': u'hemantdixit66@yahoo.co.in'}, u'pd5aM9iulVftHNBDrD1apxB3yte2': {u'status': u'offline', u'firstName': u'Michelle', u'Direct Messages': u'YES', u'lastName': u'Charnoff', u'Created_at': 1469327648.498805, u'Platform': u'iOS', u'I am Attending': u'YES', u'food_preference': {u'food_id_1': u'YES'}, u'email': u'mec338@cornell.edu'}, u'facebook:10100484500319369': {u'status': u'offline', u'Direct Messages': u'YES', u'firstName': u'Ruthie', u'lastName': u'Hackel', u'Platform': u'iOS', u'I am Attending': u'YES', u'food_preference': {u'food_id_1': u'YES', u'food_id_2': u'YES'}, u'badge': u'1'}, u'aedbad38-d417-448a-a081-914f51527e83': {u'status': u'offline', u'firstName': u'Keren', u'Direct Messages': u'YES', u'lastName': u'Moskowitz', u'Created_at': 1467957242.090798, u'Platform': u'iOS', u'I am Attending': u'YES', u'food_preference': {u'food_id_1': u'YES'}, u'badge': u'1', u'email': u'Keren.moskowitz@gmail.com'}, u'OeakmZHMkKXL8C2yc0tC8Nqad862': {u'status': u'offline', u'firstName': u'Daniel', u'Direct Messages': u'YES', u'lastName': u'Baran', u'Created_at': 1468250844.0, u'Platform': u'Android', u'I am Attending': u'YES', u'food_preference': {u'food_id_1': u'YES'}, u'badge': u'1', u'email': u'dsb2118@columbia.edu'}, u'4def6c3f-3b8d-4234-b0a4-d1185ba7cc6c': {u'status': u'online', u'firstName': u'Jay ', u'Direct Messages': u'YES', u'lastName': u'Reidler', u'Created_at': 1468262850.458579, u'Platform': u'iOS', u'I am Attending': u'YES', u'badge': u'2', u'email': u'jreidler@gmail.com'}, u'ef325984-6d81-4df4-b082-e3aef2c8137d': {u'status': u'online', u'firstName': u'kari', u'Direct Messages': u'YES', u'allergies': {u'allergy_id_1': u'YES'}, u'Created_at': 1468245998.163492, u'Platform': u'iOS', u'I am Attending': u'YES', u'lastName': u'alterman', u'badge': u'1', u'email': u'kalterman@williamdavidson.org'}, u'Cq56oNytr6a4BQrBz2YbBDQnhQY2': {u'status': u'online', u'firstName': u'Amanda', u'Direct Messages': u'YES', u'lastName': u'Snow', u'Created_at': 1470307914.186294, u'Platform': u'iOS', u'I am Attending': u'YES', u'food_preference': {u'food_id_1': u'YES'}, u'email': u'amanda_snow88@hotmail.com'}, u'22786a96-69cc-4e9c-952a-9ef1acd47b8a': {u'status': u'offline', u'firstName': u'Samara ', u'Direct Messages': u'YES', u'lastName': u'Yunger ', u'Created_at': 1467726945.722431, u'Platform': u'iOS', u'I am Attending': u'YES', u'food_preference': {u'food_id_1': u'YES'}, u'badge': u'0', u'email': u'samarayunger@gmail.com'}, u'75702497-5920-4d61-b193-b12718504d3c': {u'status': u'offline', u'firstName': u'Scott', u'Direct Messages': u'YES', u'lastName': u'Dubinsky', u'Created_at': 1470218492.0, u'Platform': u'Android', u'I am Attending': u'NO', u'email': u'smdubinsky@gmail.com'}, u'SLkIxrJkwDcerAydN4SsgDhbRmU2': {u'status': u'offline', u'firstName': u'Amir', u'Direct Messages': u'YES', u'lastName': u'Zinkow', u'Created_at': 1470331498.102284, u'Platform': u'iOS', u'I am Attending': u'YES', u'email': u'zinkow.2@osu.edu'}, u'8e631c24-7e26-4ca7-97e1-fd6de5a68b06': {u'status': u'offline', u'firstName': u'ron', u'Direct Messages': u'YES', u'lastName': u'shap', u'Created_at': 1470245512.0, u'Platform': u'Android', u'I am Attending': u'YES', u'email': u'shapirord+wemeal@gmail.com'}, u'onvscQyRkwWeglbgt5G1upprr363': {u'status': u'offline', u'firstName': u'David', u'Direct Messages': u'YES', u'lastName': u'Frohmann', u'Created_at': 1470374006.0, u'Platform': u'Android', u'I am Attending': u'YES', u'email': u'dafroh@aol.com'}, u'facebook:10156809731040344': {u'status': u'offline', u'firstName': u'Danielle', u'Direct Messages': u'YES', u'allergies': {u'allergy_id_1': u'YES'}, u'lastName': u'Sterman', u'Platform': u'iOS', u'I am Attending': u'YES', u'food_preference': {u'food_id_1': u'YES'}, u'badge': u'0', u'email': u'dbsmile93@aol.com'}, u'facebook:10153497542576641': {u'status': u'offline', u'Direct Messages': u'YES', u'firstName': u'Joel', u'lastName': u'Jesin', u'Platform': u'iOS', u'I am Attending': u'YES', u'food_preference': {u'food_id_1': u'YES'}}, u'defce382-a103-49a1-ae9b-27806abcbf8c': {u'status': u'online', u'firstName': u'Ahuva ', u'Direct Messages': u'YES', u'lastName': u'Schwartz', u'Created_at': 1466930646.625198, u'Platform': u'iOS', u'I am Attending': u'YES', u'food_preference': {u'food_id_1': u'YES'}, u'email': u'ahuvaschwartz@gmail.com'}, u'5PIbIAoIYSMebWhxG70gZ3pxRz23': {u'status': u'offline', u'firstName': u'Hannah', u'Direct Messages': u'YES', u'lastName': u'Ash', u'Created_at': 1470027656.571728, u'Platform': u'iOS', u'I am Attending': u'YES', u'email': u'singerox96@gmail.com'}, u'HyGxEDMr66evphF41RT1GgUx8oZ2': {u'status': u'offline', u'firstName': u'Eliel', u'Direct Messages': u'YES', u'lastName': u'Epelbaum', u'Created_at': 1470144790.558002, u'Platform': u'iOS', u'I am Attending': u'YES', u'email': u'eliel.epelbaum@gmail.com'}, u'facebook:10156837341115285': {u'status': u'offline', u'Direct Messages': u'YES', u'firstName': u'Talia', u'lastName': u'Friedman', u'Platform': u'iOS', u'I am Attending': u'YES', u'food_preference': {u'food_id_1': u'YES'}}, u'jRzdd08Swreq01bndtCbPgGcEMg2': {u'status': u'offline', u'firstName': u'Arielle', u'Direct Messages': u'YES', u'lastName': u'Fisher', u'Created_at': 1469760497.149912, u'Platform': u'iOS', u'I am Attending': u'YES', u'badge': u'0', u'email': u'afisher194@gmail.com'}, u'48771f42-3fb3-4cb5-a038-4b4e3d6afca9': {u'status': u'offline', u'firstName': u'daniel', u'Direct Messages': u'YES', u'lastName': u'eitan', u'Created_at': 1468765266.483199, u'Platform': u'iOS', u'I am Attending': u'YES', u'food_preference': {u'food_id_1': u'YES'}, u'email': u'skis45@aol.com'}, u'nKPnjeugWeSylCsWwjCPgnunf843': {u'status': u'offline', u'firstName': u'Mollie', u'Direct Messages': u'YES', u'lastName': u'Sharfman', u'Created_at': 1469007502.620267, u'Platform': u'iOS', u'I am Attending': u'YES', u'food_preference': {u'food_id_1': u'YES'}, u'email': u'actressbb61@yahoo.com'}, u'c69cc2af-872a-457f-8fb9-f62ae4bda5a4': {u'status': u'offline', u'firstName': u'Max ', u'Direct Messages': u'YES', u'lastName': u'Agress', u'Created_at': 1468270440.10022, u'Platform': u'iOS', u'I am Attending': u'YES', u'badge': u'1', u'email': u'mdagress@gmail.com'}, u'LfH35gzD1LZth2y8yUih841ZKLH3': {u'status': u'offline', u'firstName': u'Rebecca', u'Direct Messages': u'YES', u'lastName': u'Hia', u'Created_at': 1468286076.706721, u'Platform': u'iOS', u'I am Attending': u'YES', u'food_preference': {u'food_id_1': u'YES'}, u'email': u'becca.hia@gmail.com'}, u'facebook:10205861738609331': {u'status': u'offline', u'firstName': u'Josh', u'Direct Messages': u'YES', u'lastName': u'Nehrer', u'Platform': u'iOS', u'I am Attending': u'YES', u'food_preference': {u'food_id_1': u'YES'}, u'email': u'jmn49109@gmail.com'}, u'QScDSHRIFpZWfl7Qqs6M5vAYBsr1': {u'status': u'offline', u'firstName': u'Yonah', u'Direct Messages': u'YES', u'lastName': u'Engel', u'Created_at': 1470087014.3932, u'Platform': u'iOS', u'I am Attending': u'YES', u'food_preference': {u'food_id_1': u'YES'}, u'email': u'bluedove1022@gmail.com'}, u'facebook:10206451039530660': {u'status': u'offline', u'Direct Messages': u'YES', u'firstName': u'Jordana', u'lastName': u'Kaminetsky', u'Platform': u'iOS', u'I am Attending': u'YES', u'food_preference': {u'food_id_1': u'YES'}}, u'G7AoXkIXgwgTutBfM47Rg0ZjNk73': {u'status': u'offline', u'firstName': u'Gabe', u'Direct Messages': u'YES', u'lastName': u'Kay', u'Created_at': 1468307329.0, u'Platform': u'Android', u'I am Attending': u'YES', u'food_preference': {u'food_id_1': u'YES'}, u'badge': u'0', u'email': u'gabe.kay@gmail.com'}, u'3289e45d-1366-4716-afdb-3528db8f54f5': {u'status': u'offline', u'Direct Messages': u'YES', u'firstName': u'Heather', u'lastName': u'Mark', u'Platform': u'iOS', u'I am Attending': u'YES', u'badge': u'1'}, u'7GZ8GAwdFuVZsQUm09bEDdNDZ822': {u'status': u'offline', u'firstName': u'Shereen', u'Direct Messages': u'YES', u'lastName': u'Rashidi', u'Created_at': 1466646486.185322, u'Platform': u'iOS', u'I am Attending': u'YES', u'food_preference': {u'food_id_1': u'YES'}, u'email': u'srashidi@yu.edu'}, u'AFAT1uxFKTVYWnYWmpC9uaTK9bH3': {u'status': u'offline', u'firstName': u'Brian', u'Direct Messages': u'YES', u'lastName': u'Maissy', u'Created_at': 1470257013.0, u'Platform': u'Android', u'I am Attending': u'YES', u'food_preference': {u'food_id_1': u'YES'}, u'badge': u'0', u'email': u' '}, u'8x6cMAePkLfjdKCylpD7VYCCaUw2': {u'status': u'offline', u'firstName': u'Alex', u'Direct Messages': u'YES', u'lastName': u'Swieca', u'Created_at': 1469334985.591755, u'Platform': u'iOS', u'I am Attending': u'YES', u'food_preference': {u'food_id_1': u'YES'}, u'badge': u'0', u'email': u'alexdoggy7@aol.com'}, u'ugG1eEEMo9eFK22C5ka03oJdygq2': {u'status': u'offline', u'firstName': u'Josh', u'Direct Messages': u'YES', u'lastName': u'Fluss', u'Created_at': 1468250938.186668, u'Platform': u'iOS', u'I am Attending': u'YES', u'email': u'jfluss1226@gmail.com'}, u'facebook:10207796117758172': {u'status': u'offline', u'Direct Messages': u'YES', u'firstName': u'Shira', u'lastName': u'Hanau', u'Platform': u'iOS', u'I am Attending': u'YES', u'food_preference': {u'food_id_1': u'YES'}}, u'facebook:10206859820997711': {u'status': u'offline', u'firstName': u'\\u05e0\\u05e2\\u05dd', u'Direct Messages': u'YES', u'lastName': u'\\u05d8\\u05d5\\u05e7\\u05d9\\u05d9\\u05e2\\u05e8', u'Platform': u'iOS', u'I am Attending': u'YES', u'food_preference': {u'food_id_1': u'YES'}, u'badge': u'0', u'email': u'noman104@gmail.com'}, u'facebook:10156961553885245': {u'status': u'offline', u'Direct Messages': u'YES', u'firstName': u'Zara', u'lastName': u'Hoffman', u'Platform': u'iOS', u'I am Attending': u'YES', u'food_preference': {u'food_id_1': u'YES'}}, u'c34e60a6-1b3c-4dba-8103-e06ed121e856': {u'status': u'offline', u'firstName': u'Zack', u'Direct Messages': u'YES', u'lastName': u'Raab', u'Created_at': 1468297921.0, u'Platform': u'Android', u'I am Attending': u'YES', u'badge': u'0', u'email': u'zackraab107@gmail.com'}, u'c328fde4-1ab4-4621-a895-6fbb80475ad7': {u'status': u'offline', u'firstName': u'Eli', u'Direct Messages': u'YES', u'lastName': u'Saulson', u'Created_at': 1468260662.0, u'Platform': u'Android', u'I am Attending': u'YES', u'badge': u'0', u'email': u'eli_saulson@yahoo.com'}, u'adDCIZQ9GZXzWeji6l10mz35Dm92': {u'status': u'offline', u'firstName': u'Javier', u'Direct Messages': u'YES', u'lastName': u'Plavnick', u'Created_at': 1469379849.178806, u'Platform': u'iOS', u'I am Attending': u'YES', u'food_preference': {u'food_id_1': u'YES'}, u'email': u''}, u'j0X8ggCDCzd1RoCZgdyqFoLVzPn1': {u'status': u'offline', u'firstName': u'Dov', u'Direct Messages': u'YES', u'lastName': u'Winston', u'Created_at': 1468432462.738945, u'Platform': u'iOS', u'I am Attending': u'YES', u'food_preference': {u'food_id_1': u'YES'}, u'badge': u'1', u'email': u'dwinston17@gmail.com'}, u'DPrCUgU6xeaOglSZRco9GnUSqII2': {u'status': u'offline', u'firstName': u'Naftali', u'Direct Messages': u'YES', u'lastName': u'Pfeiffer', u'Created_at': 1470077186.0, u'Platform': u'Android', u'I am Attending': u'YES', u'food_preference': {u'food_id_1': u'YES'}, u'badge': u'0', u'email': u'lefife54@gmail.com'}, u'b3ecaa2c-c3e3-4013-80a0-0466fb54f8c8': {u'status': u'offline', u'firstName': u'Shir', u'Direct Messages': u'YES', u'lastName': u'Mio ', u'Created_at': 1470153148.92575, u'Platform': u'iOS', u'I am Attending': u'YES', u'email': u'shayna.mio@gmail.com'}, u'facebook:10154226025567578': {u'status': u'offline', u'Direct Messages': u'YES', u'firstName': u'Spencer', u'lastName': u'Weiss', u'Platform': u'iOS', u'I am Attending': u'YES'}, u'ThCJDth8VjfTvz9Lasrs4uNfj582': {u'status': u'offline', u'firstName': u'Noemie', u'Direct Messages': u'YES', u'lastName': u'Azogui-Rosenthal', u'Created_at': 1465811061.0, u'Platform': u'Android', u'I am Attending': u'YES', u'food_preference': {u'food_id_1': u'YES'}, u'badge': u'1', u'email': u'noemie.rosenthal@gmail.com'}, u'b1f32010-4bb1-4d07-ba71-dc85cd7472be': {u'status': u'offline', u'Direct Messages': u'YES', u'firstName': u'Michael', u'lastName': u'Schiff', u'Platform': u'iOS', u'I am Attending': u'YES', u'food_preference': {u'food_id_1': u'YES'}, u'badge': u'3'}}\n"
     ]
    }
   ],
   "source": [
    "print config_and_users\n"
   ]
  },
  {
   "cell_type": "code",
   "execution_count": 16,
   "metadata": {
    "collapsed": false
   },
   "outputs": [],
   "source": [
    "df = pd.DataFrame(columns=['email','firstname','lastname','created_at'])\n",
    "df1 = []\n",
    "\n",
    "for i in config_and_users:\n",
    "    try:\n",
    "        e= config_and_users[i]['email']\n",
    "    except:\n",
    "        e=\"none\"\n",
    "    try: \n",
    "        f= config_and_users[i]['firstName']\n",
    "    except:\n",
    "        f= \"none\"\n",
    "    try: \n",
    "        l=config_and_users[i]['lastName']\n",
    "    except:\n",
    "        l=\"none\"\n",
    "    try: \n",
    "        d=config_and_users[i]['Created_at']\n",
    "    except:\n",
    "        d= 0\n",
    "        \n",
    "    df1.append([e,f,l,d,get_dateformat(d)])\n",
    "\n",
    "df= pd.DataFrame(df1,columns=[\"Email\",\"FirstName\",\"LastName\",\"Create_at\",\"Date\"])\n",
    "df.sort('Create_at',ascending=-1)\n",
    "    \n",
    "df.to_csv('out-android.csv', sep='\\t', encoding='utf-8')"
   ]
  },
  {
   "cell_type": "code",
   "execution_count": 28,
   "metadata": {
    "collapsed": true
   },
   "outputs": [],
   "source": [
    "import csv\n",
    "import json\n",
    "import pandas as pd\n",
    "import numpy as np\n",
    "import calendar, datetime\n",
    "import datetime\n",
    "\n",
    "def dt(u): return datetime.datetime.utcfromtimestamp(u)\n"
   ]
  },
  {
   "cell_type": "code",
   "execution_count": 34,
   "metadata": {
    "collapsed": false
   },
   "outputs": [],
   "source": [
    "def get_meal_location(meal_id):\n",
    "    x = config_meal_data[meal_id]['meal_location']\n",
    "    if config_meal_data[meal_id]['meal_apprtment'] != \"\":\n",
    "        x=x+\" Apt: %s\"%config_meal_data[meal_id]['meal_apprtment']\n",
    "    return x\n",
    "\n",
    "def basic_meal_data(config_meal_data, date=1470342643):\n",
    "    df = get_data_after_date(config_meal_data,date)\n",
    "    return df.sort('total_attendees',ascending=-1)\n",
    "\n",
    "def get_data_after_date(config_meal_data,date):\n",
    "    df1 = []\n",
    "    new_list = []\n",
    "    for i in config_meal_data:\n",
    "        meal_data = config_meal_data[i]\n",
    "        meal_id=i\n",
    "        m_date= meal_data['meal_date']\n",
    "        total_attendees= meal_data['total_attendees']\n",
    "        host_name = get_name(config_meal_data[i]['meal_createdby'])\n",
    "        \n",
    "        if m_date>date:\n",
    "            #print \"%s , %s, Total: %s\" %( host_name, dt(m_date),total_attendees)\n",
    "            df1.append([host_name,meal_id, dt(m_date),int(total_attendees)])\n",
    "    return pd.DataFrame(df1,columns=['meal_date','meal_id','host_name','total_attendees'])\n",
    "\n",
    "def list_members_get_members_of_meal(meal_id):\n",
    "    all_meal_info = config_meal_members[meal_id]\n",
    "    return all_meal_info\n",
    "\n",
    "def get_food_item(config_meal_item,meal_id,user_id):\n",
    "    food_items_list = []\n",
    "    try: \n",
    "        x= config_meal_item[meal_id]\n",
    "        for i in x:\n",
    "            if i['user_id']==user_id:\n",
    "                food_items_list.append(i['name'])\n",
    "    except:\n",
    "        \"no items\"\n",
    "    #print food_items_list\n",
    "    return mk_list_str(food_items_list)\n",
    "\n",
    "def mk_list_str(food_items_list):\n",
    "    if len(food_items_list)==0:\n",
    "        return \"\"\n",
    "    elif len(food_items_list)==1:\n",
    "        \n",
    "        return food_items_list[0]\n",
    "    else:\n",
    "        termp=food_items_list[0]\n",
    "        \"Sup\"\n",
    "        for i in range(len(food_items_list)-2):\n",
    "           termp = termp +\", \"+food_items_list[i+1]\n",
    "        termp = termp +\", and \" +food_items_list[-1]\n",
    "        return termp\n",
    "\n",
    "def get_name(user_id):\n",
    "    try: \n",
    "        user_info = config_user_data[user_id]\n",
    "        firstName =  user_info[\"firstName\"]\n",
    "        lastName = user_info[\"lastName\"]\n",
    "    except:\n",
    "        firstName = \"No\"\n",
    "        lastName = \"User\"\n",
    "\n",
    "    return \"%s %s\" %(firstName,lastName)\n",
    "\n",
    "def get_email_name2(user_id):\n",
    "    try: \n",
    "        user_info = config_user_data[user_id]\n",
    "        firstName =  user_info[\"firstName\"]\n",
    "        lastName = user_info[\"lastName\"]\n",
    "        email = user_info[\"email\"]\n",
    "    except:\n",
    "        firstName = \"No\"\n",
    "        lastName = \"User\"\n",
    "        email = \"\"\n",
    "    return (firstName,lastName, email)\n",
    "    \n",
    "def list_of_food_items(meals_this_week):\n",
    "    listitems=[]\n",
    "    for i in range(len(meals_this_week)):\n",
    "        meal_id = meals_this_week['meal_id'][i]\n",
    "        print meal_id\n",
    "        x = list_members_get_members_of_meal(meal_id)\n",
    "        for i in range(len(x)):\n",
    "            \n",
    "            #For each user: \n",
    "            meal_id=meal_id\n",
    "            meal_time=dt(config_meal_data[meal_id]['meal_date'])\n",
    "            meal_location=get_meal_location(meal_id)\n",
    "            user_id= x[i]['user_id']\n",
    "            x_l = config_meal_data[meal_id]['meal_createdby']\n",
    "            host_name = get_name(x_l)\n",
    "            name_email=get_email_name2(x[i]['user_id'])\n",
    "            first=name_email[0]\n",
    "            last=name_email[1]\n",
    "            email=name_email[2]\n",
    "            food_item=get_food_item(config_meal_item,meal_id,user_id)\n",
    "            listitems.append([meal_id,meal_time,meal_location,user_id,host_name,first,last,email,food_item])\n",
    "        # Add what each person is bringing. \n",
    "    return pd.DataFrame(listitems,columns=[\"meal_id\",\"meal_time\",\"host_name\",\"meal_location\",\"user-id\",\"name\",\"last\",\"email\",\"food_item\"])\n",
    "\n",
    "    \n",
    "    "
   ]
  },
  {
   "cell_type": "code",
   "execution_count": 35,
   "metadata": {
    "collapsed": false
   },
   "outputs": [],
   "source": [
    "# Read the JSON .\n",
    "\n",
    "#config = json.loads(open(file).read())\n",
    "config_meal_data = json.loads(open(\"wemeal-export-meal.json\").read())\n",
    "config_user_data = json.loads(open(\"wemeal-export-user.json\").read())\n",
    "config_meal_item = json.loads(open(\"wemeal-export-mealitems.json\").read())\n",
    "config_meal_members = json.loads(open(\"wemeal-export-mealmembers.json\").read())\n",
    "\n",
    "def write_csv_of_meal_info(date=1470342643):\n",
    "    # This computes Meals happening this week and how many people are going.\n",
    "    \n",
    "    meals_this_week = basic_meal_data(config_meal_data)\n",
    "    meals_this_week.to_csv('meals_aug_4.csv', sep='\\t', encoding='utf-8')\n",
    "    #df = list_of_food_items(meals_this_week)\n",
    "    #df.to_csv('list_of_food_items_aug_4.csv', sep=',', encoding='utf-8')\n",
    "    \n",
    "#write_csv_of_meal_info()"
   ]
  },
  {
   "cell_type": "code",
   "execution_count": 36,
   "metadata": {
    "collapsed": false
   },
   "outputs": [
    {
     "name": "stdout",
     "output_type": "stream",
     "text": [
      "-KLUaeAbMW2XgyORbM5X\n"
     ]
    },
    {
     "ename": "KeyError",
     "evalue": "u'-KLUaeAbMW2XgyORbM5X'",
     "output_type": "error",
     "traceback": [
      "\u001b[0;31m---------------------------------------------------------------------------\u001b[0m",
      "\u001b[0;31mKeyError\u001b[0m                                  Traceback (most recent call last)",
      "\u001b[0;32m<ipython-input-36-0f9135f3229c>\u001b[0m in \u001b[0;36m<module>\u001b[0;34m()\u001b[0m\n\u001b[1;32m      1\u001b[0m \u001b[0mmeals_this_week\u001b[0m \u001b[0;34m=\u001b[0m \u001b[0mbasic_meal_data\u001b[0m\u001b[0;34m(\u001b[0m\u001b[0mconfig_meal_data\u001b[0m\u001b[0;34m)\u001b[0m\u001b[0;34m\u001b[0m\u001b[0m\n\u001b[0;32m----> 2\u001b[0;31m \u001b[0mdf\u001b[0m \u001b[0;34m=\u001b[0m \u001b[0mlist_of_food_items\u001b[0m\u001b[0;34m(\u001b[0m\u001b[0mmeals_this_week\u001b[0m\u001b[0;34m)\u001b[0m\u001b[0;34m\u001b[0m\u001b[0m\n\u001b[0m",
      "\u001b[0;32m<ipython-input-34-d04d2ed19d4b>\u001b[0m in \u001b[0;36mlist_of_food_items\u001b[0;34m(meals_this_week)\u001b[0m\n\u001b[1;32m     82\u001b[0m         \u001b[0mmeal_id\u001b[0m \u001b[0;34m=\u001b[0m \u001b[0mmeals_this_week\u001b[0m\u001b[0;34m[\u001b[0m\u001b[0;34m'meal_id'\u001b[0m\u001b[0;34m]\u001b[0m\u001b[0;34m[\u001b[0m\u001b[0mi\u001b[0m\u001b[0;34m]\u001b[0m\u001b[0;34m\u001b[0m\u001b[0m\n\u001b[1;32m     83\u001b[0m         \u001b[0;32mprint\u001b[0m \u001b[0mmeal_id\u001b[0m\u001b[0;34m\u001b[0m\u001b[0m\n\u001b[0;32m---> 84\u001b[0;31m         \u001b[0mx\u001b[0m \u001b[0;34m=\u001b[0m \u001b[0mlist_members_get_members_of_meal\u001b[0m\u001b[0;34m(\u001b[0m\u001b[0mmeal_id\u001b[0m\u001b[0;34m)\u001b[0m\u001b[0;34m\u001b[0m\u001b[0m\n\u001b[0m\u001b[1;32m     85\u001b[0m         \u001b[0;32mfor\u001b[0m \u001b[0mi\u001b[0m \u001b[0;32min\u001b[0m \u001b[0mrange\u001b[0m\u001b[0;34m(\u001b[0m\u001b[0mlen\u001b[0m\u001b[0;34m(\u001b[0m\u001b[0mx\u001b[0m\u001b[0;34m)\u001b[0m\u001b[0;34m)\u001b[0m\u001b[0;34m:\u001b[0m\u001b[0;34m\u001b[0m\u001b[0m\n\u001b[1;32m     86\u001b[0m \u001b[0;34m\u001b[0m\u001b[0m\n",
      "\u001b[0;32m<ipython-input-34-d04d2ed19d4b>\u001b[0m in \u001b[0;36mlist_members_get_members_of_meal\u001b[0;34m(meal_id)\u001b[0m\n\u001b[1;32m     25\u001b[0m \u001b[0;34m\u001b[0m\u001b[0m\n\u001b[1;32m     26\u001b[0m \u001b[0;32mdef\u001b[0m \u001b[0mlist_members_get_members_of_meal\u001b[0m\u001b[0;34m(\u001b[0m\u001b[0mmeal_id\u001b[0m\u001b[0;34m)\u001b[0m\u001b[0;34m:\u001b[0m\u001b[0;34m\u001b[0m\u001b[0m\n\u001b[0;32m---> 27\u001b[0;31m     \u001b[0mall_meal_info\u001b[0m \u001b[0;34m=\u001b[0m \u001b[0mconfig_meal_members\u001b[0m\u001b[0;34m[\u001b[0m\u001b[0mmeal_id\u001b[0m\u001b[0;34m]\u001b[0m\u001b[0;34m\u001b[0m\u001b[0m\n\u001b[0m\u001b[1;32m     28\u001b[0m     \u001b[0;32mreturn\u001b[0m \u001b[0mall_meal_info\u001b[0m\u001b[0;34m\u001b[0m\u001b[0m\n\u001b[1;32m     29\u001b[0m \u001b[0;34m\u001b[0m\u001b[0m\n",
      "\u001b[0;31mKeyError\u001b[0m: u'-KLUaeAbMW2XgyORbM5X'"
     ]
    }
   ],
   "source": [
    "meals_this_week = basic_meal_data(config_meal_data)\n",
    "df = list_of_food_items(meals_this_week)\n"
   ]
  },
  {
   "cell_type": "code",
   "execution_count": 21,
   "metadata": {
    "collapsed": true
   },
   "outputs": [],
   "source": [
    "#Get all users."
   ]
  },
  {
   "cell_type": "code",
   "execution_count": 33,
   "metadata": {
    "collapsed": false
   },
   "outputs": [
    {
     "data": {
      "text/plain": [
       "[{u'can_guest_invite': u'YES',\n",
       "  u'isCoHost': u'YES',\n",
       "  u'isInvited': u'NO',\n",
       "  u'meal_id': u'-KLUaeAbMW2XgyORbM5X',\n",
       "  u'number_of_member': u'1',\n",
       "  u'rsvp': u'YES',\n",
       "  u'user_id': u'facebook:474352039439987'},\n",
       " {u'can_guest_invite': u'YES',\n",
       "  u'isCoHost': u'YES',\n",
       "  u'isInvited': u'NO',\n",
       "  u'meal_id': u'-KLUaeAbMW2XgyORbM5X',\n",
       "  u'number_of_member': u'1',\n",
       "  u'rsvp': u'YES',\n",
       "  u'user_id': u'3fb5f54c-22e0-4b26-af74-0051b695b6bb'},\n",
       " {u'can_guest_invite': u'YES',\n",
       "  u'isCoHost': u'NO',\n",
       "  u'isInvited': u'YES',\n",
       "  u'meal_id': u'-KLUaeAbMW2XgyORbM5X',\n",
       "  u'number_of_member': u'1',\n",
       "  u'rsvp': u'YES',\n",
       "  u'user_id': u'Myc1RLsajjSUe2tXgHKHYYJycfo1'},\n",
       " {u'can_guest_invite': u'YES',\n",
       "  u'isCoHost': u'NO',\n",
       "  u'isInvited': u'NO',\n",
       "  u'meal_id': u'-KLUaeAbMW2XgyORbM5X',\n",
       "  u'member_meal_items': u'',\n",
       "  u'number_of_member': u'4',\n",
       "  u'rsvp': u'YES',\n",
       "  u'user_id': u'facebook:961913797176996'}]"
      ]
     },
     "execution_count": 33,
     "metadata": {},
     "output_type": "execute_result"
    }
   ],
   "source": [
    "config_meal_item['-KLUaeAbMW2XgyORbM5X']"
   ]
  },
  {
   "cell_type": "code",
   "execution_count": null,
   "metadata": {
    "collapsed": true
   },
   "outputs": [],
   "source": []
  }
 ],
 "metadata": {
  "kernelspec": {
   "display_name": "Python 2",
   "language": "python",
   "name": "python2"
  },
  "language_info": {
   "codemirror_mode": {
    "name": "ipython",
    "version": 2
   },
   "file_extension": ".py",
   "mimetype": "text/x-python",
   "name": "python",
   "nbconvert_exporter": "python",
   "pygments_lexer": "ipython2",
   "version": "2.7.11"
  }
 },
 "nbformat": 4,
 "nbformat_minor": 0
}
