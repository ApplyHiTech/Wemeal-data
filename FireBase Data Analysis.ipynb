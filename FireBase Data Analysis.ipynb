{
 "cells": [
  {
   "cell_type": "code",
   "execution_count": 23,
   "metadata": {
    "collapsed": true
   },
   "outputs": [],
   "source": [
    "import json\n",
    "import pandas as pd\n",
    "import numpy as np\n",
    "import calendar, datetime\n",
    "import datetime\n",
    "\n",
    "file = 'wemeal-export.json'\n",
    "user_file = 'wemeal-export-users.json'"
   ]
  },
  {
   "cell_type": "code",
   "execution_count": 24,
   "metadata": {
    "collapsed": false
   },
   "outputs": [],
   "source": [
    "config = json.loads(open(file).read())\n",
    "config_users = json.loads(open(user_file).read())"
   ]
  },
  {
   "cell_type": "code",
   "execution_count": 2,
   "metadata": {
    "collapsed": true
   },
   "outputs": [],
   "source": [
    "def dt(u): return datetime.datetime.utcfromtimestamp(u)\n"
   ]
  },
  {
   "cell_type": "code",
   "execution_count": 3,
   "metadata": {
    "collapsed": false
   },
   "outputs": [
    {
     "ename": "NameError",
     "evalue": "name 'config' is not defined",
     "output_type": "error",
     "traceback": [
      "\u001b[0;31m---------------------------------------------------------------------------\u001b[0m",
      "\u001b[0;31mNameError\u001b[0m                                 Traceback (most recent call last)",
      "\u001b[0;32m<ipython-input-3-d587d54d6381>\u001b[0m in \u001b[0;36m<module>\u001b[0;34m()\u001b[0m\n\u001b[1;32m      1\u001b[0m \u001b[0;31m#Chats\u001b[0m\u001b[0;34m\u001b[0m\u001b[0;34m\u001b[0m\u001b[0m\n\u001b[0;32m----> 2\u001b[0;31m \u001b[0mchats\u001b[0m \u001b[0;34m=\u001b[0m \u001b[0mlen\u001b[0m\u001b[0;34m(\u001b[0m\u001b[0mconfig\u001b[0m\u001b[0;34m[\u001b[0m\u001b[0;34m'chatMessages'\u001b[0m\u001b[0;34m]\u001b[0m\u001b[0;34m)\u001b[0m\u001b[0;34m\u001b[0m\u001b[0m\n\u001b[0m\u001b[1;32m      3\u001b[0m \u001b[0musers\u001b[0m \u001b[0;34m=\u001b[0m \u001b[0mlen\u001b[0m\u001b[0;34m(\u001b[0m\u001b[0mconfig\u001b[0m\u001b[0;34m[\u001b[0m\u001b[0;34m'users'\u001b[0m\u001b[0;34m]\u001b[0m\u001b[0;34m)\u001b[0m\u001b[0;34m\u001b[0m\u001b[0m\n\u001b[1;32m      4\u001b[0m \u001b[0mmeals\u001b[0m \u001b[0;34m=\u001b[0m \u001b[0mlen\u001b[0m\u001b[0;34m(\u001b[0m\u001b[0mconfig\u001b[0m\u001b[0;34m[\u001b[0m\u001b[0;34m'meal'\u001b[0m\u001b[0;34m]\u001b[0m\u001b[0;34m)\u001b[0m\u001b[0;34m\u001b[0m\u001b[0m\n",
      "\u001b[0;31mNameError\u001b[0m: name 'config' is not defined"
     ]
    }
   ],
   "source": [
    "#Chats\n",
    "chats = len(config['chatMessages'])\n",
    "users = len(config['users'])\n",
    "meals = len(config['meal'])"
   ]
  },
  {
   "cell_type": "code",
   "execution_count": 4,
   "metadata": {
    "collapsed": false
   },
   "outputs": [
    {
     "ename": "NameError",
     "evalue": "name 'users' is not defined",
     "output_type": "error",
     "traceback": [
      "\u001b[0;31m---------------------------------------------------------------------------\u001b[0m",
      "\u001b[0;31mNameError\u001b[0m                                 Traceback (most recent call last)",
      "\u001b[0;32m<ipython-input-4-3b81ad4c6951>\u001b[0m in \u001b[0;36m<module>\u001b[0;34m()\u001b[0m\n\u001b[0;32m----> 1\u001b[0;31m \u001b[0;32mprint\u001b[0m \u001b[0;34m\"There are %s users, %s chats, and %s meals\"\u001b[0m \u001b[0;34m%\u001b[0m \u001b[0;34m(\u001b[0m \u001b[0musers\u001b[0m\u001b[0;34m,\u001b[0m \u001b[0mchats\u001b[0m\u001b[0;34m,\u001b[0m \u001b[0mmeals\u001b[0m\u001b[0;34m)\u001b[0m\u001b[0;34m\u001b[0m\u001b[0m\n\u001b[0m",
      "\u001b[0;31mNameError\u001b[0m: name 'users' is not defined"
     ]
    }
   ],
   "source": [
    "print \"There are %s users, %s chats, and %s meals\" % ( users, chats, meals)"
   ]
  },
  {
   "cell_type": "code",
   "execution_count": 39,
   "metadata": {
    "collapsed": false
   },
   "outputs": [],
   "source": [
    "all_users= config['users']\n"
   ]
  },
  {
   "cell_type": "code",
   "execution_count": 40,
   "metadata": {
    "collapsed": false
   },
   "outputs": [
    {
     "name": "stdout",
     "output_type": "stream",
     "text": [
      "Patel, Jayesh, jayesh28589@gmail.com\n",
      "Newman, Dina, dinanewmanrox@gmail.com\n",
      "Sacks, Jacob, sacksjacob@gmail.com\n",
      "Doriya, Maulik, maulikdoriya786@gmail.com\n",
      "Jesin, Lisa , lisajesin@gmail.com\n",
      "Harari, Daniel,  N/A\n",
      "Patel, Charul, love4charul@yahoo.in\n",
      "Keenan , howie ,  N/A\n",
      "Charnoff, Atara,  N/A\n",
      "Arbesfeld, Aliza,  N/A\n",
      "Brandwein, Benjy, statezap2010@aol.com\n",
      "Nathanson, Andrea, andreasemail18@gmail.com\n",
      "Fleischmann, Yoni,  N/A\n",
      "Neuhaus, Tali,  N/A\n",
      "Kaplan-Marans, Elie, nowheretogo500@aol.com\n",
      "Sued, Lynn,  N/A\n",
      "Stern, Elianna,  N/A\n",
      "Marks, Ari,  N/A\n",
      "Markar, Miro, miro@linux.com\n",
      "Huberfeld, Sharon,  N/A\n",
      "Stevens , David,  N/A\n",
      "Chauhan, Ajay, archauhan671@gmail.com\n",
      "Fried, Carly ,  N/A\n",
      "Patel, Hiren, hirenchaudharyin@gmail.com\n",
      "Feen, Shira,  N/A\n",
      "Nelson, Gavi,  N/A\n",
      "McDonald, Catherine,  N/A\n",
      "Bublick, Gila, \n",
      "Quintas, Joseph,  N/A\n",
      "Weissberg, Michal,  N/A\n",
      "Frend, Yaffa, yaffafrend@gmail.com\n",
      "Patkin, Michelle, mpatkin@terpmail.umd.edu\n",
      "Shere, Cal, theonenottaken@gmail.com\n",
      "Mueller , Barry, barry.s.mueller@gmail.com\n",
      "Rana, Jaypal, jaypal@gmail.com\n",
      "Falk, Gabe, gwf7291@gmail.com\n",
      "Rosen, Daniel, danielrosen5@gmail.com\n",
      "Frolich, Levi, levifrolich@gmail.com\n",
      "Solanki, Dhaval, dhaval.solanki54@gmail.com\n",
      "Solanki, Dhaval, dhaval.solanki@tristatetechnology.co.in\n",
      "Katz, Joseph, katzi18@gmail.com\n",
      "Blumes, Shterna , shterna789@aol.com\n",
      "Lozovsky Stute, Lily, lozovsl@gmail.com\n",
      "Setton, Isaac,  N/A\n",
      "Hanau , Emily, emilyhanau@gmail.com\n",
      "Figdor , Benjamin , figdorb@gmail.com\n",
      "Bornstein, Joseph, joebornstein@gmail.com\n",
      "Weiss, Elie,  N/A\n",
      "Metzger, Gavriel, gsmetzger@gmail.com\n",
      "Adler , Beth,  N/A\n",
      "Hefter, Justin,  N/A\n",
      "Taylor, Aaron, aarontaylor613@gmail.com\n",
      "Druckman, Jonathan, jsdruckman@gmail.com\n",
      "Lanin, Raya, rayaroodles@gmail.com\n",
      "Statman, David,  N/A\n",
      "Piontnica, Rivki ,  N/A\n",
      "Jank, Lauren,  N/A\n",
      "Trainer, Ari,  N/A\n",
      "Patel, Bhakti,  \n",
      "Grant, Heath,  N/A\n",
      "Platt, Ophi, ophiraplatt@yahoo.com\n",
      "Kahn, Max, maxman205@gmail.com\n",
      "Hanau, Emily, episem@gmail.com\n",
      "Charnoff , Atara ,  N/A\n",
      "Weinberg, Gabi,  N/A\n",
      "Reidler, Lori,  N/A\n",
      "Sterman, Danielle,  N/A\n",
      "Bibi, Moses,  N/A\n",
      "Bibi, Chantelle,  N/A\n",
      "Raab, Zack, zackraab107@gmail.com\n",
      "Kay, Gabe, gabe.kay@gmail.com\n",
      "Yunger, Ami, ayunger@gmail.com\n",
      "טוקייער, נעם,  N/A\n",
      "Berkowitz, Ari,  N/A\n",
      "Bar-Shain, Noah, nbarshain@gmail.com\n",
      "Azogui-Rosenthal, Noemie, noemie.rosenthal@gmail.com\n",
      "Avshalumov, Vadim, vadim.avshalumov@gmail.com\n",
      "Samimi, Mathew,  N/A\n",
      "Schulz, Adriana,  N/A\n",
      "Rubin, Daniel,  N/A\n",
      "H, Pia , piahagenbach@gmail.com\n",
      "Kfare, Zach,  N/A\n",
      "Fuhrman, Rebecca, rsfuhrman@gmail.com\n",
      "Margulis, Eliyahu Natan, guii1991@gmail.com\n",
      "Jani, Ujjaval,  \n",
      "Bibi, Aryana,  N/A\n",
      "White, Aron, aronwhitedt@gmail.com\n",
      "Goldfinger, Eytan,  N/A\n",
      "Schames, Brian,  N/A\n",
      "Levine, Hart, hartlevine@gmail.com\n",
      "Kosc, Ariel,  N/A\n",
      "Selter, Eitan, eitanselter@gmail.com\n",
      "Altaras, Michelle,  \n",
      "Doe, Jhon, tristate.ios@gmail.com\n",
      "Ritholtz , Annie,  N/A\n",
      "Levy, Miriam, bubbly3395m@hotmail.com\n",
      "Elbogen, Noah,  N/A\n",
      "Ritholtz, Aryana, aryanabibi@gmail.com\n",
      "panchal, pooja, pooja.panchal@tristatetechnology.co.in\n",
      "Springer, Lauren , springerlauren@gmail.com\n",
      "Rubin, Talia, taliajrubin@gmail.com\n",
      "Friedman, aaron,  N/A\n",
      "Canter, Aryeh,  N/A\n",
      "Teslie, John,  N/A\n",
      "Rodriguez, Bender, bender.dev.qa@gmail.com\n",
      "Baruch, Razy,  N/A\n",
      "h , Shani ,  N/A\n",
      "Cohen, Danny,  N/A\n",
      "Goldberg, Adam, ag@gm.com\n",
      "Bibi, Mikhayla,  N/A\n",
      "Ben-Ami, Shachar, venesian101@gmail.com\n",
      "Bublick, Gila, gbublick@gmail.com\n",
      "lazar, daniella, lazar.daniella@gmail.com\n",
      "prajapati, pankaj,  N/A\n",
      "Miles, Mike,  N/A\n",
      "Maghen, Daniel,  N/A\n",
      "Berk, Aaron, aaronjberk@gmail.com\n",
      "Hemant, Dixit, hemantdixit66@yahoo.co.in\n",
      "Kupietzky, Daniella,  \n",
      "Glustein, Naomi, naomiyunger@gmail.com\n",
      "Reidler , Michael ,  N/A\n",
      "Giveon , Amir, agiveon@gmail.com\n",
      "Hackel, Ruthie,  N/A\n",
      "Gevaryahu, Michael, mgevary@gmail.com\n",
      "Lindenfeld, Gabrielle,  N/A\n",
      "Moisa, Adam,  N/A\n",
      "Newman, Dalia, dalianewman@hotmail.com\n",
      "Reidler , Harry ,  N/A\n",
      "Stephanopolis, Steve,  N/A\n",
      "wolf, shoshana,  N/A\n",
      "Rutta, Tali, meital2266@yahoo.com\n",
      "Siegel, Josh,  N/A\n",
      "Moskowitz, Keren, Keren.moskowitz@gmail.com\n",
      "panchal, pooja,  N/A\n",
      "Goldberg, Jason, jasontest@gm.com\n",
      "Katz, Alan,  N/A\n",
      "Baran, Daniel, dsb2118@columbia.edu\n",
      "Reidler, Jay , jreidler@gmail.com\n",
      "Ebrahimoff, Jared, jaredebrahimoff@gmail.com\n",
      "Deluty , Jonathan , jdeluty@gmail.com\n",
      "Marcus, Yitzy, yitzy240@gmail.com\n",
      "Rubin, Carmella, carmellarubin@gmail.com\n",
      "Epstein, Ariela,  \n",
      "Kosowsky, Yehudit, jude258@gmail.com\n",
      "Black, Eli, leblack613@hotmail.com\n",
      "Isakow, Sarena, sisakow@gmail.com\n",
      "Cohen, Rivka, rivka97@gmail.com\n",
      "Sterman, Ariel, asterm819@gmail.com\n",
      "Yunger , Samara , samarayunger@gmail.com\n",
      "Patel, Adi, panchalsanjay137@gmail.com\n",
      "Flyerson, Fly, flyflyerson@gmail.com\n",
      "Cappell, Leora,  N/A\n",
      "Mayer, Avi, avi.mayer@gmail.com\n",
      "chabbott, joycee, Joycee107@aol.com\n",
      "Saulson, Eli, eli_saulson@yahoo.com\n",
      "Schwartz, Ahuva, ahuvaschwartz@gmail.com\n",
      "Jesin, Joel,  N/A\n",
      "Schwartz, Ahuva , ahuvaschwartz@gmail.com\n",
      "Lazoff, Joshua, jlazoff@gmail.com\n",
      "ritholtz, steven, stevenritholtz@gmail.com\n",
      "gross , Daniel , dgross27@gmail.com\n",
      "Attias, Sefi, atntias@gmail.com\n",
      "Friedman, Talia,  N/A\n",
      "Doe, Jhon, tristate.mteam@gmail.com\n",
      "Rozenberg, Beka,  N/A\n",
      "Kesselman, Uri, urikesselman1@gmail.com\n",
      "Neal, Marshal, m.neal.fettro@gmail.com\n",
      "Miller, DM, danielmmiller@gmail.com\n",
      "Silberman, Rochelle,  N/A\n",
      "Novick, Yael,  N/A\n",
      "Agress, Max , mdagress@gmail.com\n",
      "Tamkin, Simcha, slimsim29@me.com\n",
      "alterman, kari, kalterman@williamdavidson.org\n",
      "Shore, Joshua, walltumbler@gmail.com\n",
      "tristate, Kishan, kishan@gmail.com\n",
      "Klahr, Rebecca,  N/A\n",
      "Singer, Jenni, jenni.szajnzinger@gmail.com\n",
      "Yosef, Daniel, yosef_daniel@walla.com\n",
      "Tepler, Jenny,  N/A\n",
      "Hia, Rebecca, becca.hia@gmail.com\n",
      "Reid, Dan,  N/A\n",
      "Figdor, Benjamin, benji@figdor.com.au\n",
      "Nehrer, Josh,  N/A\n",
      "Butt, Junaid,  N/A\n",
      "Piontnica, Sandy,  N/A\n",
      "Smith, Dan,  N/A\n",
      "Jacobovitch, Sara, saraej67550@gmail.com\n",
      "dixit, hemant,  N/A\n",
      "Yeshurun, Yedidya, yedidyayosef@gmail.com\n",
      "mark, Heather,  N/A\n",
      "Pask, Carly, crazycarly.davis@gmail.com\n",
      "k, a, bubblegirl424@gmail.com\n",
      "Rashidi, Shereen, srashidi@yu.edu\n",
      "f, G,  N/A\n",
      "Jani, Ashutosh,  \n",
      "Hanau, Shira,  N/A\n",
      "Sutton, Jessamyn,  N/A\n",
      "Szwarcmer, Tonny, fonztheiv@yahoo.com\n",
      "Carus, Robin,  N/A\n",
      "Kestenbaum, Emily, emkat123@gmail.com\n",
      "Botwinick, Margot,  N/A\n",
      "Hoffman, Zara,  N/A\n",
      "patel, priyal, priyal@gmail.com\n",
      "Shavalian, Eli,  N/A\n",
      "Yunger, Ami, ayunger@gmail.com\n",
      "McSpadden, Rachael,  N/A\n",
      "Zupnick, Binny, anguslvr@gmail.com\n",
      "Kaminetsky, Jordana,  N/A\n",
      "Steinbock, Nili, nilisteinbock@gmail.com\n",
      "Stein, Ethan, steine@brandeis.edu\n",
      "Solanki, Mahi, poojapanchal8512@gmail.com\n",
      "Fluss, Josh, jfluss1226@gmail.com\n",
      "Fogelman, Avi,  \n",
      "Shapiro, Gideon,  \n",
      "Kwiat, Moshe, 13moshe@gmail.com\n",
      "Blond, Simone,  N/A\n",
      "Weiss, Spencer,  N/A\n",
      "Kaye Pamensky, Chaya,  N/A\n",
      "panchal, puja, puja@gmail.com\n",
      "גורדון, צבי, tzvi.gordon@yahoo.com\n",
      "Klein Mje, Joshua,  N/A\n",
      "gold, Jason, jasoon@gm.com\n",
      "Schiff, Michael,  N/A\n",
      "Gondaliya, Kishan, khgondaliya123@gmail.com\n",
      "Kerzner, Ester,  N/A\n",
      "The total count is 225\n"
     ]
    },
    {
     "data": {
      "text/html": [
       "<div>\n",
       "<table border=\"1\" class=\"dataframe\">\n",
       "  <thead>\n",
       "    <tr style=\"text-align: right;\">\n",
       "      <th></th>\n",
       "      <th>LastName</th>\n",
       "      <th>FirstName</th>\n",
       "      <th>Email</th>\n",
       "    </tr>\n",
       "  </thead>\n",
       "  <tbody>\n",
       "    <tr>\n",
       "      <th>0</th>\n",
       "      <td>Patel</td>\n",
       "      <td>Jayesh</td>\n",
       "      <td>jayesh28589@gmail.com</td>\n",
       "    </tr>\n",
       "    <tr>\n",
       "      <th>1</th>\n",
       "      <td>Newman</td>\n",
       "      <td>Dina</td>\n",
       "      <td>dinanewmanrox@gmail.com</td>\n",
       "    </tr>\n",
       "    <tr>\n",
       "      <th>2</th>\n",
       "      <td>Sacks</td>\n",
       "      <td>Jacob</td>\n",
       "      <td>sacksjacob@gmail.com</td>\n",
       "    </tr>\n",
       "    <tr>\n",
       "      <th>3</th>\n",
       "      <td>Doriya</td>\n",
       "      <td>Maulik</td>\n",
       "      <td>maulikdoriya786@gmail.com</td>\n",
       "    </tr>\n",
       "    <tr>\n",
       "      <th>4</th>\n",
       "      <td>Jesin</td>\n",
       "      <td>Lisa</td>\n",
       "      <td>lisajesin@gmail.com</td>\n",
       "    </tr>\n",
       "    <tr>\n",
       "      <th>5</th>\n",
       "      <td>Harari</td>\n",
       "      <td>Daniel</td>\n",
       "      <td>N/A</td>\n",
       "    </tr>\n",
       "    <tr>\n",
       "      <th>6</th>\n",
       "      <td>Patel</td>\n",
       "      <td>Charul</td>\n",
       "      <td>love4charul@yahoo.in</td>\n",
       "    </tr>\n",
       "    <tr>\n",
       "      <th>7</th>\n",
       "      <td>Keenan</td>\n",
       "      <td>howie</td>\n",
       "      <td>N/A</td>\n",
       "    </tr>\n",
       "    <tr>\n",
       "      <th>8</th>\n",
       "      <td>Charnoff</td>\n",
       "      <td>Atara</td>\n",
       "      <td>N/A</td>\n",
       "    </tr>\n",
       "    <tr>\n",
       "      <th>9</th>\n",
       "      <td>Arbesfeld</td>\n",
       "      <td>Aliza</td>\n",
       "      <td>N/A</td>\n",
       "    </tr>\n",
       "    <tr>\n",
       "      <th>10</th>\n",
       "      <td>Brandwein</td>\n",
       "      <td>Benjy</td>\n",
       "      <td>statezap2010@aol.com</td>\n",
       "    </tr>\n",
       "    <tr>\n",
       "      <th>11</th>\n",
       "      <td>Nathanson</td>\n",
       "      <td>Andrea</td>\n",
       "      <td>andreasemail18@gmail.com</td>\n",
       "    </tr>\n",
       "    <tr>\n",
       "      <th>12</th>\n",
       "      <td>Fleischmann</td>\n",
       "      <td>Yoni</td>\n",
       "      <td>N/A</td>\n",
       "    </tr>\n",
       "    <tr>\n",
       "      <th>13</th>\n",
       "      <td>Neuhaus</td>\n",
       "      <td>Tali</td>\n",
       "      <td>N/A</td>\n",
       "    </tr>\n",
       "    <tr>\n",
       "      <th>14</th>\n",
       "      <td>Kaplan-Marans</td>\n",
       "      <td>Elie</td>\n",
       "      <td>nowheretogo500@aol.com</td>\n",
       "    </tr>\n",
       "    <tr>\n",
       "      <th>15</th>\n",
       "      <td>Sued</td>\n",
       "      <td>Lynn</td>\n",
       "      <td>N/A</td>\n",
       "    </tr>\n",
       "    <tr>\n",
       "      <th>16</th>\n",
       "      <td>Stern</td>\n",
       "      <td>Elianna</td>\n",
       "      <td>N/A</td>\n",
       "    </tr>\n",
       "    <tr>\n",
       "      <th>17</th>\n",
       "      <td>Marks</td>\n",
       "      <td>Ari</td>\n",
       "      <td>N/A</td>\n",
       "    </tr>\n",
       "    <tr>\n",
       "      <th>18</th>\n",
       "      <td>Markar</td>\n",
       "      <td>Miro</td>\n",
       "      <td>miro@linux.com</td>\n",
       "    </tr>\n",
       "    <tr>\n",
       "      <th>19</th>\n",
       "      <td>Huberfeld</td>\n",
       "      <td>Sharon</td>\n",
       "      <td>N/A</td>\n",
       "    </tr>\n",
       "    <tr>\n",
       "      <th>20</th>\n",
       "      <td>Stevens</td>\n",
       "      <td>David</td>\n",
       "      <td>N/A</td>\n",
       "    </tr>\n",
       "    <tr>\n",
       "      <th>21</th>\n",
       "      <td>Chauhan</td>\n",
       "      <td>Ajay</td>\n",
       "      <td>archauhan671@gmail.com</td>\n",
       "    </tr>\n",
       "    <tr>\n",
       "      <th>22</th>\n",
       "      <td>Fried</td>\n",
       "      <td>Carly</td>\n",
       "      <td>N/A</td>\n",
       "    </tr>\n",
       "    <tr>\n",
       "      <th>23</th>\n",
       "      <td>Patel</td>\n",
       "      <td>Hiren</td>\n",
       "      <td>hirenchaudharyin@gmail.com</td>\n",
       "    </tr>\n",
       "    <tr>\n",
       "      <th>24</th>\n",
       "      <td>Feen</td>\n",
       "      <td>Shira</td>\n",
       "      <td>N/A</td>\n",
       "    </tr>\n",
       "    <tr>\n",
       "      <th>25</th>\n",
       "      <td>Nelson</td>\n",
       "      <td>Gavi</td>\n",
       "      <td>N/A</td>\n",
       "    </tr>\n",
       "    <tr>\n",
       "      <th>26</th>\n",
       "      <td>McDonald</td>\n",
       "      <td>Catherine</td>\n",
       "      <td>N/A</td>\n",
       "    </tr>\n",
       "    <tr>\n",
       "      <th>27</th>\n",
       "      <td>Bublick</td>\n",
       "      <td>Gila</td>\n",
       "      <td></td>\n",
       "    </tr>\n",
       "    <tr>\n",
       "      <th>28</th>\n",
       "      <td>Quintas</td>\n",
       "      <td>Joseph</td>\n",
       "      <td>N/A</td>\n",
       "    </tr>\n",
       "    <tr>\n",
       "      <th>29</th>\n",
       "      <td>Weissberg</td>\n",
       "      <td>Michal</td>\n",
       "      <td>N/A</td>\n",
       "    </tr>\n",
       "    <tr>\n",
       "      <th>...</th>\n",
       "      <td>...</td>\n",
       "      <td>...</td>\n",
       "      <td>...</td>\n",
       "    </tr>\n",
       "    <tr>\n",
       "      <th>195</th>\n",
       "      <td>Hanau</td>\n",
       "      <td>Shira</td>\n",
       "      <td>N/A</td>\n",
       "    </tr>\n",
       "    <tr>\n",
       "      <th>196</th>\n",
       "      <td>Sutton</td>\n",
       "      <td>Jessamyn</td>\n",
       "      <td>N/A</td>\n",
       "    </tr>\n",
       "    <tr>\n",
       "      <th>197</th>\n",
       "      <td>Szwarcmer</td>\n",
       "      <td>Tonny</td>\n",
       "      <td>fonztheiv@yahoo.com</td>\n",
       "    </tr>\n",
       "    <tr>\n",
       "      <th>198</th>\n",
       "      <td>Carus</td>\n",
       "      <td>Robin</td>\n",
       "      <td>N/A</td>\n",
       "    </tr>\n",
       "    <tr>\n",
       "      <th>199</th>\n",
       "      <td>Kestenbaum</td>\n",
       "      <td>Emily</td>\n",
       "      <td>emkat123@gmail.com</td>\n",
       "    </tr>\n",
       "    <tr>\n",
       "      <th>200</th>\n",
       "      <td>Botwinick</td>\n",
       "      <td>Margot</td>\n",
       "      <td>N/A</td>\n",
       "    </tr>\n",
       "    <tr>\n",
       "      <th>201</th>\n",
       "      <td>Hoffman</td>\n",
       "      <td>Zara</td>\n",
       "      <td>N/A</td>\n",
       "    </tr>\n",
       "    <tr>\n",
       "      <th>202</th>\n",
       "      <td>patel</td>\n",
       "      <td>priyal</td>\n",
       "      <td>priyal@gmail.com</td>\n",
       "    </tr>\n",
       "    <tr>\n",
       "      <th>203</th>\n",
       "      <td>Shavalian</td>\n",
       "      <td>Eli</td>\n",
       "      <td>N/A</td>\n",
       "    </tr>\n",
       "    <tr>\n",
       "      <th>204</th>\n",
       "      <td>Yunger</td>\n",
       "      <td>Ami</td>\n",
       "      <td>ayunger@gmail.com</td>\n",
       "    </tr>\n",
       "    <tr>\n",
       "      <th>205</th>\n",
       "      <td>McSpadden</td>\n",
       "      <td>Rachael</td>\n",
       "      <td>N/A</td>\n",
       "    </tr>\n",
       "    <tr>\n",
       "      <th>206</th>\n",
       "      <td>Zupnick</td>\n",
       "      <td>Binny</td>\n",
       "      <td>anguslvr@gmail.com</td>\n",
       "    </tr>\n",
       "    <tr>\n",
       "      <th>207</th>\n",
       "      <td>Kaminetsky</td>\n",
       "      <td>Jordana</td>\n",
       "      <td>N/A</td>\n",
       "    </tr>\n",
       "    <tr>\n",
       "      <th>208</th>\n",
       "      <td>Steinbock</td>\n",
       "      <td>Nili</td>\n",
       "      <td>nilisteinbock@gmail.com</td>\n",
       "    </tr>\n",
       "    <tr>\n",
       "      <th>209</th>\n",
       "      <td>Stein</td>\n",
       "      <td>Ethan</td>\n",
       "      <td>steine@brandeis.edu</td>\n",
       "    </tr>\n",
       "    <tr>\n",
       "      <th>210</th>\n",
       "      <td>Solanki</td>\n",
       "      <td>Mahi</td>\n",
       "      <td>poojapanchal8512@gmail.com</td>\n",
       "    </tr>\n",
       "    <tr>\n",
       "      <th>211</th>\n",
       "      <td>Fluss</td>\n",
       "      <td>Josh</td>\n",
       "      <td>jfluss1226@gmail.com</td>\n",
       "    </tr>\n",
       "    <tr>\n",
       "      <th>212</th>\n",
       "      <td>Fogelman</td>\n",
       "      <td>Avi</td>\n",
       "      <td></td>\n",
       "    </tr>\n",
       "    <tr>\n",
       "      <th>213</th>\n",
       "      <td>Shapiro</td>\n",
       "      <td>Gideon</td>\n",
       "      <td></td>\n",
       "    </tr>\n",
       "    <tr>\n",
       "      <th>214</th>\n",
       "      <td>Kwiat</td>\n",
       "      <td>Moshe</td>\n",
       "      <td>13moshe@gmail.com</td>\n",
       "    </tr>\n",
       "    <tr>\n",
       "      <th>215</th>\n",
       "      <td>Blond</td>\n",
       "      <td>Simone</td>\n",
       "      <td>N/A</td>\n",
       "    </tr>\n",
       "    <tr>\n",
       "      <th>216</th>\n",
       "      <td>Weiss</td>\n",
       "      <td>Spencer</td>\n",
       "      <td>N/A</td>\n",
       "    </tr>\n",
       "    <tr>\n",
       "      <th>217</th>\n",
       "      <td>Kaye Pamensky</td>\n",
       "      <td>Chaya</td>\n",
       "      <td>N/A</td>\n",
       "    </tr>\n",
       "    <tr>\n",
       "      <th>218</th>\n",
       "      <td>panchal</td>\n",
       "      <td>puja</td>\n",
       "      <td>puja@gmail.com</td>\n",
       "    </tr>\n",
       "    <tr>\n",
       "      <th>219</th>\n",
       "      <td>גורדון</td>\n",
       "      <td>צבי</td>\n",
       "      <td>tzvi.gordon@yahoo.com</td>\n",
       "    </tr>\n",
       "    <tr>\n",
       "      <th>220</th>\n",
       "      <td>Klein Mje</td>\n",
       "      <td>Joshua</td>\n",
       "      <td>N/A</td>\n",
       "    </tr>\n",
       "    <tr>\n",
       "      <th>221</th>\n",
       "      <td>gold</td>\n",
       "      <td>Jason</td>\n",
       "      <td>jasoon@gm.com</td>\n",
       "    </tr>\n",
       "    <tr>\n",
       "      <th>222</th>\n",
       "      <td>Schiff</td>\n",
       "      <td>Michael</td>\n",
       "      <td>N/A</td>\n",
       "    </tr>\n",
       "    <tr>\n",
       "      <th>223</th>\n",
       "      <td>Gondaliya</td>\n",
       "      <td>Kishan</td>\n",
       "      <td>khgondaliya123@gmail.com</td>\n",
       "    </tr>\n",
       "    <tr>\n",
       "      <th>224</th>\n",
       "      <td>Kerzner</td>\n",
       "      <td>Ester</td>\n",
       "      <td>N/A</td>\n",
       "    </tr>\n",
       "  </tbody>\n",
       "</table>\n",
       "<p>225 rows × 3 columns</p>\n",
       "</div>"
      ],
      "text/plain": [
       "          LastName  FirstName                       Email\n",
       "0            Patel     Jayesh       jayesh28589@gmail.com\n",
       "1           Newman       Dina     dinanewmanrox@gmail.com\n",
       "2            Sacks      Jacob        sacksjacob@gmail.com\n",
       "3           Doriya     Maulik   maulikdoriya786@gmail.com\n",
       "4            Jesin      Lisa          lisajesin@gmail.com\n",
       "5           Harari     Daniel                         N/A\n",
       "6            Patel     Charul        love4charul@yahoo.in\n",
       "7          Keenan      howie                          N/A\n",
       "8         Charnoff      Atara                         N/A\n",
       "9        Arbesfeld      Aliza                         N/A\n",
       "10       Brandwein      Benjy        statezap2010@aol.com\n",
       "11       Nathanson     Andrea    andreasemail18@gmail.com\n",
       "12     Fleischmann       Yoni                         N/A\n",
       "13         Neuhaus       Tali                         N/A\n",
       "14   Kaplan-Marans       Elie      nowheretogo500@aol.com\n",
       "15            Sued       Lynn                         N/A\n",
       "16           Stern    Elianna                         N/A\n",
       "17           Marks        Ari                         N/A\n",
       "18          Markar       Miro              miro@linux.com\n",
       "19       Huberfeld     Sharon                         N/A\n",
       "20        Stevens       David                         N/A\n",
       "21         Chauhan       Ajay      archauhan671@gmail.com\n",
       "22           Fried     Carly                          N/A\n",
       "23           Patel      Hiren  hirenchaudharyin@gmail.com\n",
       "24            Feen      Shira                         N/A\n",
       "25          Nelson       Gavi                         N/A\n",
       "26        McDonald  Catherine                         N/A\n",
       "27         Bublick       Gila                            \n",
       "28         Quintas     Joseph                         N/A\n",
       "29       Weissberg     Michal                         N/A\n",
       "..             ...        ...                         ...\n",
       "195          Hanau      Shira                         N/A\n",
       "196         Sutton   Jessamyn                         N/A\n",
       "197      Szwarcmer      Tonny         fonztheiv@yahoo.com\n",
       "198          Carus      Robin                         N/A\n",
       "199     Kestenbaum      Emily          emkat123@gmail.com\n",
       "200      Botwinick     Margot                         N/A\n",
       "201        Hoffman       Zara                         N/A\n",
       "202          patel     priyal            priyal@gmail.com\n",
       "203      Shavalian        Eli                         N/A\n",
       "204         Yunger        Ami           ayunger@gmail.com\n",
       "205      McSpadden    Rachael                         N/A\n",
       "206        Zupnick      Binny          anguslvr@gmail.com\n",
       "207     Kaminetsky    Jordana                         N/A\n",
       "208      Steinbock       Nili     nilisteinbock@gmail.com\n",
       "209          Stein      Ethan         steine@brandeis.edu\n",
       "210        Solanki       Mahi  poojapanchal8512@gmail.com\n",
       "211          Fluss       Josh        jfluss1226@gmail.com\n",
       "212       Fogelman        Avi                            \n",
       "213        Shapiro     Gideon                            \n",
       "214          Kwiat      Moshe           13moshe@gmail.com\n",
       "215          Blond     Simone                         N/A\n",
       "216          Weiss    Spencer                         N/A\n",
       "217  Kaye Pamensky      Chaya                         N/A\n",
       "218        panchal       puja              puja@gmail.com\n",
       "219         גורדון        צבי       tzvi.gordon@yahoo.com\n",
       "220      Klein Mje     Joshua                         N/A\n",
       "221           gold      Jason               jasoon@gm.com\n",
       "222         Schiff    Michael                         N/A\n",
       "223      Gondaliya     Kishan    khgondaliya123@gmail.com\n",
       "224        Kerzner      Ester                         N/A\n",
       "\n",
       "[225 rows x 3 columns]"
      ]
     },
     "execution_count": 40,
     "metadata": {},
     "output_type": "execute_result"
    }
   ],
   "source": [
    "#List of users. \n",
    "count=0\n",
    "user_list = []\n",
    "\n",
    "for i in all_users:\n",
    "    firstName =  all_users[i][\"firstName\"]\n",
    "    lastName = all_users[i][\"lastName\"]\n",
    "    \n",
    "    \n",
    "\n",
    "    try:\n",
    "    \n",
    "        created = all_users[i][\"Created_at\"]\n",
    "        email = all_users[i][\"email\"]\n",
    "        \n",
    "    except:\n",
    "    \n",
    "        email = \" N/A\"\n",
    "\n",
    "    if created > 1368195200:\n",
    "        count=count+1\n",
    "        print \"%s, %s, %s\" % (lastName, firstName, email)\n",
    "        user_list.append([lastName, firstName, email])\n",
    "df= pd.DataFrame(user_list)\n",
    "df.columns= ['LastName', 'FirstName', 'Email']\n",
    "\n",
    "print \"The total count is %s\" % count\n",
    "df\n"
   ]
  },
  {
   "cell_type": "code",
   "execution_count": 7,
   "metadata": {
    "collapsed": false
   },
   "outputs": [
    {
     "ename": "NameError",
     "evalue": "name 'config' is not defined",
     "output_type": "error",
     "traceback": [
      "\u001b[0;31m---------------------------------------------------------------------------\u001b[0m",
      "\u001b[0;31mNameError\u001b[0m                                 Traceback (most recent call last)",
      "\u001b[0;32m<ipython-input-7-fc0517f94411>\u001b[0m in \u001b[0;36m<module>\u001b[0;34m()\u001b[0m\n\u001b[0;32m----> 1\u001b[0;31m \u001b[0muser_table\u001b[0m \u001b[0;34m=\u001b[0m \u001b[0mconfig\u001b[0m\u001b[0;34m[\u001b[0m\u001b[0;34m'users'\u001b[0m\u001b[0;34m]\u001b[0m\u001b[0;34m\u001b[0m\u001b[0m\n\u001b[0m",
      "\u001b[0;31mNameError\u001b[0m: name 'config' is not defined"
     ]
    }
   ],
   "source": [
    "user_table = config['users']"
   ]
  },
  {
   "cell_type": "code",
   "execution_count": 8,
   "metadata": {
    "collapsed": false
   },
   "outputs": [
    {
     "ename": "NameError",
     "evalue": "name 'config' is not defined",
     "output_type": "error",
     "traceback": [
      "\u001b[0;31m---------------------------------------------------------------------------\u001b[0m",
      "\u001b[0;31mNameError\u001b[0m                                 Traceback (most recent call last)",
      "\u001b[0;32m<ipython-input-8-22ce4e228691>\u001b[0m in \u001b[0;36m<module>\u001b[0;34m()\u001b[0m\n\u001b[1;32m      1\u001b[0m \u001b[0;31m# Who's created meals.\u001b[0m\u001b[0;34m\u001b[0m\u001b[0;34m\u001b[0m\u001b[0m\n\u001b[0;32m----> 2\u001b[0;31m \u001b[0mmeal_table\u001b[0m \u001b[0;34m=\u001b[0m \u001b[0mconfig\u001b[0m\u001b[0;34m[\u001b[0m\u001b[0;34m'meal'\u001b[0m\u001b[0;34m]\u001b[0m\u001b[0;34m\u001b[0m\u001b[0m\n\u001b[0m\u001b[1;32m      3\u001b[0m \u001b[0mmeal_items\u001b[0m \u001b[0;34m=\u001b[0m \u001b[0mconfig\u001b[0m\u001b[0;34m[\u001b[0m\u001b[0;34m'meal_items'\u001b[0m\u001b[0;34m]\u001b[0m\u001b[0;34m\u001b[0m\u001b[0m\n\u001b[1;32m      4\u001b[0m \u001b[0;34m\u001b[0m\u001b[0m\n\u001b[1;32m      5\u001b[0m \u001b[0mmeal_list\u001b[0m \u001b[0;34m=\u001b[0m \u001b[0;34m[\u001b[0m\u001b[0;34m]\u001b[0m\u001b[0;34m\u001b[0m\u001b[0m\n",
      "\u001b[0;31mNameError\u001b[0m: name 'config' is not defined"
     ]
    }
   ],
   "source": [
    "# Who's created meals. \n",
    "meal_table = config['meal']\n",
    "meal_items = config['meal_items']\n",
    "\n",
    "meal_list = []\n",
    "for i in meal_table:\n",
    "    user_id =  meal_table[i]['meal_createdby']\n",
    "    # print user_id\n",
    "    if user_id in user_table.keys():\n",
    "        # print \"HI\"\n",
    "        user_info = user_table[user_id]\n",
    "        #print user_info\n",
    "        firstName =  user_info[\"firstName\"]\n",
    "        lastName = user_info[\"lastName\"]\n",
    "        meal_created = dt(meal_table[i][\"meal_date\"])\n",
    "        potluck = meal_table[i][\"meal_pre_everyonebringfood\"]\n",
    "        \n",
    "        #print \"%s, %s, isPotluck: %s\" % (firstName, lastName, potluck)\n",
    "        meal_list.append([firstName, lastName, potluck,meal_created])\n",
    "df= pd.DataFrame(meal_list)\n",
    "df.columns= ['FirstName', 'LastName', 'isPotluck?','date']\n",
    "df.sort(\"date\")"
   ]
  },
  {
   "cell_type": "code",
   "execution_count": 9,
   "metadata": {
    "collapsed": true
   },
   "outputs": [],
   "source": [
    "def get_name(user_id):\n",
    "    try: \n",
    "        user_info = user_table[user_id]\n",
    "        #print user_info\n",
    "        firstName =  user_info[\"firstName\"]\n",
    "        lastName = user_info[\"lastName\"]\n",
    "    except:\n",
    "        firstName = \"No\"\n",
    "        lastName = \"User\"\n",
    "    return firstName,lastName"
   ]
  },
  {
   "cell_type": "code",
   "execution_count": 10,
   "metadata": {
    "collapsed": true
   },
   "outputs": [],
   "source": [
    "def get_date(meal_id):\n",
    "    return dt(meal_table[meal_id][\"meal_date\"])\n",
    "\n",
    "def get_address(meal_id):\n",
    "    return meal_table[meal_id][\"meal_location\"]"
   ]
  },
  {
   "cell_type": "code",
   "execution_count": 11,
   "metadata": {
    "collapsed": false
   },
   "outputs": [
    {
     "ename": "NameError",
     "evalue": "name 'config' is not defined",
     "output_type": "error",
     "traceback": [
      "\u001b[0;31m---------------------------------------------------------------------------\u001b[0m",
      "\u001b[0;31mNameError\u001b[0m                                 Traceback (most recent call last)",
      "\u001b[0;32m<ipython-input-11-c922d8808ba1>\u001b[0m in \u001b[0;36m<module>\u001b[0;34m()\u001b[0m\n\u001b[1;32m      1\u001b[0m \u001b[0;31m#Who's bringing what?\u001b[0m\u001b[0;34m\u001b[0m\u001b[0;34m\u001b[0m\u001b[0m\n\u001b[1;32m      2\u001b[0m \u001b[0;34m\u001b[0m\u001b[0m\n\u001b[0;32m----> 3\u001b[0;31m \u001b[0mmeal_items\u001b[0m \u001b[0;34m=\u001b[0m \u001b[0mconfig\u001b[0m\u001b[0;34m[\u001b[0m\u001b[0;34m'meal_items'\u001b[0m\u001b[0;34m]\u001b[0m\u001b[0;34m\u001b[0m\u001b[0m\n\u001b[0m\u001b[1;32m      4\u001b[0m \u001b[0;31m#given meal:\u001b[0m\u001b[0;34m\u001b[0m\u001b[0;34m\u001b[0m\u001b[0m\n\u001b[1;32m      5\u001b[0m \u001b[0;34m\u001b[0m\u001b[0m\n",
      "\u001b[0;31mNameError\u001b[0m: name 'config' is not defined"
     ]
    }
   ],
   "source": [
    "#Who's bringing what? \n",
    "\n",
    "meal_items = config['meal_items']\n",
    "#given meal:\n",
    "\n",
    "potluck_meal_items = []\n",
    "\n",
    "for i in meal_table:\n",
    "    potluck = meal_table[i][\"meal_pre_everyonebringfood\"]\n",
    "    host = get_name(meal_table[i]['meal_createdby'])\n",
    "    date = get_date(i)\n",
    "    address = get_address(i)\n",
    "    if potluck == \"YES\":\n",
    "        try: \n",
    "            list_of_items = meal_items[i]\n",
    "        except:\n",
    "            \"Skipped \"+i\n",
    "        \n",
    "        for j in list_of_items:\n",
    "            food = j['name']\n",
    "            if j['user_id'] == '' or j['user_id'] == \"\":\n",
    "                firstName = \"null\"\n",
    "                lastName =\"null\"\n",
    "            else: \n",
    "                user_info = user_table[j['user_id']]\n",
    "                #print user_info\n",
    "                firstName =  user_info[\"firstName\"]\n",
    "                lastName = user_info[\"lastName\"]\n",
    "            if firstName == \"null\":\n",
    "                pass\n",
    "            else:\n",
    "                potluck_meal_items.append([firstName,lastName,food,host,date,address]) \n",
    "        "
   ]
  },
  {
   "cell_type": "code",
   "execution_count": 12,
   "metadata": {
    "collapsed": false
   },
   "outputs": [
    {
     "ename": "NameError",
     "evalue": "name 'pd' is not defined",
     "output_type": "error",
     "traceback": [
      "\u001b[0;31m---------------------------------------------------------------------------\u001b[0m",
      "\u001b[0;31mNameError\u001b[0m                                 Traceback (most recent call last)",
      "\u001b[0;32m<ipython-input-12-043f2e8be446>\u001b[0m in \u001b[0;36m<module>\u001b[0;34m()\u001b[0m\n\u001b[0;32m----> 1\u001b[0;31m \u001b[0mdf_items\u001b[0m\u001b[0;34m=\u001b[0m \u001b[0mpd\u001b[0m\u001b[0;34m.\u001b[0m\u001b[0mDataFrame\u001b[0m\u001b[0;34m(\u001b[0m\u001b[0mpotluck_meal_items\u001b[0m\u001b[0;34m)\u001b[0m\u001b[0;34m\u001b[0m\u001b[0m\n\u001b[0m\u001b[1;32m      2\u001b[0m \u001b[0mdf_items\u001b[0m\u001b[0;34m.\u001b[0m\u001b[0mcolumns\u001b[0m\u001b[0;34m=\u001b[0m \u001b[0;34m[\u001b[0m\u001b[0;34m'FirstName'\u001b[0m\u001b[0;34m,\u001b[0m \u001b[0;34m'LastName'\u001b[0m\u001b[0;34m,\u001b[0m \u001b[0;34m'Food'\u001b[0m\u001b[0;34m,\u001b[0m\u001b[0;34m'Host'\u001b[0m\u001b[0;34m,\u001b[0m\u001b[0;34m'Date'\u001b[0m\u001b[0;34m,\u001b[0m\u001b[0;34m'Address'\u001b[0m\u001b[0;34m]\u001b[0m\u001b[0;34m\u001b[0m\u001b[0m\n\u001b[1;32m      3\u001b[0m \u001b[0mdf_items\u001b[0m\u001b[0;34m.\u001b[0m\u001b[0msort\u001b[0m\u001b[0;34m(\u001b[0m\u001b[0;34m'Date'\u001b[0m\u001b[0;34m)\u001b[0m\u001b[0;34m\u001b[0m\u001b[0m\n",
      "\u001b[0;31mNameError\u001b[0m: name 'pd' is not defined"
     ]
    }
   ],
   "source": [
    "df_items= pd.DataFrame(potluck_meal_items)\n",
    "df_items.columns= ['FirstName', 'LastName', 'Food','Host','Date','Address']\n",
    "df_items.sort('Date') "
   ]
  },
  {
   "cell_type": "code",
   "execution_count": 13,
   "metadata": {
    "collapsed": false
   },
   "outputs": [
    {
     "ename": "NameError",
     "evalue": "name 'user_table' is not defined",
     "output_type": "error",
     "traceback": [
      "\u001b[0;31m---------------------------------------------------------------------------\u001b[0m",
      "\u001b[0;31mNameError\u001b[0m                                 Traceback (most recent call last)",
      "\u001b[0;32m<ipython-input-13-3c72a142fc78>\u001b[0m in \u001b[0;36m<module>\u001b[0;34m()\u001b[0m\n\u001b[0;32m----> 1\u001b[0;31m \u001b[0;32mfor\u001b[0m \u001b[0mi\u001b[0m \u001b[0;32min\u001b[0m \u001b[0muser_table\u001b[0m\u001b[0;34m:\u001b[0m\u001b[0;34m\u001b[0m\u001b[0m\n\u001b[0m\u001b[1;32m      2\u001b[0m     \u001b[0;32mprint\u001b[0m \u001b[0muser_table\u001b[0m\u001b[0;34m[\u001b[0m\u001b[0mi\u001b[0m\u001b[0;34m]\u001b[0m\u001b[0;34m[\u001b[0m\u001b[0;34m'firstName'\u001b[0m\u001b[0;34m]\u001b[0m \u001b[0;34m+\u001b[0m \u001b[0;34m' '\u001b[0m \u001b[0;34m+\u001b[0m \u001b[0muser_table\u001b[0m\u001b[0;34m[\u001b[0m\u001b[0mi\u001b[0m\u001b[0;34m]\u001b[0m\u001b[0;34m[\u001b[0m\u001b[0;34m'lastName'\u001b[0m\u001b[0;34m]\u001b[0m\u001b[0;34m\u001b[0m\u001b[0m\n",
      "\u001b[0;31mNameError\u001b[0m: name 'user_table' is not defined"
     ]
    }
   ],
   "source": [
    "for i in user_table:\n",
    "    print user_table[i]['firstName'] + ' ' + user_table[i]['lastName'] "
   ]
  },
  {
   "cell_type": "code",
   "execution_count": 14,
   "metadata": {
    "collapsed": false
   },
   "outputs": [],
   "source": [
    "def get_date(timestamp):\n",
    "    \n",
    "    return datetime.datetime.fromtimestamp(timestamp).strftime('%Y-%m-%d %H:%M:%S')"
   ]
  },
  {
   "cell_type": "code",
   "execution_count": null,
   "metadata": {
    "collapsed": true
   },
   "outputs": [],
   "source": []
  },
  {
   "cell_type": "code",
   "execution_count": 15,
   "metadata": {
    "collapsed": false
   },
   "outputs": [
    {
     "ename": "NameError",
     "evalue": "name 'config_users' is not defined",
     "output_type": "error",
     "traceback": [
      "\u001b[0;31m---------------------------------------------------------------------------\u001b[0m",
      "\u001b[0;31mNameError\u001b[0m                                 Traceback (most recent call last)",
      "\u001b[0;32m<ipython-input-15-ecda61d57564>\u001b[0m in \u001b[0;36m<module>\u001b[0;34m()\u001b[0m\n\u001b[0;32m----> 1\u001b[0;31m \u001b[0mconfig_users\u001b[0m\u001b[0;34m\u001b[0m\u001b[0m\n\u001b[0m\u001b[1;32m      2\u001b[0m \u001b[0mdf\u001b[0m \u001b[0;34m=\u001b[0m \u001b[0mpd\u001b[0m\u001b[0;34m.\u001b[0m\u001b[0mDataFrame\u001b[0m\u001b[0;34m(\u001b[0m\u001b[0mcolumns\u001b[0m\u001b[0;34m=\u001b[0m\u001b[0;34m[\u001b[0m\u001b[0;34m'email'\u001b[0m\u001b[0;34m,\u001b[0m\u001b[0;34m'firstname'\u001b[0m\u001b[0;34m,\u001b[0m\u001b[0;34m'lastname'\u001b[0m\u001b[0;34m,\u001b[0m\u001b[0;34m'created_at'\u001b[0m\u001b[0;34m]\u001b[0m\u001b[0;34m)\u001b[0m\u001b[0;34m\u001b[0m\u001b[0m\n\u001b[1;32m      3\u001b[0m \u001b[0md\u001b[0m \u001b[0;34m=\u001b[0m \u001b[0;34m[\u001b[0m\u001b[0;34m]\u001b[0m\u001b[0;34m\u001b[0m\u001b[0m\n\u001b[1;32m      4\u001b[0m \u001b[0;32mfor\u001b[0m \u001b[0mi\u001b[0m \u001b[0;32min\u001b[0m \u001b[0mconfig_users\u001b[0m\u001b[0;34m:\u001b[0m\u001b[0;34m\u001b[0m\u001b[0m\n\u001b[1;32m      5\u001b[0m     \u001b[0muser\u001b[0m \u001b[0;34m=\u001b[0m \u001b[0mconfig_users\u001b[0m\u001b[0;34m[\u001b[0m\u001b[0mi\u001b[0m\u001b[0;34m]\u001b[0m\u001b[0;34m\u001b[0m\u001b[0m\n",
      "\u001b[0;31mNameError\u001b[0m: name 'config_users' is not defined"
     ]
    }
   ],
   "source": [
    "config_users\n",
    "df = pd.DataFrame(columns=['email','firstname','lastname','created_at'])\n",
    "d = []\n",
    "for i in config_users:\n",
    "    user = config_users[i]\n",
    "    #print user\n",
    "    try:\n",
    "        email=user['email']\n",
    "    except:\n",
    "        email=\"unknown\"\n",
    "    \n",
    "    firstname = user['firstName']\n",
    "    lastname = user['lastName']\n",
    "    try:\n",
    "        created_at = user['Created_at']\n",
    "    except:\n",
    "        created_at = -1\n",
    "    d.append([email,firstname,lastname,created_at,get_date(created_at)])\n",
    "\n"
   ]
  },
  {
   "cell_type": "code",
   "execution_count": 16,
   "metadata": {
    "collapsed": false
   },
   "outputs": [
    {
     "ename": "NameError",
     "evalue": "name 'pd' is not defined",
     "output_type": "error",
     "traceback": [
      "\u001b[0;31m---------------------------------------------------------------------------\u001b[0m",
      "\u001b[0;31mNameError\u001b[0m                                 Traceback (most recent call last)",
      "\u001b[0;32m<ipython-input-16-e931af2fcc63>\u001b[0m in \u001b[0;36m<module>\u001b[0;34m()\u001b[0m\n\u001b[1;32m      1\u001b[0m \u001b[0;34m\u001b[0m\u001b[0m\n\u001b[0;32m----> 2\u001b[0;31m \u001b[0mdf\u001b[0m\u001b[0;34m=\u001b[0m \u001b[0mpd\u001b[0m\u001b[0;34m.\u001b[0m\u001b[0mDataFrame\u001b[0m\u001b[0;34m(\u001b[0m\u001b[0md\u001b[0m\u001b[0;34m,\u001b[0m\u001b[0mcolumns\u001b[0m\u001b[0;34m=\u001b[0m\u001b[0;34m[\u001b[0m\u001b[0;34m\"Email\"\u001b[0m\u001b[0;34m,\u001b[0m\u001b[0;34m\"FirstName\"\u001b[0m\u001b[0;34m,\u001b[0m\u001b[0;34m\"LastName\"\u001b[0m\u001b[0;34m,\u001b[0m\u001b[0;34m\"Create_at\"\u001b[0m\u001b[0;34m,\u001b[0m\u001b[0;34m\"created_at_date\"\u001b[0m\u001b[0;34m]\u001b[0m\u001b[0;34m)\u001b[0m\u001b[0;34m\u001b[0m\u001b[0m\n\u001b[0m",
      "\u001b[0;31mNameError\u001b[0m: name 'pd' is not defined"
     ]
    }
   ],
   "source": [
    "\n",
    "df= pd.DataFrame(d,columns=[\"Email\",\"FirstName\",\"LastName\",\"Create_at\",\"created_at_date\"])"
   ]
  },
  {
   "cell_type": "code",
   "execution_count": 17,
   "metadata": {
    "collapsed": false
   },
   "outputs": [
    {
     "ename": "NameError",
     "evalue": "name 'df' is not defined",
     "output_type": "error",
     "traceback": [
      "\u001b[0;31m---------------------------------------------------------------------------\u001b[0m",
      "\u001b[0;31mNameError\u001b[0m                                 Traceback (most recent call last)",
      "\u001b[0;32m<ipython-input-17-5ff114ce39f2>\u001b[0m in \u001b[0;36m<module>\u001b[0;34m()\u001b[0m\n\u001b[0;32m----> 1\u001b[0;31m \u001b[0mdf\u001b[0m\u001b[0;34m.\u001b[0m\u001b[0msort\u001b[0m\u001b[0;34m(\u001b[0m\u001b[0;34m'Create_at'\u001b[0m\u001b[0;34m,\u001b[0m\u001b[0mascending\u001b[0m\u001b[0;34m=\u001b[0m\u001b[0;34m-\u001b[0m\u001b[0;36m1\u001b[0m\u001b[0;34m)\u001b[0m\u001b[0;34m\u001b[0m\u001b[0m\n\u001b[0m",
      "\u001b[0;31mNameError\u001b[0m: name 'df' is not defined"
     ]
    }
   ],
   "source": [
    "df= pd.DataFrame(d,columns=[\"Email\",\"FirstName\",\"LastName\",\"Create_at\",\"created_at_date\"])\n",
    "df.sort('Create_at',ascending=-1)"
   ]
  },
  {
   "cell_type": "code",
   "execution_count": 18,
   "metadata": {
    "collapsed": true
   },
   "outputs": [],
   "source": [
    "\n",
    "timestamp = 1455555555"
   ]
  },
  {
   "cell_type": "code",
   "execution_count": 19,
   "metadata": {
    "collapsed": false
   },
   "outputs": [
    {
     "ename": "NameError",
     "evalue": "name 'df' is not defined",
     "output_type": "error",
     "traceback": [
      "\u001b[0;31m---------------------------------------------------------------------------\u001b[0m",
      "\u001b[0;31mNameError\u001b[0m                                 Traceback (most recent call last)",
      "\u001b[0;32m<ipython-input-19-b64b17f18511>\u001b[0m in \u001b[0;36m<module>\u001b[0;34m()\u001b[0m\n\u001b[0;32m----> 1\u001b[0;31m \u001b[0mdf\u001b[0m\u001b[0;34m[\u001b[0m\u001b[0mc\u001b[0m\u001b[0;34m(\u001b[0m\u001b[0;34m'email'\u001b[0m\u001b[0;34m)\u001b[0m\u001b[0;34m]\u001b[0m\u001b[0;34m\u001b[0m\u001b[0m\n\u001b[0m",
      "\u001b[0;31mNameError\u001b[0m: name 'df' is not defined"
     ]
    }
   ],
   "source": [
    "df[c('email')]"
   ]
  },
  {
   "cell_type": "code",
   "execution_count": 20,
   "metadata": {
    "collapsed": false
   },
   "outputs": [
    {
     "ename": "NameError",
     "evalue": "name 'df' is not defined",
     "output_type": "error",
     "traceback": [
      "\u001b[0;31m---------------------------------------------------------------------------\u001b[0m",
      "\u001b[0;31mNameError\u001b[0m                                 Traceback (most recent call last)",
      "\u001b[0;32m<ipython-input-20-0d6bfef93e2a>\u001b[0m in \u001b[0;36m<module>\u001b[0;34m()\u001b[0m\n\u001b[0;32m----> 1\u001b[0;31m \u001b[0mdf1\u001b[0m\u001b[0;34m=\u001b[0m \u001b[0mdf\u001b[0m\u001b[0;34m.\u001b[0m\u001b[0mloc\u001b[0m\u001b[0;34m[\u001b[0m\u001b[0;36m250\u001b[0m\u001b[0;34m:\u001b[0m\u001b[0;34m,\u001b[0m\u001b[0;34m[\u001b[0m\u001b[0;34m\"Email\"\u001b[0m\u001b[0;34m,\u001b[0m\u001b[0;34m\"FirstName\"\u001b[0m\u001b[0;34m,\u001b[0m\u001b[0;34m\"LastName\"\u001b[0m\u001b[0;34m]\u001b[0m\u001b[0;34m]\u001b[0m\u001b[0;34m\u001b[0m\u001b[0m\n\u001b[0m",
      "\u001b[0;31mNameError\u001b[0m: name 'df' is not defined"
     ]
    }
   ],
   "source": [
    "df1= df.loc[250:,[\"Email\",\"FirstName\",\"LastName\"]]"
   ]
  },
  {
   "cell_type": "code",
   "execution_count": 21,
   "metadata": {
    "collapsed": false
   },
   "outputs": [
    {
     "ename": "NameError",
     "evalue": "name 'df1' is not defined",
     "output_type": "error",
     "traceback": [
      "\u001b[0;31m---------------------------------------------------------------------------\u001b[0m",
      "\u001b[0;31mNameError\u001b[0m                                 Traceback (most recent call last)",
      "\u001b[0;32m<ipython-input-21-4b2c1eb981c5>\u001b[0m in \u001b[0;36m<module>\u001b[0;34m()\u001b[0m\n\u001b[0;32m----> 1\u001b[0;31m \u001b[0mdf1\u001b[0m\u001b[0;34m.\u001b[0m\u001b[0mto_csv\u001b[0m\u001b[0;34m(\u001b[0m\u001b[0;34m'out.csv'\u001b[0m\u001b[0;34m,\u001b[0m \u001b[0msep\u001b[0m\u001b[0;34m=\u001b[0m\u001b[0;34m'\\t'\u001b[0m\u001b[0;34m,\u001b[0m \u001b[0mencoding\u001b[0m\u001b[0;34m=\u001b[0m\u001b[0;34m'utf-8'\u001b[0m\u001b[0;34m)\u001b[0m\u001b[0;34m\u001b[0m\u001b[0m\n\u001b[0m",
      "\u001b[0;31mNameError\u001b[0m: name 'df1' is not defined"
     ]
    }
   ],
   "source": [
    "df1.to_csv('out.csv', sep='\\t', encoding='utf-8')"
   ]
  },
  {
   "cell_type": "code",
   "execution_count": 35,
   "metadata": {
    "collapsed": false
   },
   "outputs": [],
   "source": [
    "# Read the JSON .\n",
    "\n",
    "and_user_file = \"Android-Users-List2.json\"\n",
    "\n",
    "#config = json.loads(open(file).read())\n",
    "config_and_users = json.loads(open(and_user_file).read())"
   ]
  },
  {
   "cell_type": "code",
   "execution_count": 50,
   "metadata": {
    "collapsed": false
   },
   "outputs": [
    {
     "name": "stdout",
     "output_type": "stream",
     "text": [
      "{u'e99HhNCmCIMmXWo2NwsOW0KzyOB2': {u'status': u'offline', u'firstName': u'Dina', u'Direct Messages': u'YES', u'lastName': u'Newman', u'Created_at': 1468268557.0, u'Platform': u'Android', u'I am Attending': u'YES', u'food_preference': {u'food_id_1': u'YES'}, u'badge': u'0', u'email': u'dinanewmanrox@gmail.com'}, u'd0cb31f4-0608-414a-af1d-97810e87e20f': {u'status': u'offline', u'firstName': u'amos', u'Direct Messages': u'YES', u'lastName': u's', u'Created_at': 1469090722.0, u'Platform': u'Android', u'I am Attending': u'YES', u'food_preference': {u'food_id_1': u'YES'}, u'badge': u'0', u'email': u'jugglomo@hotmail.com'}, u'7QPNykusjDSKjJJSyuySLKV3xgX2': {u'status': u'offline', u'firstName': u'Steve', u'Direct Messages': u'YES', u'lastName': u'Burg', u'Created_at': 1470027151.0, u'Platform': u'Android', u'I am Attending': u'YES', u'email': u'burg.stephen@gmail.com'}, u'Ul8a1yyfu0gqeEcgbC980YtT2N52': {u'status': u'offline', u'firstName': u'Tara', u'Direct Messages': u'YES', u'lastName': u'Horn', u'Created_at': 1469971608.0, u'Platform': u'Android', u'I am Attending': u'YES', u'email': u'tarahorn@gmail.com'}, u'b964010c-837f-43fd-8c35-7bb65afe2688': {u'status': u'offline', u'firstName': u'Akiva ', u'Direct Messages': u'YES', u'lastName': u'Adler', u'Created_at': 1470144293.0, u'Platform': u'Android', u'I am Attending': u'YES', u'food_preference': {u'food_id_1': u'YES'}, u'email': u'keevster123@gmail.com'}, u'lKg0UdX6Q5dJTTjlAT0mmiTT6693': {u'status': u'offline', u'firstName': u'Shani', u'Direct Messages': u'YES', u'lastName': u'Berkowitz', u'Created_at': 1470055784.0, u'Platform': u'Android', u'I am Attending': u'YES', u'email': u'sh1733@yahoo.com'}, u'8eaknBIHkaUgNYQQBkijPcron3p1': {u'status': u'offline', u'firstName': u'Elle Jessica', u'Direct Messages': u'YES', u'lastName': u'Lewitter', u'Created_at': 1470041099.0, u'Platform': u'Android', u'I am Attending': u'YES', u'food_preference': {u'food_id_1': u'YES'}, u'badge': u'0', u'email': u'lewityael@gmail.com'}, u'e7d253f7-a5cf-40db-a571-8566cfe19df8': {u'status': u'offline', u'firstName': u'Yaffa', u'Direct Messages': u'YES', u'lastName': u'Frend', u'Created_at': 1468314184.0, u'Platform': u'Android', u'I am Attending': u'YES', u'food_preference': {u'food_id_1': u'YES'}, u'badge': u'0', u'email': u'yaffafrend@gmail.com'}, u'EzKrp8fJ8xcZqIqN2KHmzUUChpi2': {u'status': u'offline', u'firstName': u'Michelle', u'Direct Messages': u'YES', u'lastName': u'Patkin', u'Created_at': 1470154083.0, u'Platform': u'Android', u'I am Attending': u'YES', u'badge': u'0', u'email': u'mpatkin@terpmail.umd.edu'}, u'omQu5WCzzDgKxxHlIF8lK7KNItw2': {u'status': u'offline', u'firstName': u'Carly', u'Direct Messages': u'YES', u'lastName': u'Pask', u'Created_at': 1468306599.0, u'Platform': u'Android', u'I am Attending': u'YES', u'food_preference': {u'food_id_1': u'YES'}, u'badge': u'0', u'email': u'crazycarly.davis@gmail.com'}, u'd790118c-45c4-4907-81a2-474f207117bd': {u'status': u'offline', u'firstName': u'Barry', u'Direct Messages': u'YES', u'lastName': u'Mueller ', u'Created_at': 1466153599.0, u'Platform': u'Android', u'I am Attending': u'YES', u'food_preference': {u'food_id_1': u'YES'}, u'badge': u'0', u'email': u'barry.s.mueller@gmail.com'}, u'facebook:10156934492660582': {u'status': u'offline', u'firstName': u'Gabe', u'Direct Messages': u'YES', u'lastName': u'Falk', u'Created_at': 1470196019.0, u'Platform': u'Android', u'I am Attending': u'YES', u'badge': u'0', u'email': u'gwf7291@gmail.com'}, u'PDfVwkZhklgrHF7H7ITkoUBNOoJ3': {u'status': u'offline', u'firstName': u'Miri-Tal', u'Direct Messages': u'YES', u'lastName': u'Atlas', u'Created_at': 1470167627.0, u'Platform': u'Android', u'I am Attending': u'YES', u'badge': u'0', u'email': u'mta5747@yahoo.com'}, u'FaVAiDVISvcrhS6RTza4lj14QXX2': {u'status': u'offline', u'firstName': u'Levi', u'Direct Messages': u'YES', u'lastName': u'Frolich', u'Created_at': 1467108404.0, u'Platform': u'Android', u'I am Attending': u'YES', u'badge': u'1', u'email': u'levifrolich@gmail.com'}, u'TxGtYs3uLlMfyPeud0qLq8G8Qjq1': {u'status': u'offline', u'firstName': u'Aryeh', u'Direct Messages': u'YES', u'lastName': u'Schechter', u'Created_at': 1468411735.0, u'Platform': u'Android', u'I am Attending': u'YES', u'food_preference': {u'food_id_1': u'YES'}, u'badge': u'0', u'email': u'onomonapiasa@aol.com'}, u'QlxdihXTrfQ4nAbJ4LPGN6jDrUF2': {u'status': u'offline', u'firstName': u'Joseph', u'Direct Messages': u'YES', u'lastName': u'Katz', u'Created_at': 1467863931.0, u'Platform': u'Android', u'I am Attending': u'YES', u'food_preference': {u'food_id_1': u'YES'}, u'email': u'katzi18@gmail.com'}, u'WKru0qJL91NpSWwplDEMeZgQIRI2': {u'status': u'online', u'firstName': u'Avigayil', u'Direct Messages': u'YES', u'lastName': u'Warburg', u'Created_at': 1470141654.0, u'Platform': u'Android', u'I am Attending': u'YES', u'email': u'avigayilmandel@yahoo.com'}, u'81651f0e-f85e-4cf5-baac-bb091cc840d1': {u'status': u'online', u'firstName': u'Benjamin ', u'Direct Messages': u'YES', u'lastName': u'Figdor ', u'Created_at': 1468267784.0, u'Platform': u'Android', u'I am Attending': u'YES', u'food_preference': {u'food_id_1': u'YES'}, u'badge': u'0', u'email': u'figdorb@gmail.com'}, u'9hx2laDZJJR3tc9S4EfTPKXr0jJ3': {u'status': u'offline', u'firstName': u'Arieh', u'Direct Messages': u'YES', u'lastName': u'Friedman', u'Created_at': 1470032530.0, u'Platform': u'Android', u'I am Attending': u'YES', u'email': u'ajrocket@aol.com'}, u'facebook:10205153701596084': {u'status': u'offline', u'firstName': u'Aaron', u'Direct Messages': u'YES', u'lastName': u'Taylor', u'Created_at': 1468388111.0, u'Platform': u'Android', u'I am Attending': u'YES', u'food_preference': {u'food_id_1': u'YES'}, u'badge': u'0', u'email': u'aarontaylor613@gmail.com'}, u'6lkh3PkL6ZN8Ne1KuJF9JUTVfu32': {u'status': u'offline', u'firstName': u'Avi', u'Direct Messages': u'YES', u'lastName': u'Altschuler', u'Created_at': 1470298836.0, u'Platform': u'Android', u'I am Attending': u'YES', u'email': u'avialt14@gmail.com'}, u'KBDQiBv3GkXYwpL1yJk0nAWczhz1': {u'status': u'offline', u'firstName': u'Raya', u'Direct Messages': u'YES', u'lastName': u'Lanin', u'Created_at': 1468267220.0, u'Platform': u'Android', u'I am Attending': u'YES', u'food_preference': {u'food_id_1': u'YES', u'food_id_3': u'YES'}, u'email': u'rayaroodles@gmail.com'}, u'Pt01uv4BatdDER3vChKIN6TbcKd2': {u'status': u'offline', u'firstName': u'Miicah', u'Direct Messages': u'YES', u'lastName': u'Lehmann', u'Created_at': 1470141597.0, u'Platform': u'Android', u'I am Attending': u'YES', u'badge': u'0', u'email': u'mycello7@gmail.com'}, u'a8356348-63d1-4beb-9faf-d9e09408e5a2': {u'status': u'offline', u'firstName': u'Alex', u'Direct Messages': u'YES', u'lastName': u'Katz', u'Created_at': 1469008569.0, u'Platform': u'Android', u'I am Attending': u'YES', u'food_preference': {u'food_id_1': u'YES'}, u'email': u'alexkatz614@gmail.com'}, u'a3zI32egFggKHDSAoXhhepZBh573': {u'status': u'offline', u'firstName': u'Elie', u'Direct Messages': u'YES', u'lastName': u'Kaplan-Marans', u'Created_at': 1466962881.0, u'Platform': u'Android', u'I am Attending': u'YES', u'food_preference': {u'food_id_1': u'YES'}, u'badge': u'0', u'email': u'nowheretogo500@aol.com'}, u'rODPhwExMJM9hvwKh5Pv3kRx0TC3': {u'status': u'offline', u'firstName': u'Eve', u'Direct Messages': u'YES', u'lastName': u'Herman', u'Created_at': 1470139930.0, u'Platform': u'Android', u'I am Attending': u'YES', u'badge': u'0', u'email': u' '}, u'BiJN1qn9NiTtA50J4rYQ6xs9WYi2': {u'status': u'offline', u'firstName': u'Ariela', u'Direct Messages': u'YES', u'lastName': u'Epstein', u'Created_at': 1468483015.0, u'Platform': u'Android', u'I am Attending': u'YES', u'email': u'ariela.epstein@gmail.com'}, u'xxr9xA2IQvY2mdC2C3JYL0A0mU13': {u'status': u'offline', u'firstName': u'Eytan', u'Direct Messages': u'YES', u'lastName': u'White', u'Created_at': 1470075533.0, u'Platform': u'Android', u'I am Attending': u'YES', u'food_preference': {u'food_id_1': u'YES'}, u'email': u'whitey1024@yahoo.com'}, u'Yhl0drs1eUWhPTjnEWPujT39tfP2': {u'status': u'offline', u'firstName': u'Shawn', u'Direct Messages': u'YES', u'lastName': u'Bramson', u'Created_at': 1469334818.0, u'Platform': u'Android', u'I am Attending': u'YES', u'badge': u'0', u'email': u'srb286@cornell.edu'}, u'52dac208-d1fd-4866-a025-29f60e182cc1': {u'status': u'offline', u'firstName': u'Kate', u'Direct Messages': u'YES', u'lastName': u'Gerstler', u'Created_at': 1470059905.0, u'Platform': u'Android', u'I am Attending': u'YES', u'food_preference': {u'food_id_1': u'YES'}, u'badge': u'0', u'email': u'katesg5@gmail.com'}, u'facebook:823467433027': {u'status': u'offline', u'firstName': u'DM', u'Direct Messages': u'YES', u'lastName': u'Miller', u'Created_at': 1469579042.0, u'Platform': u'Android', u'I am Attending': u'YES', u'badge': u'2', u'email': u'danielmmiller@gmail.com'}, u'G7AoXkIXgwgTutBfM47Rg0ZjNk73': {u'status': u'offline', u'firstName': u'Gabe', u'Direct Messages': u'YES', u'lastName': u'Kay', u'Created_at': 1468307329.0, u'Platform': u'Android', u'I am Attending': u'YES', u'food_preference': {u'food_id_1': u'YES'}, u'badge': u'0', u'email': u'gabe.kay@gmail.com'}, u'ThCJDth8VjfTvz9Lasrs4uNfj582': {u'status': u'offline', u'firstName': u'Noemie', u'Direct Messages': u'YES', u'lastName': u'Azogui-Rosenthal', u'Created_at': 1465811061.0, u'Platform': u'Android', u'I am Attending': u'YES', u'food_preference': {u'food_id_1': u'YES'}, u'badge': u'1', u'email': u'noemie.rosenthal@gmail.com'}, u'c5398b33-a6ae-4145-ac22-708d115bdeba': {u'status': u'online', u'firstName': u'Pia ', u'Direct Messages': u'YES', u'allergies': {u'allergy_id_4': u'YES'}, u'Created_at': 1467020573.0, u'lastName': u'H', u'Platform': u'Android', u'I am Attending': u'YES', u'food_preference': {u'food_id_1': u'YES', u'food_id_2': u'YES', u'food_id_3': u'YES'}, u'badge': u'0', u'email': u'piahagenbach@gmail.com'}, u'f8e7e890-7f11-4451-b21f-dbe12144d467': {u'status': u'online', u'firstName': u'Arielle', u'Direct Messages': u'YES', u'lastName': u'Kwestel', u'Created_at': 1470133267.0, u'Platform': u'Android', u'I am Attending': u'YES', u'email': u'ariellekwestel@gmail.com'}, u'QlGeAtKnxhaP4N1dMeLysXsVrS93': {u'status': u'offline', u'firstName': u'Rebecca', u'Direct Messages': u'YES', u'lastName': u'Fuhrman', u'Created_at': 1466365933.0, u'Platform': u'Android', u'I am Attending': u'YES', u'food_preference': {u'food_id_1': u'YES'}, u'badge': u'1', u'email': u'rsfuhrman@gmail.com'}, u'fe0d0dbf-a7a3-4401-a317-b99eeca3a473': {u'status': u'offline', u'firstName': u'Karen', u'Direct Messages': u'YES', u'lastName': u'Reitman ', u'Created_at': 1469327843.0, u'Platform': u'Android', u'I am Attending': u'YES', u'food_preference': {u'food_id_1': u'YES'}, u'badge': u'0', u'email': u'karenreitman1@gmail.com'}, u'aRivhzUfJBQ13bVGlJfi29UIoLT2': {u'status': u'offline', u'firstName': u'Aron', u'Direct Messages': u'YES', u'lastName': u'White', u'Created_at': 1467730206.0, u'Platform': u'Android', u'I am Attending': u'YES', u'food_preference': {u'food_id_1': u'YES'}, u'badge': u'0', u'email': u'aronwhitedt@gmail.com'}, u'qL0xhwKwBJbtZNkuHcmaJrqaiAj2': {u'status': u'offline', u'firstName': u'Adam', u'Direct Messages': u'YES', u'lastName': u'Miller', u'Created_at': 1469449095.0, u'Platform': u'Android', u'I am Attending': u'YES', u'food_preference': {u'food_id_1': u'YES'}, u'badge': u'0', u'email': u'ajmil0011@gmail.com'}, u'OxdsGdi25VSfpKMLbpV6fW6pfaS2': {u'status': u'offline', u'firstName': u'Jordy', u'Direct Messages': u'YES', u'lastName': u'Burstein', u'Created_at': 1470103930.0, u'Platform': u'Android', u'I am Attending': u'YES', u'food_preference': {u'food_id_2': u'YES'}, u'badge': u'0', u'email': u'jordana.burstein@gmail.com'}, u'65ce8e90-f989-4a32-8e1b-a80a137bc4af': {u'status': u'offline', u'firstName': u'chaya', u'Direct Messages': u'YES', u'lastName': u'rapps', u'Created_at': 1469324950.0, u'Platform': u'Android', u'I am Attending': u'YES', u'food_preference': {u'food_id_1': u'YES'}, u'badge': u'0', u'email': u'chayaeichen@gmail.com'}, u'xjhZJtujvyZi5iog1QiYPmZVxdd2': {u'status': u'online', u'firstName': u'Michelle', u'Direct Messages': u'YES', u'lastName': u'Altaras', u'Created_at': 1468215190.0, u'Platform': u'Android', u'I am Attending': u'YES', u'food_preference': {u'food_id_1': u'YES', u'food_id_2': u'YES', u'food_id_3': u'YES'}, u'badge': u'0', u'email': u' '}, u'T19UcP4kPwTAyI8ul9IYVyus3V42': {u'status': u'offline', u'firstName': u'Amy', u'Direct Messages': u'YES', u'lastName': u'Kessler', u'Created_at': 1470309748.0, u'Platform': u'Android', u'I am Attending': u'YES', u'badge': u'0', u'email': u'amzamy@gmail.com'}, u'fDdqHOVEKne7ERLQjuwN4MYrt632': {u'status': u'offline', u'firstName': u'Shachar', u'Direct Messages': u'YES', u'lastName': u'Ben-Ami', u'Created_at': 1468781401.0, u'Platform': u'Android', u'I am Attending': u'YES', u'badge': u'0', u'email': u'venesian101@gmail.com'}, u'clpciRfkQdPszE3cHfbmrxxiaxW2': {u'status': u'offline', u'firstName': u'Dovid', u'Direct Messages': u'YES', u'lastName': u'Levine', u'Created_at': 1470290552.0, u'Platform': u'Android', u'I am Attending': u'YES', u'food_preference': {u'food_id_1': u'YES'}, u'badge': u'0', u'email': u'justlevine@gmail.com'}, u'hMLZ19tlTtaEFoMH4Ls2NNZ8rL12': {u'status': u'offline', u'firstName': u'Gila', u'Direct Messages': u'YES', u'lastName': u'Glazerson', u'Created_at': 1470164519.0, u'Platform': u'Android', u'I am Attending': u'YES', u'email': u' '}, u'Mij5qrquSNMu34glxV4iXHk8AXB2': {u'status': u'offline', u'firstName': u'Ari', u'Direct Messages': u'YES', u'lastName': u'Slomovic', u'Created_at': 1469747846.0, u'Platform': u'Android', u'I am Attending': u'YES', u'email': u'arislomovic@gmail.com'}, u'MQrNUD3sOcWZNN9wSbu1PNmryi92': {u'status': u'offline', u'firstName': u'Daniella', u'Direct Messages': u'YES', u'lastName': u'Kupietzky', u'Created_at': 1468210239.0, u'Platform': u'Android', u'I am Attending': u'YES', u'food_preference': {u'food_id_1': u'YES'}, u'email': u' '}, u'Fn43yp9rIKUiyATcQddCSBy65rY2': {u'status': u'offline', u'firstName': u'Tamar', u'Direct Messages': u'YES', u'lastName': u'Saar', u'Created_at': 1470290583.0, u'Platform': u'Android', u'I am Attending': u'YES', u'email': u' '}, u'stQfXLdRcqZM8bVlYc8rTb8rdhx1': {u'status': u'offline', u'firstName': u'Avraham', u'Direct Messages': u'YES', u'lastName': u'Nemoy', u'Created_at': 1470038908.0, u'Platform': u'Android', u'I am Attending': u'YES', u'email': u'anemoy@yahoo.com'}, u'A7G6GW9IZBNzMTwIV8XetUfJRb63': {u'status': u'offline', u'firstName': u'Dalia', u'Direct Messages': u'YES', u'lastName': u'Newman', u'Created_at': 1467806869.0, u'Platform': u'Android', u'I am Attending': u'NO', u'badge': u'0', u'email': u'dalianewman@hotmail.com'}, u'r7DJYAs9TCRcjiCFckiKNpDc7to2': {u'status': u'offline', u'firstName': u'Zippy', u'Direct Messages': u'YES', u'lastName': u'Sevrinsky', u'Created_at': 1470163440.0, u'Platform': u'Android', u'I am Attending': u'YES', u'food_preference': {u'food_id_1': u'YES'}, u'email': u'zipdansev@yahoo.com'}, u'WLzRQfSwm2POFyaceS75vBrCo3F3': {u'status': u'offline', u'firstName': u'Alyssa', u'Direct Messages': u'YES', u'lastName': u'Elbogen', u'Created_at': 1469330561.0, u'Platform': u'Android', u'I am Attending': u'YES', u'badge': u'0', u'email': u'aelbogen@gmail.com'}, u'VZwg3Zf9drZcIlJIehSTkTeJ5cB3': {u'status': u'offline', u'firstName': u'Sefi', u'Direct Messages': u'YES', u'lastName': u'Attias', u'Created_at': 1468175019.0, u'Platform': u'Android', u'I am Attending': u'YES', u'email': u'atntias@gmail.com'}, u'dd5792bf-3e99-4719-beeb-b13e9f0138df': {u'status': u'offline', u'firstName': u'Dave', u'Direct Messages': u'YES', u'lastName': u'Lawrence', u'Created_at': 1470294948.0, u'Platform': u'Android', u'I am Attending': u'YES', u'email': u'daveslaw@gmail.com'}, u'73d2a92c-ce3e-43d0-b519-96b22b4ad57e': {u'status': u'offline', u'firstName': u'Jason', u'Direct Messages': u'YES', u'lastName': u'Goldberg', u'Created_at': 1464296698.0, u'Platform': u'Android', u'I am Attending': u'YES', u'food_preference': {u'food_id_1': u'YES'}, u'badge': u'0', u'email': u'jasontest@gm.com'}, u'OeakmZHMkKXL8C2yc0tC8Nqad862': {u'status': u'offline', u'firstName': u'Daniel', u'Direct Messages': u'YES', u'lastName': u'Baran', u'Created_at': 1468250844.0, u'Platform': u'Android', u'I am Attending': u'YES', u'food_preference': {u'food_id_1': u'YES'}, u'badge': u'1', u'email': u'dsb2118@columbia.edu'}, u'rLk5Mg9CQWfMJmmSWLKyqNGWzbD2': {u'status': u'offline', u'firstName': u'Amy', u'Direct Messages': u'YES', u'allergies': {u'allergy_id_1': u'YES'}, u'Created_at': 1470085144.0, u'lastName': u'Shuter', u'Platform': u'Android', u'I am Attending': u'YES', u'food_preference': {u'food_id_1': u'YES'}, u'badge': u'0', u'email': u'amyshuter@gmail.com'}, u'zkj2XKL7V1SlD6qX0LmFc8IrqWQ2': {u'status': u'offline', u'firstName': u'Uzi', u'Direct Messages': u'YES', u'lastName': u'Hershkowitz', u'Created_at': 1468903874.0, u'Platform': u'Android', u'I am Attending': u'YES', u'food_preference': {u'food_id_1': u'YES'}, u'badge': u'1', u'email': u'onlyone234@gmail.com'}, u'Jx6OvdTmz8bUbOxwEbBYUfVfbC13': {u'status': u'offline', u'firstName': u'Eli', u'Direct Messages': u'YES', u'lastName': u'Black', u'Created_at': 1468175915.0, u'Platform': u'Android', u'I am Attending': u'YES', u'food_preference': {u'food_id_1': u'YES'}, u'email': u'leblack613@hotmail.com'}, u'zR1oaWaTCHNxSgEbf6y19fEK2AO2': {u'status': u'offline', u'firstName': u'Ariel', u'Direct Messages': u'YES', u'allergies': {u'allergy_id_1': u'YES'}, u'Created_at': 1467231723.0, u'lastName': u'Sterman', u'Platform': u'Android', u'I am Attending': u'YES', u'food_preference': {u'food_id_1': u'YES'}, u'badge': u'0', u'email': u'asterm819@gmail.com'}, u'75702497-5920-4d61-b193-b12718504d3c': {u'status': u'offline', u'firstName': u'Scott', u'Direct Messages': u'YES', u'lastName': u'Dubinsky', u'Created_at': 1470218492.0, u'Platform': u'Android', u'I am Attending': u'NO', u'email': u'smdubinsky@gmail.com'}, u'RZyFwG9GtBUbGWrzBqYqQevGG1i1': {u'status': u'offline', u'firstName': u'Michael', u'Direct Messages': u'YES', u'lastName': u'Klinger', u'Created_at': 1470291193.0, u'Platform': u'Android', u'I am Attending': u'YES', u'email': u'klingermichael@hotmail.com'}, u'sCEcWPI27HhlCr8WrnTb4BuVzOH2': {u'status': u'offline', u'firstName': u'Asher', u'Direct Messages': u'YES', u'allergies': {u'allergy_id_2': u'YES'}, u'Created_at': 1468388154.0, u'lastName': u'Azad', u'Platform': u'Android', u'I am Attending': u'YES', u'food_preference': {u'food_id_2': u'YES'}, u'badge': u'0', u'email': u'ashher.azad@gmail.com'}, u'c328fde4-1ab4-4621-a895-6fbb80475ad7': {u'status': u'offline', u'firstName': u'Eli', u'Direct Messages': u'YES', u'lastName': u'Saulson', u'Created_at': 1468260662.0, u'Platform': u'Android', u'I am Attending': u'YES', u'badge': u'0', u'email': u'eli_saulson@yahoo.com'}, u'8e631c24-7e26-4ca7-97e1-fd6de5a68b06': {u'status': u'offline', u'firstName': u'ron', u'Direct Messages': u'YES', u'lastName': u'shap', u'Created_at': 1470245512.0, u'Platform': u'Android', u'I am Attending': u'YES', u'email': u'shapirord+wemeal@gmail.com'}, u'VDKl2fhSo3Qg0Qv5URDprKPgrB33': {u'status': u'offline', u'firstName': u'Shira Yael', u'Direct Messages': u'YES', u'lastName': u'Naveh', u'Created_at': 1470310143.0, u'Platform': u'Android', u'I am Attending': u'YES', u'email': u' '}, u'7An15SffmnhCVtMKM9T8izAlxfB3': {u'status': u'offline', u'firstName': u'Shai', u'Direct Messages': u'YES', u'lastName': u'Steiman', u'Created_at': 1470054550.0, u'Platform': u'Android', u'I am Attending': u'YES', u'email': u'shai788@gmail.com'}, u'JXi4Zs9NfqgfIB3qjSQVq6XTOQS2': {u'status': u'offline', u'firstName': u'Sophie', u'Direct Messages': u'YES', u'lastName': u'Golding', u'Created_at': 1470071812.0, u'Platform': u'Android', u'I am Attending': u'YES', u'badge': u'0', u'email': u'sophs86@hotmail.com'}, u'4e8b958a-1060-4a18-a5b5-4e7d5d528023': {u'status': u'offline', u'firstName': u'steven', u'Direct Messages': u'YES', u'lastName': u'ritholtz', u'Created_at': 1464352802.0, u'Platform': u'Android', u'I am Attending': u'YES', u'food_preference': {u'food_id_1': u'YES'}, u'badge': u'1', u'email': u'stevenritholtz@gmail.com'}, u'vY55q1xTBQTIv6nM85Egz6tu2Kg2': {u'status': u'offline', u'firstName': u'Rivka', u'Direct Messages': u'YES', u'allergies': {u'allergy_id_1': u'YES'}, u'Created_at': 1468317366.0, u'lastName': u'Cohen', u'Platform': u'Android', u'I am Attending': u'YES', u'food_preference': {u'food_id_1': u'YES'}, u'email': u'rivka97@gmail.com'}, u'71f2ec80-108b-444d-9392-56e37d024d13': {u'status': u'online', u'firstName': u'David', u'Direct Messages': u'YES', u'lastName': u'Belkin', u'Created_at': 1469037367.0, u'Platform': u'Android', u'I am Attending': u'YES', u'food_preference': {u'food_id_1': u'YES'}, u'email': u'davidbelkin@gmail.com'}, u'waurBWTMETNKi8XKacieS3oG0uy2': {u'status': u'offline', u'firstName': u'Ilan', u'Direct Messages': u'YES', u'lastName': u'Cohen', u'Created_at': 1470043531.0, u'Platform': u'Android', u'I am Attending': u'YES', u'food_preference': {u'food_id_1': u'YES'}, u'email': u'sanity@gmail.com'}, u'cBeBGKRZRmW3YrxK0kv5xtgmgg13': {u'status': u'offline', u'firstName': u'David', u'Direct Messages': u'YES', u'lastName': u'Belkin', u'Created_at': 1469036381.0, u'Platform': u'Android', u'I am Attending': u'YES', u'food_preference': {u'food_id_1': u'YES'}, u'badge': u'0', u'email': u' '}, u'66a5bd6c-d5bf-4aae-aadb-2b4cf024d6f9': {u'status': u'offline', u'firstName': u'Elliot', u'Direct Messages': u'YES', u'lastName': u'Glassenberg ', u'Created_at': 1468364565.0, u'Platform': u'Android', u'I am Attending': u'YES', u'food_preference': {u'food_id_2': u'YES'}, u'badge': u'0', u'email': u'eglassenberg@gmail.com'}, u'koZkEb6jCYPhj9eRgOBYlW6xd452': {u'status': u'offline', u'firstName': u'Uri', u'Direct Messages': u'YES', u'lastName': u'Kesselman', u'Created_at': 1468311189.0, u'Platform': u'Android', u'I am Attending': u'YES', u'badge': u'0', u'email': u'urikesselman1@gmail.com'}, u'vXfjovtxeBYBE2TfgQz0SJQjofy2': {u'status': u'offline', u'firstName': u'Joshua', u'Direct Messages': u'YES', u'lastName': u'Shore', u'Created_at': 1470232510.0, u'Platform': u'Android', u'I am Attending': u'YES', u'email': u'walltumbler@gmail.com'}, u'a4483f30-2297-45df-ac45-b8b50dc30121': {u'status': u'offline', u'firstName': u'Alan', u'Direct Messages': u'YES', u'lastName': u'Dawidowicz', u'Created_at': 1469090921.0, u'Platform': u'Android', u'I am Attending': u'YES', u'food_preference': {u'food_id_1': u'YES'}, u'email': u'yadawidowicz@gmail.com'}, u'3fa26656-dd87-4e39-ab65-858447fb5629': {u'status': u'offline', u'firstName': u'risi', u'Direct Messages': u'YES', u'lastName': u'adler', u'Created_at': 1469085805.0, u'Platform': u'Android', u'I am Attending': u'YES', u'food_preference': {u'food_id_1': u'YES'}, u'email': u'risi.adlet@gmail.com'}, u'qWz82oxAuYag9mW0sdr3beTNMlC2': {u'status': u'offline', u'firstName': u'Simcha', u'Direct Messages': u'YES', u'lastName': u'Levine', u'Created_at': 1469329942.0, u'Platform': u'Android', u'I am Attending': u'YES', u'food_preference': {u'food_id_1': u'YES'}, u'badge': u'0', u'email': u'beilachina770@gmail.com'}, u'Uh40naDOKxRtaJl5lKFW0DHaraW2': {u'status': u'offline', u'firstName': u'Benjamin', u'Direct Messages': u'NO', u'lastName': u'Figdor', u'Created_at': 1468267915.0, u'Platform': u'Android', u'I am Attending': u'YES', u'food_preference': {u'food_id_1': u'YES'}, u'badge': u'0', u'email': u'benji@figdor.com.au'}, u'3967d30a-1ae6-4dc9-a43a-717c51e903b6': {u'status': u'offline', u'firstName': u'bethia', u'Direct Messages': u'YES', u'lastName': u'rubinstein', u'Created_at': 1470172344.0, u'Platform': u'Android', u'I am Attending': u'YES', u'email': u'bethiaruby@gmail.com'}, u'bD3Xu4w0yQeU9iKboMZRNDolv4i1': {u'status': u'offline', u'firstName': u'Sara', u'Direct Messages': u'YES', u'lastName': u'Jacobovitch', u'Created_at': 1468297734.0, u'Platform': u'Android', u'I am Attending': u'YES', u'food_preference': {u'food_id_1': u'YES'}, u'badge': u'0', u'email': u'saraej67550@gmail.com'}, u'facebook:10207787885789742': {u'status': u'offline', u'firstName': u'Daniel', u'Direct Messages': u'YES', u'lastName': u'Yosef', u'Created_at': 1464920105.0, u'Platform': u'Android', u'I am Attending': u'YES', u'food_preference': {u'food_id_1': u'YES'}, u'badge': u'0', u'email': u'yosef_daniel@walla.com'}, u'AFAT1uxFKTVYWnYWmpC9uaTK9bH3': {u'status': u'offline', u'firstName': u'Brian', u'Direct Messages': u'YES', u'lastName': u'Maissy', u'Created_at': 1470257013.0, u'Platform': u'Android', u'I am Attending': u'YES', u'food_preference': {u'food_id_1': u'YES'}, u'badge': u'0', u'email': u' '}, u'MLM1SF7KZshTaNMmy7miYy2cj653': {u'status': u'offline', u'firstName': u'Tonny', u'Direct Messages': u'YES', u'lastName': u'Szwarcmer', u'Created_at': 1468296540.0, u'Platform': u'Android', u'I am Attending': u'YES', u'food_preference': {u'food_id_1': u'YES'}, u'badge': u'0', u'email': u'fonztheiv@yahoo.com'}, u'c34e60a6-1b3c-4dba-8103-e06ed121e856': {u'status': u'offline', u'firstName': u'Zack', u'Direct Messages': u'YES', u'lastName': u'Raab', u'Created_at': 1468297921.0, u'Platform': u'Android', u'I am Attending': u'YES', u'badge': u'0', u'email': u'zackraab107@gmail.com'}, u'yKshhUkd8ugsT4vLSH1zG9DyPIQ2': {u'status': u'offline', u'firstName': u'Binny', u'Direct Messages': u'YES', u'lastName': u'Zupnick', u'Created_at': 1468238964.0, u'Platform': u'Android', u'I am Attending': u'YES', u'food_preference': {u'food_id_1': u'YES'}, u'badge': u'0', u'email': u'anguslvr@gmail.com'}, u'6vJbloPLHCgw7rvgxqn7VD0arFe2': {u'status': u'offline', u'firstName': u'Daniel', u'Direct Messages': u'YES', u'lastName': u'Elbogen', u'Created_at': 1468780206.0, u'Platform': u'Android', u'I am Attending': u'YES', u'food_preference': {u'food_id_1': u'YES'}, u'email': u'docphilbo91@gmail.com'}, u'DPrCUgU6xeaOglSZRco9GnUSqII2': {u'status': u'offline', u'firstName': u'Naftali', u'Direct Messages': u'YES', u'lastName': u'Pfeiffer', u'Created_at': 1470077186.0, u'Platform': u'Android', u'I am Attending': u'YES', u'food_preference': {u'food_id_1': u'YES'}, u'badge': u'0', u'email': u'lefife54@gmail.com'}, u'z2o77ocXQOfGBTOraRLg318LogG3': {u'status': u'offline', u'firstName': u'Nili', u'Direct Messages': u'YES', u'lastName': u'Steinbock', u'Created_at': 1468267899.0, u'Platform': u'Android', u'I am Attending': u'YES', u'food_preference': {u'food_id_1': u'YES'}, u'badge': u'0', u'email': u'nilisteinbock@gmail.com'}, u'HFGRMvsKT6PCaXRE3uZNgccZv013': {u'status': u'offline', u'firstName': u'Avi', u'Direct Messages': u'YES', u'allergies': {u'allergy_id_3': u'YES'}, u'Created_at': 1468325654.0, u'lastName': u'Fogelman', u'Platform': u'Android', u'I am Attending': u'YES', u'food_preference': {u'food_id_1': u'YES'}, u'badge': u'0', u'email': u'avifogelman@gmail.com'}, u'S3gBpEaExWOiItJE8JdNW3SGxWs1': {u'status': u'offline', u'firstName': u'Gideon', u'Direct Messages': u'YES', u'lastName': u'Shapiro', u'Created_at': 1468292515.0, u'Platform': u'Android', u'I am Attending': u'YES', u'food_preference': {u'food_id_1': u'YES'}, u'badge': u'0', u'email': u' '}, u'Q3lGn1UBsJdfkzKCAXvASnJT5Va2': {u'status': u'offline', u'firstName': u'Moshe', u'Direct Messages': u'YES', u'lastName': u'Kwiat', u'Created_at': 1468272720.0, u'Platform': u'Android', u'I am Attending': u'YES', u'food_preference': {u'food_id_1': u'YES'}, u'badge': u'0', u'email': u'13moshe@gmail.com'}, u'3COIqpMGKuZQmnKopdyE2yhHgqo1': {u'status': u'offline', u'firstName': u'\\u05e6\\u05d1\\u05d9', u'Direct Messages': u'YES', u'lastName': u'\\u05d2\\u05d5\\u05e8\\u05d3\\u05d5\\u05df', u'Created_at': 1468270038.0, u'Platform': u'Android', u'I am Attending': u'YES', u'food_preference': {u'food_id_1': u'YES'}, u'badge': u'0', u'email': u'tzvi.gordon@yahoo.com'}, u'f81701d4-f3d8-41c9-b0b9-0dd2116f206a': {u'status': u'offline', u'firstName': u'jesse', u'Direct Messages': u'YES', u'lastName': u'buchine', u'Created_at': 1470144582.0, u'Platform': u'Android', u'I am Attending': u'YES', u'email': u'jbuchine@gmail.com'}, u'caf1f40b-1423-4a5c-992b-7f6d8b05e3cf': {u'status': u'online', u'firstName': u'Jason', u'Direct Messages': u'YES', u'lastName': u'gold', u'Created_at': 1464296812.0, u'Platform': u'Android', u'I am Attending': u'YES', u'badge': u'0', u'email': u'jasoon@gm.com'}, u'ELYZ3IOdx1eOPlLwZTkCZCwqqpy1': {u'status': u'online', u'firstName': u'Kishan', u'Direct Messages': u'YES', u'lastName': u'Gondaliya', u'Created_at': 1468243489.0, u'Platform': u'Android', u'I am Attending': u'YES', u'email': u'khgondaliya123@gmail.com'}}\n"
     ]
    }
   ],
   "source": [
    "print config_and_users\n"
   ]
  },
  {
   "cell_type": "code",
   "execution_count": 63,
   "metadata": {
    "collapsed": false
   },
   "outputs": [],
   "source": [
    "df = pd.DataFrame(columns=['email','firstname','lastname','created_at'])\n",
    "df1 = []\n",
    "\n",
    "for i in config_and_users: \n",
    "    e= config_and_users[i]['email']\n",
    "    f= config_and_users[i]['firstName']\n",
    "    l=config_and_users[i]['lastName']\n",
    "    d=config_and_users[i]['Created_at']\n",
    "    df1.append([e,f,l,d,get_date(d)])\n",
    "\n",
    "df= pd.DataFrame(df1,columns=[\"Email\",\"FirstName\",\"LastName\",\"Create_at\",\"Date\"])\n",
    "df.sort('Create_at',ascending=-1)\n",
    "    \n",
    "df.to_csv('out-android.csv', sep='\\t', encoding='utf-8')"
   ]
  },
  {
   "cell_type": "code",
   "execution_count": 61,
   "metadata": {
    "collapsed": true
   },
   "outputs": [],
   "source": [
    "import csv"
   ]
  },
  {
   "cell_type": "code",
   "execution_count": null,
   "metadata": {
    "collapsed": true
   },
   "outputs": [],
   "source": []
  }
 ],
 "metadata": {
  "kernelspec": {
   "display_name": "Python 2",
   "language": "python",
   "name": "python2"
  },
  "language_info": {
   "codemirror_mode": {
    "name": "ipython",
    "version": 2
   },
   "file_extension": ".py",
   "mimetype": "text/x-python",
   "name": "python",
   "nbconvert_exporter": "python",
   "pygments_lexer": "ipython2",
   "version": "2.7.11"
  }
 },
 "nbformat": 4,
 "nbformat_minor": 0
}
