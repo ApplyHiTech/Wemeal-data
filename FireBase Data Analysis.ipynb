{
 "cells": [
  {
   "cell_type": "code",
   "execution_count": null,
   "metadata": {
    "collapsed": true
   },
   "outputs": [],
   "source": [
    "import json\n",
    "import pandas as pd\n",
    "import numpy as np\n",
    "import calendar, datetime\n",
    "import datetime\n",
    "\n",
    "file = 'wemeal-export.json'\n",
    "user_file = 'wemeal-export-users.json'"
   ]
  },
  {
   "cell_type": "code",
   "execution_count": null,
   "metadata": {
    "collapsed": false
   },
   "outputs": [],
   "source": [
    "#List of users. \n",
    "count=0\n",
    "user_list = []\n",
    "\n",
    "for i in all_users:\n",
    "    firstName =  all_users[i][\"firstName\"]\n",
    "    lastName = all_users[i][\"lastName\"]\n",
    "    \n",
    "    \n",
    "\n",
    "    try:\n",
    "    \n",
    "        created = all_users[i][\"Created_at\"]\n",
    "        email = all_users[i][\"email\"]\n",
    "        \n",
    "    except:\n",
    "    \n",
    "        email = \" N/A\"\n",
    "\n",
    "    if created > 1368195200:\n",
    "        count=count+1\n",
    "        print \"%s, %s, %s\" % (lastName, firstName, email)\n",
    "        user_list.append([lastName, firstName, email])\n",
    "df= pd.DataFrame(user_list)\n",
    "df.columns= ['LastName', 'FirstName', 'Email']\n",
    "\n",
    "print \"The total count is %s\" % count\n",
    "df\n"
   ]
  },
  {
   "cell_type": "code",
   "execution_count": null,
   "metadata": {
    "collapsed": false
   },
   "outputs": [],
   "source": [
    "# Who's created meals. \n",
    "meal_table = config['meal']\n",
    "meal_items = config['meal_items']\n",
    "\n",
    "meal_list = []\n",
    "for i in meal_table:\n",
    "    user_id =  meal_table[i]['meal_createdby']\n",
    "    # print user_id\n",
    "    if user_id in user_table.keys():\n",
    "        # print \"HI\"\n",
    "        user_info = user_table[user_id]\n",
    "        #print user_info\n",
    "        firstName =  user_info[\"firstName\"]\n",
    "        lastName = user_info[\"lastName\"]\n",
    "        meal_created = dt(meal_table[i][\"meal_date\"])\n",
    "        potluck = meal_table[i][\"meal_pre_everyonebringfood\"]\n",
    "        \n",
    "        #print \"%s, %s, isPotluck: %s\" % (firstName, lastName, potluck)\n",
    "        meal_list.append([firstName, lastName, potluck,meal_created])\n",
    "df= pd.DataFrame(meal_list)\n",
    "df.columns= ['FirstName', 'LastName', 'isPotluck?','date']\n",
    "df.sort(\"date\")"
   ]
  },
  {
   "cell_type": "code",
   "execution_count": null,
   "metadata": {
    "collapsed": true
   },
   "outputs": [],
   "source": [
    "def get_date(meal_id):\n",
    "    return dt(meal_table[meal_id][\"meal_date\"])\n",
    "\n",
    "def get_address(meal_id):\n",
    "    return meal_table[meal_id][\"meal_location\"]"
   ]
  },
  {
   "cell_type": "code",
   "execution_count": null,
   "metadata": {
    "collapsed": false
   },
   "outputs": [],
   "source": [
    "#Who's bringing what? \n",
    "\n",
    "meal_items = config['meal_items']\n",
    "#given meal:\n",
    "\n",
    "potluck_meal_items = []\n",
    "\n",
    "for i in meal_table:\n",
    "    potluck = meal_table[i][\"meal_pre_everyonebringfood\"]\n",
    "    host = get_name(meal_table[i]['meal_createdby'])\n",
    "    date = get_date(i)\n",
    "    address = get_address(i)\n",
    "    if potluck == \"YES\":\n",
    "        try: \n",
    "            list_of_items = meal_items[i]\n",
    "        except:\n",
    "            \"Skipped \"+i\n",
    "        \n",
    "        for j in list_of_items:\n",
    "            food = j['name']\n",
    "            if j['user_id'] == '' or j['user_id'] == \"\":\n",
    "                firstName = \"null\"\n",
    "                lastName =\"null\"\n",
    "            else: \n",
    "                user_info = user_table[j['user_id']]\n",
    "                #print user_info\n",
    "                firstName =  user_info[\"firstName\"]\n",
    "                lastName = user_info[\"lastName\"]\n",
    "            if firstName == \"null\":\n",
    "                pass\n",
    "            else:\n",
    "                potluck_meal_items.append([firstName,lastName,food,host,date,address]) \n",
    "        "
   ]
  },
  {
   "cell_type": "code",
   "execution_count": null,
   "metadata": {
    "collapsed": false
   },
   "outputs": [],
   "source": [
    "def get_date(timestamp):\n",
    "    return datetime.datetime.fromtimestamp(timestamp).strftime('%Y-%m-%d %H:%M:%S')"
   ]
  },
  {
   "cell_type": "code",
   "execution_count": null,
   "metadata": {
    "collapsed": true
   },
   "outputs": [],
   "source": []
  },
  {
   "cell_type": "code",
   "execution_count": null,
   "metadata": {
    "collapsed": false
   },
   "outputs": [],
   "source": [
    "config_users\n",
    "df = pd.DataFrame(columns=['email','firstname','lastname','created_at'])\n",
    "d = []\n",
    "for i in config_users:\n",
    "    user = config_users[i]\n",
    "    #print user\n",
    "    try:\n",
    "        email=user['email']\n",
    "    except:\n",
    "        email=\"unknown\"\n",
    "    \n",
    "    firstname = user['firstName']\n",
    "    lastname = user['lastName']\n",
    "    try:\n",
    "        created_at = user['Created_at']\n",
    "    except:\n",
    "        created_at = -1\n",
    "    d.append([email,firstname,lastname,created_at,get_date(created_at)])\n",
    "\n"
   ]
  },
  {
   "cell_type": "code",
   "execution_count": null,
   "metadata": {
    "collapsed": false
   },
   "outputs": [],
   "source": [
    "\n",
    "df= pd.DataFrame(d,columns=[\"Email\",\"FirstName\",\"LastName\",\"Create_at\",\"created_at_date\"])"
   ]
  },
  {
   "cell_type": "code",
   "execution_count": null,
   "metadata": {
    "collapsed": false
   },
   "outputs": [],
   "source": [
    "df= pd.DataFrame(d,columns=[\"Email\",\"FirstName\",\"LastName\",\"Create_at\",\"created_at_date\"])\n",
    "df.sort('Create_at',ascending=-1)"
   ]
  },
  {
   "cell_type": "code",
   "execution_count": null,
   "metadata": {
    "collapsed": true
   },
   "outputs": [],
   "source": [
    "\n",
    "timestamp = 1455555555"
   ]
  },
  {
   "cell_type": "code",
   "execution_count": null,
   "metadata": {
    "collapsed": false
   },
   "outputs": [],
   "source": [
    "df[c('email')]"
   ]
  },
  {
   "cell_type": "code",
   "execution_count": null,
   "metadata": {
    "collapsed": false
   },
   "outputs": [],
   "source": [
    "df1= df.loc[250:,[\"Email\",\"FirstName\",\"LastName\"]]"
   ]
  },
  {
   "cell_type": "code",
   "execution_count": null,
   "metadata": {
    "collapsed": false
   },
   "outputs": [],
   "source": [
    "df= pd.DataFrame(d,columns=[\"Email\",\"FirstName\",\"LastName\",\"Create_at\",\"created_at_date\"])\n",
    "df1.to_csv('out.csv', sep='\\t', encoding='utf-8')"
   ]
  },
  {
   "cell_type": "code",
   "execution_count": null,
   "metadata": {
    "collapsed": false
   },
   "outputs": [],
   "source": [
    "# Read the JSON .\n",
    "\n",
    "and_user_file = \"Android-Users-List2.json\"\n",
    "\n",
    "#config = json.loads(open(file).read())\n",
    "config_and_users = json.loads(open(and_user_file).read())"
   ]
  },
  {
   "cell_type": "code",
   "execution_count": null,
   "metadata": {
    "collapsed": true
   },
   "outputs": [],
   "source": [
    "print config_and_users\n"
   ]
  },
  {
   "cell_type": "code",
   "execution_count": null,
   "metadata": {
    "collapsed": false
   },
   "outputs": [],
   "source": [
    "df = pd.DataFrame(columns=['email','firstname','lastname','created_at'])\n",
    "df1 = []\n",
    "\n",
    "for i in config_and_users: \n",
    "    e= config_and_users[i]['email']\n",
    "    f= config_and_users[i]['firstName']\n",
    "    l=config_and_users[i]['lastName']\n",
    "    d=config_and_users[i]['Created_at']\n",
    "    df1.append([e,f,l,d,get_date(d)])\n",
    "\n",
    "df= pd.DataFrame(df1,columns=[\"Email\",\"FirstName\",\"LastName\",\"Create_at\",\"Date\"])\n",
    "df.sort('Create_at',ascending=-1)\n",
    "    \n",
    "df.to_csv('out-android.csv', sep='\\t', encoding='utf-8')"
   ]
  },
  {
   "cell_type": "code",
   "execution_count": null,
   "metadata": {
    "collapsed": true
   },
   "outputs": [],
   "source": [
    "import csv\n",
    "import json\n",
    "import pandas as pd\n",
    "import numpy as np\n",
    "import calendar, datetime\n",
    "import datetime\n",
    "\n",
    "def dt(u): return datetime.datetime.utcfromtimestamp(u)\n"
   ]
  },
  {
   "cell_type": "code",
   "execution_count": 270,
   "metadata": {
    "collapsed": false
   },
   "outputs": [
    {
     "ename": "UnicodeEncodeError",
     "evalue": "'ascii' codec can't encode characters in position 0-2: ordinal not in range(128)",
     "output_type": "error",
     "traceback": [
      "\u001b[0;31m---------------------------------------------------------------------------\u001b[0m",
      "\u001b[0;31mUnicodeEncodeError\u001b[0m                        Traceback (most recent call last)",
      "\u001b[0;32m<ipython-input-270-094402281b83>\u001b[0m in \u001b[0;36m<module>\u001b[0;34m()\u001b[0m\n\u001b[1;32m     15\u001b[0m     \u001b[0mdf\u001b[0m\u001b[0;34m.\u001b[0m\u001b[0mto_csv\u001b[0m\u001b[0;34m(\u001b[0m\u001b[0;34m'list_of_food_items_aug_4.csv'\u001b[0m\u001b[0;34m,\u001b[0m \u001b[0msep\u001b[0m\u001b[0;34m=\u001b[0m\u001b[0;34m','\u001b[0m\u001b[0;34m,\u001b[0m \u001b[0mencoding\u001b[0m\u001b[0;34m=\u001b[0m\u001b[0;34m'utf-8'\u001b[0m\u001b[0;34m)\u001b[0m\u001b[0;34m\u001b[0m\u001b[0m\n\u001b[1;32m     16\u001b[0m \u001b[0;34m\u001b[0m\u001b[0m\n\u001b[0;32m---> 17\u001b[0;31m \u001b[0mwrite_csv_of_meal_info\u001b[0m\u001b[0;34m(\u001b[0m\u001b[0;34m)\u001b[0m\u001b[0;34m\u001b[0m\u001b[0m\n\u001b[0m",
      "\u001b[0;32m<ipython-input-270-094402281b83>\u001b[0m in \u001b[0;36mwrite_csv_of_meal_info\u001b[0;34m(date)\u001b[0m\n\u001b[1;32m     10\u001b[0m     \u001b[0;31m# This computes Meals happening this week and how many people are going.\u001b[0m\u001b[0;34m\u001b[0m\u001b[0;34m\u001b[0m\u001b[0m\n\u001b[1;32m     11\u001b[0m \u001b[0;34m\u001b[0m\u001b[0m\n\u001b[0;32m---> 12\u001b[0;31m     \u001b[0mmeals_this_week\u001b[0m \u001b[0;34m=\u001b[0m \u001b[0mbasic_meal_data\u001b[0m\u001b[0;34m(\u001b[0m\u001b[0mconfig_meal_data\u001b[0m\u001b[0;34m)\u001b[0m\u001b[0;34m\u001b[0m\u001b[0m\n\u001b[0m\u001b[1;32m     13\u001b[0m     \u001b[0mmeals_this_week\u001b[0m\u001b[0;34m.\u001b[0m\u001b[0mto_csv\u001b[0m\u001b[0;34m(\u001b[0m\u001b[0;34m'meals_aug_4.csv'\u001b[0m\u001b[0;34m,\u001b[0m \u001b[0msep\u001b[0m\u001b[0;34m=\u001b[0m\u001b[0;34m'\\t'\u001b[0m\u001b[0;34m,\u001b[0m \u001b[0mencoding\u001b[0m\u001b[0;34m=\u001b[0m\u001b[0;34m'utf-8'\u001b[0m\u001b[0;34m)\u001b[0m\u001b[0;34m\u001b[0m\u001b[0m\n\u001b[1;32m     14\u001b[0m     \u001b[0mdf\u001b[0m \u001b[0;34m=\u001b[0m \u001b[0mlist_of_food_items\u001b[0m\u001b[0;34m(\u001b[0m\u001b[0mmeals_this_week\u001b[0m\u001b[0;34m)\u001b[0m\u001b[0;34m\u001b[0m\u001b[0m\n",
      "\u001b[0;32m<ipython-input-267-534d01d0051b>\u001b[0m in \u001b[0;36mbasic_meal_data\u001b[0;34m(config_meal_data, date)\u001b[0m\n\u001b[1;32m      8\u001b[0m \u001b[0;34m\u001b[0m\u001b[0m\n\u001b[1;32m      9\u001b[0m \u001b[0;32mdef\u001b[0m \u001b[0mbasic_meal_data\u001b[0m\u001b[0;34m(\u001b[0m\u001b[0mconfig_meal_data\u001b[0m\u001b[0;34m,\u001b[0m \u001b[0mdate\u001b[0m\u001b[0;34m=\u001b[0m\u001b[0;36m1470342643\u001b[0m\u001b[0;34m)\u001b[0m\u001b[0;34m:\u001b[0m\u001b[0;34m\u001b[0m\u001b[0m\n\u001b[0;32m---> 10\u001b[0;31m     \u001b[0mdf\u001b[0m \u001b[0;34m=\u001b[0m \u001b[0mget_data_after_date\u001b[0m\u001b[0;34m(\u001b[0m\u001b[0mconfig_meal_data\u001b[0m\u001b[0;34m,\u001b[0m\u001b[0mdate\u001b[0m\u001b[0;34m)\u001b[0m\u001b[0;34m\u001b[0m\u001b[0m\n\u001b[0m\u001b[1;32m     11\u001b[0m     \u001b[0;32mreturn\u001b[0m \u001b[0mdf\u001b[0m\u001b[0;34m.\u001b[0m\u001b[0msort\u001b[0m\u001b[0;34m(\u001b[0m\u001b[0;34m'total_attendees'\u001b[0m\u001b[0;34m,\u001b[0m\u001b[0mascending\u001b[0m\u001b[0;34m=\u001b[0m\u001b[0;34m-\u001b[0m\u001b[0;36m1\u001b[0m\u001b[0;34m)\u001b[0m\u001b[0;34m\u001b[0m\u001b[0m\n\u001b[1;32m     12\u001b[0m \u001b[0;34m\u001b[0m\u001b[0m\n",
      "\u001b[0;32m<ipython-input-267-534d01d0051b>\u001b[0m in \u001b[0;36mget_data_after_date\u001b[0;34m(config_meal_data, date)\u001b[0m\n\u001b[1;32m     19\u001b[0m         \u001b[0mm_date\u001b[0m\u001b[0;34m=\u001b[0m \u001b[0mmeal_data\u001b[0m\u001b[0;34m[\u001b[0m\u001b[0;34m'meal_date'\u001b[0m\u001b[0;34m]\u001b[0m\u001b[0;34m\u001b[0m\u001b[0m\n\u001b[1;32m     20\u001b[0m         \u001b[0mtotal_attendees\u001b[0m\u001b[0;34m=\u001b[0m \u001b[0mmeal_data\u001b[0m\u001b[0;34m[\u001b[0m\u001b[0;34m'total_attendees'\u001b[0m\u001b[0;34m]\u001b[0m\u001b[0;34m\u001b[0m\u001b[0m\n\u001b[0;32m---> 21\u001b[0;31m         \u001b[0mhost_name\u001b[0m \u001b[0;34m=\u001b[0m \u001b[0mstr\u001b[0m\u001b[0;34m(\u001b[0m\u001b[0mget_name\u001b[0m\u001b[0;34m(\u001b[0m\u001b[0mconfig_meal_data\u001b[0m\u001b[0;34m[\u001b[0m\u001b[0mi\u001b[0m\u001b[0;34m]\u001b[0m\u001b[0;34m[\u001b[0m\u001b[0;34m'meal_createdby'\u001b[0m\u001b[0;34m]\u001b[0m\u001b[0;34m)\u001b[0m\u001b[0;34m)\u001b[0m\u001b[0;34m\u001b[0m\u001b[0m\n\u001b[0m\u001b[1;32m     22\u001b[0m \u001b[0;34m\u001b[0m\u001b[0m\n\u001b[1;32m     23\u001b[0m         \u001b[0;32mif\u001b[0m \u001b[0mm_date\u001b[0m\u001b[0;34m>\u001b[0m\u001b[0mdate\u001b[0m\u001b[0;34m:\u001b[0m\u001b[0;34m\u001b[0m\u001b[0m\n",
      "\u001b[0;31mUnicodeEncodeError\u001b[0m: 'ascii' codec can't encode characters in position 0-2: ordinal not in range(128)"
     ]
    }
   ],
   "source": [
    "# Read the JSON .\n",
    "\n",
    "#config = json.loads(open(file).read())\n",
    "config_meal_data = json.loads(open(\"wemeal-export-meal.json\").read())\n",
    "config_user_data = json.loads(open(\"wemeal-export-user.json\").read())\n",
    "config_meal_item = json.loads(open(\"wemeal-export-mealitems.json\").read())\n",
    "config_meal_members = json.loads(open(\"wemeal-export-mealmembers.json\").read())\n",
    "\n",
    "def write_csv_of_meal_info(date=1470342643):\n",
    "    # This computes Meals happening this week and how many people are going.\n",
    "    \n",
    "    meals_this_week = basic_meal_data(config_meal_data)\n",
    "    meals_this_week.to_csv('meals_aug_4.csv', sep='\\t', encoding='utf-8')\n",
    "    df = list_of_food_items(meals_this_week)\n",
    "    df.to_csv('list_of_food_items_aug_4.csv', sep=',', encoding='utf-8')\n",
    "    \n",
    "write_csv_of_meal_info()"
   ]
  },
  {
   "cell_type": "code",
   "execution_count": null,
   "metadata": {
    "collapsed": true
   },
   "outputs": [],
   "source": [
    "meals_this_week = basic_meal_data(config_meal_data)\n",
    "df = list_of_food_items(meals_this_week)\n"
   ]
  },
  {
   "cell_type": "code",
   "execution_count": null,
   "metadata": {
    "collapsed": true
   },
   "outputs": [],
   "source": [
    "config_meal_data"
   ]
  },
  {
   "cell_type": "code",
   "execution_count": null,
   "metadata": {
    "collapsed": false
   },
   "outputs": [],
   "source": [
    "#print config_meal_data[ia.next()]\n",
    "\n",
    "def get_meal_location(meal_id):\n",
    "    x = config_meal_data[meal_id]['meal_location']\n",
    "    if config_meal_data[meal_id]['meal_apprtment'] != \"\":\n",
    "        x=x+\" Apt: %s\"%config_meal_data[meal_id]['meal_apprtment']\n",
    "    return x\n",
    "\n",
    "def basic_meal_data(config_meal_data, date=1470342643):\n",
    "    df = get_data_after_date(config_meal_data,date)\n",
    "    return df.sort('total_attendees',ascending=-1)\n",
    "\n",
    "def get_data_after_date(config_meal_data,date):\n",
    "    df1 = []\n",
    "    new_list = []\n",
    "    for i in config_meal_data:\n",
    "        meal_data = config_meal_data[i]\n",
    "        meal_id=i\n",
    "        m_date= meal_data['meal_date']\n",
    "        total_attendees= meal_data['total_attendees']\n",
    "        host_name = str(get_name(config_meal_data[i]['meal_createdby']))\n",
    "        \n",
    "        if m_date>date:\n",
    "            #print \"%s , %s, Total: %s\" %( host_name, dt(m_date),total_attendees)\n",
    "            df1.append([host_name,meal_id, dt(m_date),int(total_attendees)])\n",
    "    return pd.DataFrame(df1,columns=['meal_date','meal_id','host_name','total_attendees'])"
   ]
  },
  {
   "cell_type": "code",
   "execution_count": null,
   "metadata": {
    "collapsed": true
   },
   "outputs": [],
   "source": [
    "def get_name(user_id):\n",
    "    try: \n",
    "        user_info = config_user_data[user_id]\n",
    "        firstName =  user_info[\"firstName\"]\n",
    "        lastName = user_info[\"lastName\"]\n",
    "    except:\n",
    "        firstName = \"No\"\n",
    "        lastName = \"User\"\n",
    "\n",
    "    return \"%s %s\" %(firstName,lastName)\n",
    "\n",
    "def get_email_name2(user_id):\n",
    "    try: \n",
    "        user_info = config_user_data[user_id]\n",
    "        firstName =  user_info[\"firstName\"]\n",
    "        lastName = user_info[\"lastName\"]\n",
    "        email = user_info[\"email\"]\n",
    "    except:\n",
    "        firstName = \"No\"\n",
    "        lastName = \"User\"\n",
    "        email = \"\"\n",
    "    return (firstName,lastName, email)"
   ]
  },
  {
   "cell_type": "code",
   "execution_count": null,
   "metadata": {
    "collapsed": false
   },
   "outputs": [],
   "source": [
    "def list_members_get_members_of_meal(meal_id):\n",
    "    all_meal_info = config_meal_members[meal_id]\n",
    "    return all_meal_info\n",
    "\n",
    "def get_food_item(config_meal_item,meal_id,user_id):\n",
    "    food_items_list = []\n",
    "    try: \n",
    "        x= config_meal_item[meal_id]\n",
    "        for i in x:\n",
    "            if i['user_id']==user_id:\n",
    "                food_items_list.append(i['name'])\n",
    "    except:\n",
    "        \"no items\"\n",
    "    #print food_items_list\n",
    "    return mk_list_str(food_items_list)\n",
    "\n",
    "def mk_list_str(food_items_list):\n",
    "    if len(food_items_list)==0:\n",
    "        return \"\"\n",
    "    elif len(food_items_list)==1:\n",
    "        print food_items_list[0]\n",
    "        return food_items_list[0]\n",
    "    else:\n",
    "        termp=food_items_list[0]\n",
    "        \"Sup\"\n",
    "        for i in range(len(food_items_list)-2):\n",
    "           termp = termp +\", \"+food_items_list[i+1]\n",
    "        termp = termp +\", and \" +food_items_list[-1]\n",
    "        return termp\n",
    "\n",
    "def list_of_food_items(meals_this_week):\n",
    "    listitems=[]\n",
    "    for i in range(len(meals_this_week)):\n",
    "        meal_id = meals_this_week['meal_id'][i]\n",
    "        x = list_members_get_members_of_meal(meal_id)\n",
    "        for i in range(len(x)):\n",
    "            #For each user: \n",
    "            meal_id=meal_id\n",
    "            meal_time=dt(config_meal_data[meal_id]['meal_date'])\n",
    "            meal_location=get_meal_location(meal_id)\n",
    "            user_id= x[i]['user_id']\n",
    "            host_name = get_name(config_meal_data[i]['meal_createdby'])\n",
    "            name_email=get_email_name2(x[i]['user_id'])\n",
    "            first=name_email[0]\n",
    "            last=name_email[1]\n",
    "            email=name_email[2]\n",
    "            food_item=get_food_item(config_meal_item,meal_id,user_id)\n",
    "            listitems.append([meal_id,meal_time,meal_location,user_id,host_name,first,last,email,food_item])\n",
    "        # Add what each person is bringing. \n",
    "    return pd.DataFrame(listitems,columns=[\"meal_id\",\"meal_time\",\"host_name\",\"meal_location\",\"user-id\",\"name\",\"last\",\"email\",\"food_item\"])\n",
    "\n",
    "    \n",
    "    "
   ]
  },
  {
   "cell_type": "code",
   "execution_count": null,
   "metadata": {
    "collapsed": true
   },
   "outputs": [],
   "source": []
  },
  {
   "cell_type": "code",
   "execution_count": null,
   "metadata": {
    "collapsed": false
   },
   "outputs": [],
   "source": [
    "for i in config_meal_data:\n",
    "    print get_name(config_meal_data[i]['meal_createdby'])\n",
    "    "
   ]
  },
  {
   "cell_type": "code",
   "execution_count": null,
   "metadata": {
    "collapsed": true
   },
   "outputs": [],
   "source": []
  }
 ],
 "metadata": {
  "kernelspec": {
   "display_name": "Python 2",
   "language": "python",
   "name": "python2"
  },
  "language_info": {
   "codemirror_mode": {
    "name": "ipython",
    "version": 2
   },
   "file_extension": ".py",
   "mimetype": "text/x-python",
   "name": "python",
   "nbconvert_exporter": "python",
   "pygments_lexer": "ipython2",
   "version": "2.7.11"
  }
 },
 "nbformat": 4,
 "nbformat_minor": 0
}
